{
 "cells": [
  {
   "cell_type": "markdown",
   "metadata": {},
   "source": [
    "# Тут все модули, в каждой папке одно и то же"
   ]
  },
  {
   "cell_type": "code",
   "execution_count": 1,
   "metadata": {},
   "outputs": [],
   "source": [
    "import pandas as pd\n",
    "import numpy as np\n",
    "import matplotlib.pyplot as plt\n",
    "\n",
    "from catboost import CatBoostRegressor, CatBoostClassifier"
   ]
  },
  {
   "cell_type": "code",
   "execution_count": 2,
   "metadata": {},
   "outputs": [
    {
     "name": "stderr",
     "output_type": "stream",
     "text": [
      "/usr/lib/python3/dist-packages/IPython/core/interactiveshell.py:2718: DtypeWarning: Columns (9,14) have mixed types. Specify dtype option on import or set low_memory=False.\n",
      "  interactivity=interactivity, compiler=compiler, result=result)\n"
     ]
    },
    {
     "data": {
      "text/html": [
       "<div>\n",
       "<style scoped>\n",
       "    .dataframe tbody tr th:only-of-type {\n",
       "        vertical-align: middle;\n",
       "    }\n",
       "\n",
       "    .dataframe tbody tr th {\n",
       "        vertical-align: top;\n",
       "    }\n",
       "\n",
       "    .dataframe thead th {\n",
       "        text-align: right;\n",
       "    }\n",
       "</style>\n",
       "<table border=\"1\" class=\"dataframe\">\n",
       "  <thead>\n",
       "    <tr style=\"text-align: right;\">\n",
       "      <th></th>\n",
       "      <th>type</th>\n",
       "      <th>sub_type</th>\n",
       "      <th>start_date</th>\n",
       "      <th>end_date</th>\n",
       "      <th>listing_type</th>\n",
       "      <th>tom</th>\n",
       "      <th>building_age</th>\n",
       "      <th>total_floor_count</th>\n",
       "      <th>floor_no</th>\n",
       "      <th>room_count</th>\n",
       "      <th>size</th>\n",
       "      <th>address</th>\n",
       "      <th>furnished</th>\n",
       "      <th>heating_type</th>\n",
       "      <th>price</th>\n",
       "      <th>price_currency</th>\n",
       "    </tr>\n",
       "    <tr>\n",
       "      <th>id</th>\n",
       "      <th></th>\n",
       "      <th></th>\n",
       "      <th></th>\n",
       "      <th></th>\n",
       "      <th></th>\n",
       "      <th></th>\n",
       "      <th></th>\n",
       "      <th></th>\n",
       "      <th></th>\n",
       "      <th></th>\n",
       "      <th></th>\n",
       "      <th></th>\n",
       "      <th></th>\n",
       "      <th></th>\n",
       "      <th></th>\n",
       "      <th></th>\n",
       "    </tr>\n",
       "  </thead>\n",
       "  <tbody>\n",
       "    <tr>\n",
       "      <td>1</td>\n",
       "      <td>Konut</td>\n",
       "      <td>Rezidans</td>\n",
       "      <td>12/10/18</td>\n",
       "      <td>1/9/19</td>\n",
       "      <td>2</td>\n",
       "      <td>30</td>\n",
       "      <td>0</td>\n",
       "      <td>20 ve üzeri</td>\n",
       "      <td>2</td>\n",
       "      <td>2+1</td>\n",
       "      <td>90.0</td>\n",
       "      <td>İstanbul/Kartal/Kordonboyu</td>\n",
       "      <td>NaN</td>\n",
       "      <td>Fancoil</td>\n",
       "      <td>3500.0</td>\n",
       "      <td>TRY</td>\n",
       "    </tr>\n",
       "    <tr>\n",
       "      <td>2</td>\n",
       "      <td>Konut</td>\n",
       "      <td>Daire</td>\n",
       "      <td>2/13/19</td>\n",
       "      <td>NaN</td>\n",
       "      <td>1</td>\n",
       "      <td>14</td>\n",
       "      <td>0</td>\n",
       "      <td>20 ve üzeri</td>\n",
       "      <td>20 ve üzeri</td>\n",
       "      <td>1+0</td>\n",
       "      <td>43.0</td>\n",
       "      <td>İstanbul/Kartal/Kordonboyu</td>\n",
       "      <td>NaN</td>\n",
       "      <td>Fancoil</td>\n",
       "      <td>490000.0</td>\n",
       "      <td>TRY</td>\n",
       "    </tr>\n",
       "    <tr>\n",
       "      <td>3</td>\n",
       "      <td>Konut</td>\n",
       "      <td>Daire</td>\n",
       "      <td>10/9/18</td>\n",
       "      <td>11/8/18</td>\n",
       "      <td>1</td>\n",
       "      <td>30</td>\n",
       "      <td>0</td>\n",
       "      <td>1</td>\n",
       "      <td>Yüksek Giriş</td>\n",
       "      <td>2+1</td>\n",
       "      <td>NaN</td>\n",
       "      <td>Tekirdağ/Çorlu/Reşadiye</td>\n",
       "      <td>NaN</td>\n",
       "      <td>Fancoil</td>\n",
       "      <td>155000.0</td>\n",
       "      <td>TRY</td>\n",
       "    </tr>\n",
       "    <tr>\n",
       "      <td>4</td>\n",
       "      <td>Konut</td>\n",
       "      <td>Rezidans</td>\n",
       "      <td>9/10/18</td>\n",
       "      <td>10/10/18</td>\n",
       "      <td>1</td>\n",
       "      <td>30</td>\n",
       "      <td>3</td>\n",
       "      <td>20 ve üzeri</td>\n",
       "      <td>20 ve üzeri</td>\n",
       "      <td>6+1</td>\n",
       "      <td>450.0</td>\n",
       "      <td>İstanbul/Beşiktaş/Levent</td>\n",
       "      <td>NaN</td>\n",
       "      <td>Fancoil</td>\n",
       "      <td>32500000.0</td>\n",
       "      <td>TRY</td>\n",
       "    </tr>\n",
       "    <tr>\n",
       "      <td>5</td>\n",
       "      <td>Konut</td>\n",
       "      <td>Rezidans</td>\n",
       "      <td>12/10/18</td>\n",
       "      <td>1/9/19</td>\n",
       "      <td>1</td>\n",
       "      <td>30</td>\n",
       "      <td>0</td>\n",
       "      <td>20 ve üzeri</td>\n",
       "      <td>2</td>\n",
       "      <td>2+1</td>\n",
       "      <td>90.0</td>\n",
       "      <td>İstanbul/Kartal/Kordonboyu</td>\n",
       "      <td>NaN</td>\n",
       "      <td>Fancoil</td>\n",
       "      <td>1450000.0</td>\n",
       "      <td>TRY</td>\n",
       "    </tr>\n",
       "  </tbody>\n",
       "</table>\n",
       "</div>"
      ],
      "text/plain": [
       "     type  sub_type start_date  end_date  listing_type  tom building_age  \\\n",
       "id                                                                         \n",
       "1   Konut  Rezidans   12/10/18    1/9/19             2   30            0   \n",
       "2   Konut     Daire    2/13/19       NaN             1   14            0   \n",
       "3   Konut     Daire    10/9/18   11/8/18             1   30            0   \n",
       "4   Konut  Rezidans    9/10/18  10/10/18             1   30            3   \n",
       "5   Konut  Rezidans   12/10/18    1/9/19             1   30            0   \n",
       "\n",
       "   total_floor_count      floor_no room_count   size  \\\n",
       "id                                                     \n",
       "1        20 ve üzeri             2        2+1   90.0   \n",
       "2        20 ve üzeri   20 ve üzeri        1+0   43.0   \n",
       "3                  1  Yüksek Giriş        2+1    NaN   \n",
       "4        20 ve üzeri   20 ve üzeri        6+1  450.0   \n",
       "5        20 ve üzeri             2        2+1   90.0   \n",
       "\n",
       "                       address  furnished heating_type       price  \\\n",
       "id                                                                   \n",
       "1   İstanbul/Kartal/Kordonboyu        NaN      Fancoil      3500.0   \n",
       "2   İstanbul/Kartal/Kordonboyu        NaN      Fancoil    490000.0   \n",
       "3      Tekirdağ/Çorlu/Reşadiye        NaN      Fancoil    155000.0   \n",
       "4     İstanbul/Beşiktaş/Levent        NaN      Fancoil  32500000.0   \n",
       "5   İstanbul/Kartal/Kordonboyu        NaN      Fancoil   1450000.0   \n",
       "\n",
       "   price_currency  \n",
       "id                 \n",
       "1             TRY  \n",
       "2             TRY  \n",
       "3             TRY  \n",
       "4             TRY  \n",
       "5             TRY  "
      ]
     },
     "execution_count": 2,
     "metadata": {},
     "output_type": "execute_result"
    }
   ],
   "source": [
    "df = pd.read_csv('real_estate_data.csv')\n",
    "df = df.set_index('id')\n",
    "\n",
    "df_copy = df.copy()\n",
    "\n",
    "df.head()"
   ]
  },
  {
   "cell_type": "markdown",
   "metadata": {},
   "source": [
    "## Анализ признаков"
   ]
  },
  {
   "cell_type": "code",
   "execution_count": 3,
   "metadata": {},
   "outputs": [],
   "source": [
    "# Заведём множества для категоризации признаков\n",
    "\n",
    "drop_features = set()\n",
    "categorical_features = set()\n",
    "numeric_features = set()"
   ]
  },
  {
   "cell_type": "markdown",
   "metadata": {
    "heading_collapsed": true
   },
   "source": [
    "### type\n",
    "\n",
    "Type of property"
   ]
  },
  {
   "cell_type": "code",
   "execution_count": 4,
   "metadata": {
    "hidden": true
   },
   "outputs": [
    {
     "name": "stdout",
     "output_type": "stream",
     "text": [
      "Все категории: ['Konut']\n",
      "Количество пропусков: 0\n"
     ]
    }
   ],
   "source": [
    "col = 'type'\n",
    "unique = df[col].unique()\n",
    "nan_count = df[col].isna().sum()\n",
    "\n",
    "print('Все категории:', unique)\n",
    "print('Количество пропусков:', nan_count)\n"
   ]
  },
  {
   "cell_type": "code",
   "execution_count": 5,
   "metadata": {
    "hidden": true
   },
   "outputs": [],
   "source": [
    "# Вывод: эту колонку можно выбросить из обучения\n",
    "\n",
    "drop_features.add(col)"
   ]
  },
  {
   "cell_type": "markdown",
   "metadata": {
    "heading_collapsed": true
   },
   "source": [
    "### sub_type\n",
    "\n",
    "sub group of Property Type"
   ]
  },
  {
   "cell_type": "code",
   "execution_count": 6,
   "metadata": {
    "hidden": true
   },
   "outputs": [
    {
     "name": "stdout",
     "output_type": "stream",
     "text": [
      "Все категории: ['Rezidans' 'Daire' 'Villa' 'Müstakil Ev' 'Kooperatif' 'Yazlık'\n",
      " 'Komple Bina' 'Prefabrik Ev' 'Köşk / Konak / Yalı' 'Çiftlik Evi'\n",
      " 'Yalı Dairesi' 'Loft']\n",
      "Количество пропусков: 0\n"
     ]
    }
   ],
   "source": [
    "col = 'sub_type'\n",
    "unique = df[col].unique()\n",
    "nan_count = df[col].isna().sum()\n",
    "\n",
    "print('Все категории:', unique)\n",
    "print('Количество пропусков:', nan_count)\n"
   ]
  },
  {
   "cell_type": "code",
   "execution_count": 7,
   "metadata": {
    "hidden": true
   },
   "outputs": [],
   "source": [
    "# Вывод - это категориальный признак\n",
    "\n",
    "categorical_features.add(col)"
   ]
  },
  {
   "cell_type": "markdown",
   "metadata": {
    "heading_collapsed": true
   },
   "source": [
    "### listing_type\n",
    "\n",
    "Type of listing (sale / rent / etc.)"
   ]
  },
  {
   "cell_type": "code",
   "execution_count": 8,
   "metadata": {
    "hidden": true
   },
   "outputs": [
    {
     "name": "stdout",
     "output_type": "stream",
     "text": [
      "Все категории: [2 1 3]\n",
      "Количество пропусков: 0\n"
     ]
    }
   ],
   "source": [
    "col = 'listing_type'\n",
    "unique = df[col].unique()\n",
    "nan_count = df[col].isna().sum()\n",
    "\n",
    "print('Все категории:', unique)\n",
    "print('Количество пропусков:', nan_count)"
   ]
  },
  {
   "cell_type": "code",
   "execution_count": 9,
   "metadata": {
    "hidden": true
   },
   "outputs": [],
   "source": [
    "# Вывод - это категориальный признак\n",
    "\n",
    "categorical_features.add(col)"
   ]
  },
  {
   "cell_type": "markdown",
   "metadata": {
    "heading_collapsed": true
   },
   "source": [
    "### tom\n",
    "\n",
    "Time on market"
   ]
  },
  {
   "cell_type": "code",
   "execution_count": 10,
   "metadata": {
    "hidden": true
   },
   "outputs": [
    {
     "name": "stdout",
     "output_type": "stream",
     "text": [
      "Все категории: [ 30  14  54  92  11   0  13 158  94  97 154 141  52  61 118  60 136  53\n",
      " 114  34 142   7 140 117 127  47  80  42  78 161   8  64 159   1  31  48\n",
      "  28 138 120   4  93  91 124  63  23 123   6 170 130  25  46  59  73   2\n",
      "  99   9  69  21 134  44 121  71  76  79 139 151 126  90  51  55 156 100\n",
      " 152 129   3  96  98   5  62 119  12 147  89  50 128  24 106 111  88 173\n",
      " 122  83 174  19  17  68  40  15  29  67 160 110  75  37  70 131  43 145\n",
      "  66  49 150 132  72  39 167  65 153 133  74 101  16  56 103 175  10  22\n",
      "  33 144 149  86 168  77 108  38 146 166  45  32 104  87 177 148  26  27\n",
      "  84  20 107  81  82  18 180 172 155 165 113  41  95  57  58  36  35 169\n",
      "  85 143 112 163 102 116 137 125 105 162 109 157 115 179 176 171 135 164\n",
      " 178]\n",
      "Количество пропусков: 0\n"
     ]
    }
   ],
   "source": [
    "col = 'tom'\n",
    "unique = df[col].unique()\n",
    "nan_count = df[col].isna().sum()\n",
    "\n",
    "print('Все категории:', unique)\n",
    "print('Количество пропусков:', nan_count)"
   ]
  },
  {
   "cell_type": "code",
   "execution_count": 11,
   "metadata": {
    "hidden": true
   },
   "outputs": [],
   "source": [
    "# Вывод - признак численный\n",
    "numeric_features.add(col)"
   ]
  },
  {
   "cell_type": "markdown",
   "metadata": {
    "heading_collapsed": true
   },
   "source": [
    "### building_age\n",
    "\n",
    "Building age\n",
    "\n",
    "\"arası\" значит \"где-то между\"\n",
    "\"ve üzeri\" значит \"как минимум\""
   ]
  },
  {
   "cell_type": "code",
   "execution_count": 12,
   "metadata": {
    "hidden": true
   },
   "outputs": [
    {
     "name": "stdout",
     "output_type": "stream",
     "text": [
      "Все категории: ['0' '3' '2' nan '1' '6-10 arası' '4' '16-20 arası' '26-30 arası'\n",
      " '40 ve üzeri' '11-15 arası' '21-25 arası' '5' '31-35 arası' '36-40 arası']\n",
      "Количество пропусков: 27390\n"
     ]
    }
   ],
   "source": [
    "col = 'building_age'\n",
    "clean_col = 'building_age_clean'\n",
    "unique = df[col].unique()\n",
    "nan_count = df[col].isna().sum()\n",
    "\n",
    "print('Все категории:', unique)\n",
    "print('Количество пропусков:', nan_count)"
   ]
  },
  {
   "cell_type": "code",
   "execution_count": 13,
   "metadata": {
    "code_folding": [
     0
    ],
    "hidden": true
   },
   "outputs": [],
   "source": [
    "# Вывод - это численный признак c большим количеством пропусков и комментариев. Колонку нужно обработать.\n",
    "# Для начала, разберёмся в arasi - будем брать среднее\n",
    "mock_value = -1\n",
    "df[clean_col] = df[col].fillna(mock_value)\n",
    "\n",
    "def arasi_to_mean(value):\n",
    "    value = str(value)\n",
    "    \n",
    "    if 'arası' in value:\n",
    "        value = value.split(' ')[0]  # Отбросили arasi\n",
    "        low, high = value.split('-') # Взяли нижнюю и верхнюю границу\n",
    "        low, high = int(low), int(high)\n",
    "        \n",
    "        mean = (low + high) / 2\n",
    "        \n",
    "        return int(mean)\n",
    "    \n",
    "    return value\n",
    "\n",
    "# Затем оставим только числа.\n",
    "def preserve_only_digits(value):\n",
    "    digits = [char for char in str(value) if char in '1234567890-.']\n",
    "    value = ''.join(digits) # Сделаем из списка строку\n",
    "    \n",
    "    return value\n",
    "\n",
    "df[clean_col] = df[clean_col].apply(arasi_to_mean)\n",
    "df[clean_col] = df[clean_col].apply(preserve_only_digits)\n",
    "df[clean_col] = df[clean_col].astype(int)\n",
    "\n",
    "# И выберем стратегию заполнения пропусков. Варианты mean, median, mock\n",
    "# mean - среднее, mode - мода распределения, median -  mock - специальное значение, которое указывает на пропуск, например, -1\n",
    "\n",
    "# С mean и mock всё яснор\n",
    "not_null = df[clean_col][df[clean_col].ne(mock_value)] # Спрячем пропуски\n",
    "mean = int(not_null.mean())\n",
    "age_fill_dict = dict(mean=mean, mock=mock_value)\n",
    "\n",
    "# А для моды нужно провести анализ:"
   ]
  },
  {
   "cell_type": "code",
   "execution_count": 14,
   "metadata": {
    "hidden": true
   },
   "outputs": [
    {
     "data": {
      "image/png": "[encoded data removed]",
      "text/plain": [
       "<Figure size 432x288 with 1 Axes>"
      ]
     },
     "metadata": {},
     "output_type": "display_data"
    }
   ],
   "source": [
    "not_null.hist(bins=41);"
   ]
  },
  {
   "cell_type": "code",
   "execution_count": 15,
   "metadata": {
    "hidden": true
   },
   "outputs": [],
   "source": [
    "# Вывод - мода = 0\n",
    "\n",
    "age_fill_dict['mode'] = 0\n",
    "drop_features.add(col)\n",
    "numeric_features.add(clean_col)"
   ]
  },
  {
   "cell_type": "markdown",
   "metadata": {
    "heading_collapsed": true
   },
   "source": [
    "### total_floor_count\n",
    "\n",
    "Count of total floors in the building\n",
    "\n",
    "\"arası\" значит \"где-то между\"\n",
    "\"ve üzeri\" значит \"как минимум\""
   ]
  },
  {
   "cell_type": "code",
   "execution_count": 16,
   "metadata": {
    "hidden": true
   },
   "outputs": [
    {
     "name": "stdout",
     "output_type": "stream",
     "text": [
      "Все категории: ['20 ve üzeri' '1' '10-20 arası' '4' '2' '3' '8' '7' '6' '5' '10' nan '9']\n",
      "Количество пропусков: 28021\n"
     ]
    }
   ],
   "source": [
    "col = 'total_floor_count'\n",
    "clean_col = 'total_floor_count_clean'\n",
    "\n",
    "unique = df[col].unique()\n",
    "nan_count = df[col].isna().sum()\n",
    "\n",
    "print('Все категории:', unique)\n",
    "print('Количество пропусков:', nan_count)"
   ]
  },
  {
   "cell_type": "code",
   "execution_count": 17,
   "metadata": {
    "code_folding": [],
    "hidden": true
   },
   "outputs": [],
   "source": [
    "# Вывод - это численный признак c большим количеством пропусков и комментариев. Колонку нужно обработать.\n",
    "# Для начала, разберёмся в arasi - будем брать среднее\n",
    "mock_value = -1\n",
    "df[clean_col] = df[col].fillna(mock_value)\n",
    "\n",
    "def arasi_to_mean(value):\n",
    "    value = str(value)\n",
    "    \n",
    "    if 'arası' in value:\n",
    "        value = value.split(' ')[0]  # Отбросили arasi\n",
    "        low, high = value.split('-') # Взяли нижнюю и верхнюю границу\n",
    "        low, high = int(low), int(high)\n",
    "        \n",
    "        mean = (low + high) / 2\n",
    "        \n",
    "        return int(mean)\n",
    "    \n",
    "    return value\n",
    "\n",
    "# Затем оставим только числа.\n",
    "def preserve_only_digits(value):\n",
    "    digits = [char for char in str(value) if char in '1234567890-.']\n",
    "    value = ''.join(digits) # Сделаем из списка строку\n",
    "    \n",
    "    return value\n",
    "\n",
    "df[clean_col] = df[clean_col].apply(arasi_to_mean)\n",
    "df[clean_col] = df[clean_col].apply(preserve_only_digits)\n",
    "df[clean_col] = df[clean_col].astype(int)\n",
    "\n",
    "# И выберем стратегию заполнения пропусков. Варианты mean, median, mock\n",
    "# mean - среднее, mode - мода распределения, median -  mock - специальное значение, которое указывает на пропуск, например, -1\n",
    "\n",
    "# С mean и mock всё яснор\n",
    "not_null = df[clean_col][df[clean_col].ne(mock_value)] # Спрячем пропуски\n",
    "mean = int(not_null.mean())\n",
    "floor_fill_dict = dict(mean=mean, mock=mock_value)\n",
    "\n",
    "# А для моды нужно провести анализ:"
   ]
  },
  {
   "cell_type": "code",
   "execution_count": 18,
   "metadata": {
    "hidden": true
   },
   "outputs": [
    {
     "data": {
      "text/plain": [
       "<matplotlib.axes._subplots.AxesSubplot at 0x7f2ecac7c780>"
      ]
     },
     "execution_count": 18,
     "metadata": {},
     "output_type": "execute_result"
    },
    {
     "data": {
      "image/png": "[encoded data removed]",
      "text/plain": [
       "<Figure size 432x288 with 1 Axes>"
      ]
     },
     "metadata": {},
     "output_type": "display_data"
    }
   ],
   "source": [
    "not_null.hist(bins=20)"
   ]
  },
  {
   "cell_type": "code",
   "execution_count": 19,
   "metadata": {
    "hidden": true
   },
   "outputs": [],
   "source": [
    "# Вывод - модa = 4\n",
    "floor_fill_dict['mode'] = 4\n",
    "\n",
    "drop_features.add(col)\n",
    "numeric_features.add(clean_col)"
   ]
  },
  {
   "cell_type": "markdown",
   "metadata": {
    "heading_collapsed": true
   },
   "source": [
    "### room_count"
   ]
  },
  {
   "cell_type": "code",
   "execution_count": 20,
   "metadata": {
    "hidden": true
   },
   "outputs": [
    {
     "name": "stdout",
     "output_type": "stream",
     "text": [
      "Все категории: ['2+1' '1+0' '6+1' '1+1' '3+1' '4+1' '2+2' '9+2' '5+2' '6+3' '6+2' '4+3'\n",
      " '9+5' '5+1' '3+2' '+' '4+2' '7+2' '9+4' '8+2' '8+3' '10+0' '8+4' '8+1'\n",
      " '7+1' '10+1' '9+3' '7+3' '10+2' '5+3' '9+1' '0+0' '10+5' '10+3' '10+4'\n",
      " '11+3' '15+5']\n",
      "Количество пропусков: 0\n"
     ]
    }
   ],
   "source": [
    "col = 'room_count'\n",
    "unique = df[col].unique()\n",
    "nan_count = df[col].isna().sum()\n",
    "\n",
    "print('Все категории:', unique)\n",
    "print('Количество пропусков:', nan_count)"
   ]
  },
  {
   "cell_type": "code",
   "execution_count": 21,
   "metadata": {
    "hidden": true
   },
   "outputs": [],
   "source": [
    "# Эту колонку будем делить на две:\n",
    "def get_room_count(room_count, which='total'):\n",
    "    if room_count == '+':\n",
    "        return 0\n",
    "    \n",
    "    total, living = room_count.split('+')\n",
    "    \n",
    "    if which == 'total':\n",
    "        return int(total)\n",
    "    \n",
    "    return int(living)\n",
    "\n",
    "df['total_room'] = df[col].apply(get_room_count)\n",
    "df['living_room'] = df[col].apply(lambda x: get_room_count(x, 'living'))"
   ]
  },
  {
   "cell_type": "code",
   "execution_count": 22,
   "metadata": {
    "hidden": true
   },
   "outputs": [],
   "source": [
    "drop_features.add(col)\n",
    "\n",
    "numeric_features.add('total_room')\n",
    "numeric_features.add('living_room')"
   ]
  },
  {
   "cell_type": "code",
   "execution_count": null,
   "metadata": {
    "hidden": true
   },
   "outputs": [],
   "source": []
  },
  {
   "cell_type": "markdown",
   "metadata": {
    "heading_collapsed": true
   },
   "source": [
    "### price_currency"
   ]
  },
  {
   "cell_type": "code",
   "execution_count": 23,
   "metadata": {
    "hidden": true
   },
   "outputs": [
    {
     "name": "stdout",
     "output_type": "stream",
     "text": [
      "Все категории: ['TRY' 'GBP' 'EUR' 'USD' nan]\n",
      "Количество пропусков: 715\n"
     ]
    }
   ],
   "source": [
    "col = 'price_currency'\n",
    "unique = df[col].unique()\n",
    "nan_count = df[col].isna().sum()\n",
    "\n",
    "print('Все категории:', unique)\n",
    "print('Количество пропусков:', nan_count)"
   ]
  },
  {
   "cell_type": "code",
   "execution_count": 24,
   "metadata": {
    "hidden": true
   },
   "outputs": [
    {
     "name": "stdout",
     "output_type": "stream",
     "text": [
      "Подсчёт количества использованных в сделках валют\n"
     ]
    },
    {
     "data": {
      "text/plain": [
       "TRY    400677\n",
       "EUR       922\n",
       "GBP       621\n",
       "USD       552\n",
       "Name: price_currency, dtype: int64"
      ]
     },
     "execution_count": 24,
     "metadata": {},
     "output_type": "execute_result"
    }
   ],
   "source": [
    "# Вывод - признак категориальный, пропуски придётся откинуть, остальное - сконвертировать.\n",
    "df = df.dropna(subset=[col])\n",
    "\n",
    "print('Подсчёт количества использованных в сделках валют')\n",
    "df[col].value_counts()"
   ]
  },
  {
   "cell_type": "code",
   "execution_count": 25,
   "metadata": {
    "hidden": true
   },
   "outputs": [],
   "source": [
    "new_col = 'conversion_coeff'\n",
    "new_price_col = 'conversed_price'\n",
    "\n",
    "currency_rate = dict(TRY=1, EUR=6.49, USD=5.89, GBP=7.22)\n",
    "df[new_col] = df[col].apply(currency_rate.get)\n",
    "df[new_price_col] = df['price'] * df[new_col]\n",
    "\n",
    "drop_features.add(new_col)\n",
    "drop_features.add(col)\n",
    "drop_features.add('price')"
   ]
  },
  {
   "cell_type": "markdown",
   "metadata": {
    "heading_collapsed": true
   },
   "source": [
    "### heating_type\n",
    "\n",
    "Different types of heating systems"
   ]
  },
  {
   "cell_type": "code",
   "execution_count": 26,
   "metadata": {
    "hidden": true
   },
   "outputs": [
    {
     "name": "stdout",
     "output_type": "stream",
     "text": [
      "Все категории: ['Fancoil' 'Yok' 'Kalorifer (Doğalgaz)' 'Kalorifer (Kömür)'\n",
      " 'Kombi (Elektrikli)' 'Klima' 'Kombi (Doğalgaz)'\n",
      " 'Merkezi Sistem (Isı Payı Ölçer)' 'Merkezi Sistem' 'Soba (Kömür)'\n",
      " 'Yerden Isıtma' 'Soba (Doğalgaz)' 'Güneş Enerjisi'\n",
      " 'Kalorifer (Akaryakıt)' 'Jeotermal' 'Kat Kaloriferi' nan]\n",
      "Количество пропусков: 27580\n"
     ]
    }
   ],
   "source": [
    "col = 'heating_type'\n",
    "unique = df[col].unique()\n",
    "nan_count = df[col].isna().sum()\n",
    "\n",
    "print('Все категории:', unique)\n",
    "print('Количество пропусков:', nan_count)"
   ]
  },
  {
   "cell_type": "code",
   "execution_count": 27,
   "metadata": {
    "hidden": true
   },
   "outputs": [],
   "source": [
    "# Категориальный признак, заполним пустоты специальными значением\n",
    "mock_value = 'NODATA!'\n",
    "df[col] = df[col].fillna(mock_value)\n",
    "\n",
    "categorical_features.add(col)"
   ]
  },
  {
   "cell_type": "markdown",
   "metadata": {
    "heading_collapsed": true
   },
   "source": [
    "### furnished"
   ]
  },
  {
   "cell_type": "code",
   "execution_count": 28,
   "metadata": {
    "hidden": true
   },
   "outputs": [
    {
     "name": "stdout",
     "output_type": "stream",
     "text": [
      "Все категории: [nan]\n",
      "Количество пропусков: 402772\n"
     ]
    }
   ],
   "source": [
    "col = 'furnished'\n",
    "unique = df[col].unique()\n",
    "nan_count = df[col].isna().sum()\n",
    "\n",
    "print('Все категории:', unique)\n",
    "print('Количество пропусков:', nan_count)"
   ]
  },
  {
   "cell_type": "code",
   "execution_count": 29,
   "metadata": {
    "hidden": true
   },
   "outputs": [],
   "source": [
    "# Вывод - пустая колонка, отбрасываем\n",
    "\n",
    "drop_features.add(col)"
   ]
  },
  {
   "cell_type": "markdown",
   "metadata": {
    "heading_collapsed": true
   },
   "source": [
    "### floor_no"
   ]
  },
  {
   "cell_type": "code",
   "execution_count": 30,
   "metadata": {
    "hidden": true
   },
   "outputs": [
    {
     "name": "stdout",
     "output_type": "stream",
     "text": [
      "Все категории: ['2' '20 ve üzeri' 'Yüksek Giriş' '10' '14' nan 'Kot 2' 'Asma Kat'\n",
      " 'Bahçe katı' '11' '3' '13' '7' '16' 'Müstakil' 'Zemin Kat' '19' '4' '5'\n",
      " 'En Üst Kat' '8' '15' '1' 'Giriş Katı' '9' 'Çatı Katı' '12' '17' '6'\n",
      " 'Kot 4' 'Kot 1' 'Kot 3' '18' 'Teras Kat' 'Komple' 'Bodrum Kat' 1 2 3 12 4\n",
      " 5 6 7 8]\n",
      "Количество пропусков: 34698\n"
     ]
    }
   ],
   "source": [
    "col = 'floor_no'\n",
    "clean_col = 'floor_no_clean'\n",
    "unique = df[col].unique()\n",
    "nan_count = df[col].isna().sum()\n",
    "\n",
    "print('Все категории:', unique)\n",
    "print('Количество пропусков:', nan_count)"
   ]
  },
  {
   "cell_type": "code",
   "execution_count": 31,
   "metadata": {
    "hidden": true
   },
   "outputs": [],
   "source": [
    "# Зависимость цены от этажа - явно нелинейная, особенно при наличии пентхауса. Сейчас мы найдём такие записи, которые говорят об одном и том же и заменим. Всё остальное пойдёт в категории.\n",
    "\n",
    "floor_no_replace_dict = {'Yüksek Giriş': '1', 'Zemin Kat': '0', 'Kot 1': '0', 'Giriş Katı': '0'}\n",
    "\n",
    "df[clean_col] = df[col].apply(lambda x: floor_no_replace_dict.get(x, x))\n",
    "df[clean_col] = df[clean_col].fillna('unknown')\n",
    "df[clean_col] = df[clean_col].astype(str)\n",
    "\n",
    "drop_features.add(col)\n",
    "categorical_features.add(clean_col)"
   ]
  },
  {
   "cell_type": "markdown",
   "metadata": {
    "heading_collapsed": true
   },
   "source": [
    "### address"
   ]
  },
  {
   "cell_type": "code",
   "execution_count": 32,
   "metadata": {
    "hidden": true
   },
   "outputs": [
    {
     "name": "stdout",
     "output_type": "stream",
     "text": [
      "Все категории: ['İstanbul/Kartal/Kordonboyu' 'Tekirdağ/Çorlu/Reşadiye'\n",
      " 'İstanbul/Beşiktaş/Levent' ... 'Antalya/Korkuteli/Ulucak'\n",
      " 'Kastamonu/Merkez/Kırkçeşme' 'İzmir/Tire/Gökçen']\n",
      "Количество пропусков: 0\n"
     ]
    }
   ],
   "source": [
    "col = 'address'\n",
    "unique = df[col].unique()\n",
    "nan_count = df[col].isna().sum()\n",
    "\n",
    "print('Все категории:', unique)\n",
    "print('Количество пропусков:', nan_count)"
   ]
  },
  {
   "cell_type": "code",
   "execution_count": 33,
   "metadata": {
    "hidden": true
   },
   "outputs": [],
   "source": [
    "# Вывод - определяем в категориальные без обработки\n",
    "categorical_features.add(col)"
   ]
  },
  {
   "cell_type": "markdown",
   "metadata": {
    "heading_collapsed": true
   },
   "source": [
    "## Временные фичи"
   ]
  },
  {
   "cell_type": "code",
   "execution_count": 34,
   "metadata": {
    "hidden": true
   },
   "outputs": [
    {
     "name": "stdout",
     "output_type": "stream",
     "text": [
      "Количество пропусков: 0\n"
     ]
    }
   ],
   "source": [
    "col = 'start_date'\n",
    "datetime_col = 'start_date_dt'\n",
    "\n",
    "df[datetime_col] = pd.to_datetime(df[col])\n",
    "\n",
    "nan_count = df[datetime_col].isna().sum()\n",
    "\n",
    "print('Количество пропусков:', nan_count)"
   ]
  },
  {
   "cell_type": "code",
   "execution_count": 35,
   "metadata": {
    "hidden": true
   },
   "outputs": [
    {
     "name": "stdout",
     "output_type": "stream",
     "text": [
      "Количество пропусков: 136474\n"
     ]
    }
   ],
   "source": [
    "col = 'end_date'\n",
    "datetime_col = 'end_date_dt'\n",
    "\n",
    "df[datetime_col] = pd.to_datetime(df[col])\n",
    "\n",
    "nan_count = df[datetime_col].isna().sum()\n",
    "\n",
    "print('Количество пропусков:', nan_count)"
   ]
  },
  {
   "cell_type": "code",
   "execution_count": 36,
   "metadata": {
    "hidden": true
   },
   "outputs": [],
   "source": [
    "# Заменим все временные фичи на количество дней с самой ранней даты.\n",
    "# Пропуски end_date заполним самой поздней датой\n",
    "earlier = df['start_date_dt'].min()\n",
    "last = df['end_date_dt'].max()\n",
    "\n",
    "df['end_date_dt'] = df['end_date_dt'].fillna(last)\n",
    "\n",
    "df['start_date_days'] = df['start_date_dt'].apply(lambda x: (x - earlier).days) \n",
    "df['end_date_days'] = df['end_date_dt'].apply(lambda x: (x - earlier).days) \n",
    "\n",
    "drop_features.add('start_date')\n",
    "drop_features.add('start_date_dt')\n",
    "drop_features.add('end_date')\n",
    "drop_features.add('end_date_dt')\n",
    "\n",
    "numeric_features.add('start_date_days')\n",
    "numeric_features.add('end_date_days')"
   ]
  },
  {
   "cell_type": "markdown",
   "metadata": {},
   "source": [
    "# Подготовка исправленного датафрейма для обучения"
   ]
  },
  {
   "cell_type": "code",
   "execution_count": 37,
   "metadata": {},
   "outputs": [
    {
     "data": {
      "text/html": [
       "<div>\n",
       "<style scoped>\n",
       "    .dataframe tbody tr th:only-of-type {\n",
       "        vertical-align: middle;\n",
       "    }\n",
       "\n",
       "    .dataframe tbody tr th {\n",
       "        vertical-align: top;\n",
       "    }\n",
       "\n",
       "    .dataframe thead th {\n",
       "        text-align: right;\n",
       "    }\n",
       "</style>\n",
       "<table border=\"1\" class=\"dataframe\">\n",
       "  <thead>\n",
       "    <tr style=\"text-align: right;\">\n",
       "      <th></th>\n",
       "      <th>type</th>\n",
       "      <th>sub_type</th>\n",
       "      <th>start_date</th>\n",
       "      <th>end_date</th>\n",
       "      <th>listing_type</th>\n",
       "      <th>tom</th>\n",
       "      <th>building_age</th>\n",
       "      <th>total_floor_count</th>\n",
       "      <th>floor_no</th>\n",
       "      <th>room_count</th>\n",
       "      <th>...</th>\n",
       "      <th>total_floor_count_clean</th>\n",
       "      <th>total_room</th>\n",
       "      <th>living_room</th>\n",
       "      <th>conversion_coeff</th>\n",
       "      <th>conversed_price</th>\n",
       "      <th>floor_no_clean</th>\n",
       "      <th>start_date_dt</th>\n",
       "      <th>end_date_dt</th>\n",
       "      <th>start_date_days</th>\n",
       "      <th>end_date_days</th>\n",
       "    </tr>\n",
       "    <tr>\n",
       "      <th>id</th>\n",
       "      <th></th>\n",
       "      <th></th>\n",
       "      <th></th>\n",
       "      <th></th>\n",
       "      <th></th>\n",
       "      <th></th>\n",
       "      <th></th>\n",
       "      <th></th>\n",
       "      <th></th>\n",
       "      <th></th>\n",
       "      <th></th>\n",
       "      <th></th>\n",
       "      <th></th>\n",
       "      <th></th>\n",
       "      <th></th>\n",
       "      <th></th>\n",
       "      <th></th>\n",
       "      <th></th>\n",
       "      <th></th>\n",
       "      <th></th>\n",
       "      <th></th>\n",
       "    </tr>\n",
       "  </thead>\n",
       "  <tbody>\n",
       "    <tr>\n",
       "      <td>1</td>\n",
       "      <td>Konut</td>\n",
       "      <td>Rezidans</td>\n",
       "      <td>12/10/18</td>\n",
       "      <td>1/9/19</td>\n",
       "      <td>2</td>\n",
       "      <td>30</td>\n",
       "      <td>0</td>\n",
       "      <td>20 ve üzeri</td>\n",
       "      <td>2</td>\n",
       "      <td>2+1</td>\n",
       "      <td>...</td>\n",
       "      <td>20</td>\n",
       "      <td>2</td>\n",
       "      <td>1</td>\n",
       "      <td>1.0</td>\n",
       "      <td>3500.0</td>\n",
       "      <td>2</td>\n",
       "      <td>2018-12-10</td>\n",
       "      <td>2019-01-09</td>\n",
       "      <td>101</td>\n",
       "      <td>131</td>\n",
       "    </tr>\n",
       "    <tr>\n",
       "      <td>2</td>\n",
       "      <td>Konut</td>\n",
       "      <td>Daire</td>\n",
       "      <td>2/13/19</td>\n",
       "      <td>NaN</td>\n",
       "      <td>1</td>\n",
       "      <td>14</td>\n",
       "      <td>0</td>\n",
       "      <td>20 ve üzeri</td>\n",
       "      <td>20 ve üzeri</td>\n",
       "      <td>1+0</td>\n",
       "      <td>...</td>\n",
       "      <td>20</td>\n",
       "      <td>1</td>\n",
       "      <td>0</td>\n",
       "      <td>1.0</td>\n",
       "      <td>490000.0</td>\n",
       "      <td>20 ve üzeri</td>\n",
       "      <td>2019-02-13</td>\n",
       "      <td>2019-02-27</td>\n",
       "      <td>166</td>\n",
       "      <td>180</td>\n",
       "    </tr>\n",
       "    <tr>\n",
       "      <td>3</td>\n",
       "      <td>Konut</td>\n",
       "      <td>Daire</td>\n",
       "      <td>10/9/18</td>\n",
       "      <td>11/8/18</td>\n",
       "      <td>1</td>\n",
       "      <td>30</td>\n",
       "      <td>0</td>\n",
       "      <td>1</td>\n",
       "      <td>Yüksek Giriş</td>\n",
       "      <td>2+1</td>\n",
       "      <td>...</td>\n",
       "      <td>1</td>\n",
       "      <td>2</td>\n",
       "      <td>1</td>\n",
       "      <td>1.0</td>\n",
       "      <td>155000.0</td>\n",
       "      <td>1</td>\n",
       "      <td>2018-10-09</td>\n",
       "      <td>2018-11-08</td>\n",
       "      <td>39</td>\n",
       "      <td>69</td>\n",
       "    </tr>\n",
       "    <tr>\n",
       "      <td>4</td>\n",
       "      <td>Konut</td>\n",
       "      <td>Rezidans</td>\n",
       "      <td>9/10/18</td>\n",
       "      <td>10/10/18</td>\n",
       "      <td>1</td>\n",
       "      <td>30</td>\n",
       "      <td>3</td>\n",
       "      <td>20 ve üzeri</td>\n",
       "      <td>20 ve üzeri</td>\n",
       "      <td>6+1</td>\n",
       "      <td>...</td>\n",
       "      <td>20</td>\n",
       "      <td>6</td>\n",
       "      <td>1</td>\n",
       "      <td>1.0</td>\n",
       "      <td>32500000.0</td>\n",
       "      <td>20 ve üzeri</td>\n",
       "      <td>2018-09-10</td>\n",
       "      <td>2018-10-10</td>\n",
       "      <td>10</td>\n",
       "      <td>40</td>\n",
       "    </tr>\n",
       "    <tr>\n",
       "      <td>5</td>\n",
       "      <td>Konut</td>\n",
       "      <td>Rezidans</td>\n",
       "      <td>12/10/18</td>\n",
       "      <td>1/9/19</td>\n",
       "      <td>1</td>\n",
       "      <td>30</td>\n",
       "      <td>0</td>\n",
       "      <td>20 ve üzeri</td>\n",
       "      <td>2</td>\n",
       "      <td>2+1</td>\n",
       "      <td>...</td>\n",
       "      <td>20</td>\n",
       "      <td>2</td>\n",
       "      <td>1</td>\n",
       "      <td>1.0</td>\n",
       "      <td>1450000.0</td>\n",
       "      <td>2</td>\n",
       "      <td>2018-12-10</td>\n",
       "      <td>2019-01-09</td>\n",
       "      <td>101</td>\n",
       "      <td>131</td>\n",
       "    </tr>\n",
       "  </tbody>\n",
       "</table>\n",
       "<p>5 rows × 27 columns</p>\n",
       "</div>"
      ],
      "text/plain": [
       "     type  sub_type start_date  end_date  listing_type  tom building_age  \\\n",
       "id                                                                         \n",
       "1   Konut  Rezidans   12/10/18    1/9/19             2   30            0   \n",
       "2   Konut     Daire    2/13/19       NaN             1   14            0   \n",
       "3   Konut     Daire    10/9/18   11/8/18             1   30            0   \n",
       "4   Konut  Rezidans    9/10/18  10/10/18             1   30            3   \n",
       "5   Konut  Rezidans   12/10/18    1/9/19             1   30            0   \n",
       "\n",
       "   total_floor_count      floor_no room_count  ...  total_floor_count_clean  \\\n",
       "id                                             ...                            \n",
       "1        20 ve üzeri             2        2+1  ...                       20   \n",
       "2        20 ve üzeri   20 ve üzeri        1+0  ...                       20   \n",
       "3                  1  Yüksek Giriş        2+1  ...                        1   \n",
       "4        20 ve üzeri   20 ve üzeri        6+1  ...                       20   \n",
       "5        20 ve üzeri             2        2+1  ...                       20   \n",
       "\n",
       "   total_room  living_room conversion_coeff  conversed_price floor_no_clean  \\\n",
       "id                                                                            \n",
       "1           2            1              1.0           3500.0              2   \n",
       "2           1            0              1.0         490000.0    20 ve üzeri   \n",
       "3           2            1              1.0         155000.0              1   \n",
       "4           6            1              1.0       32500000.0    20 ve üzeri   \n",
       "5           2            1              1.0        1450000.0              2   \n",
       "\n",
       "    start_date_dt  end_date_dt  start_date_days  end_date_days  \n",
       "id                                                              \n",
       "1      2018-12-10   2019-01-09              101            131  \n",
       "2      2019-02-13   2019-02-27              166            180  \n",
       "3      2018-10-09   2018-11-08               39             69  \n",
       "4      2018-09-10   2018-10-10               10             40  \n",
       "5      2018-12-10   2019-01-09              101            131  \n",
       "\n",
       "[5 rows x 27 columns]"
      ]
     },
     "execution_count": 37,
     "metadata": {},
     "output_type": "execute_result"
    }
   ],
   "source": [
    "learn_df = df.copy()\n",
    "learn_df.head()"
   ]
  },
  {
   "cell_type": "markdown",
   "metadata": {},
   "source": [
    "### Поиск выбросов"
   ]
  },
  {
   "cell_type": "code",
   "execution_count": 38,
   "metadata": {},
   "outputs": [
    {
     "data": {
      "image/png": "[encoded data removed]",
      "text/plain": [
       "<Figure size 432x288 with 1 Axes>"
      ]
     },
     "metadata": {},
     "output_type": "display_data"
    }
   ],
   "source": [
    "# Посмотрим на гистограмму цены. Распределение цен имеет логнормальную природу. Значит, возьмём логарифм и будем и в дальнейшим работать с ним:\n",
    "learn_df = learn_df[learn_df.price > 0]\n",
    "learn_df['logprice'] = np.log(learn_df.conversed_price)\n",
    "\n",
    "target = learn_df.logprice\n",
    "target.hist(bins=10);"
   ]
  },
  {
   "cell_type": "code",
   "execution_count": 39,
   "metadata": {},
   "outputs": [
    {
     "data": {
      "image/png": "[encoded data removed]",
      "text/plain": [
       "<Figure size 432x288 with 1 Axes>"
      ]
     },
     "metadata": {},
     "output_type": "display_data"
    }
   ],
   "source": [
    "# Сразу же видим два пика распределение. Предположим, что на это влияет listing_type\n",
    "# Разделим и посмотрим:\n",
    "\n",
    "for ltype in learn_df.listing_type.unique():\n",
    "    rows = learn_df.listing_type.eq(ltype)\n",
    "    ltype_df = learn_df[rows]\n",
    "    \n",
    "    logprice = ltype_df.logprice\n",
    "    plt.hist(logprice, bins=20)"
   ]
  },
  {
   "cell_type": "code",
   "execution_count": 40,
   "metadata": {},
   "outputs": [
    {
     "data": {
      "image/png": "[encoded data removed]",
      "text/plain": [
       "<Figure size 432x288 with 1 Axes>"
      ]
     },
     "metadata": {},
     "output_type": "display_data"
    }
   ],
   "source": [
    "# Так оно и есть. Очистим по правилу трёх сигм данные для каждого из распределений\n",
    "for ltype in learn_df.listing_type.unique():\n",
    "    rows = learn_df.listing_type.eq(ltype)\n",
    "    ltype_df = learn_df[rows]\n",
    "    target = ltype_df.logprice\n",
    "    \n",
    "    mean, std = target.mean(), target.std()\n",
    "    outliers = (abs(target - mean) > 3 * std)\n",
    "    outliers = target[outliers] \n",
    "    \n",
    "    learning_df = learn_df.drop(outliers.index)  # Удаляем выбросы\n",
    "    logprice = ltype_df.logprice\n",
    "    plt.hist(logprice, bins=20)"
   ]
  },
  {
   "cell_type": "code",
   "execution_count": 41,
   "metadata": {},
   "outputs": [],
   "source": [
    "# Удалим лишние колонки:\n",
    "drop_features.add('conversed_price')\n",
    "learn_df = learn_df.drop(columns=drop_features)"
   ]
  },
  {
   "cell_type": "markdown",
   "metadata": {},
   "source": [
    "### Задача классификации"
   ]
  },
  {
   "cell_type": "code",
   "execution_count": 42,
   "metadata": {},
   "outputs": [],
   "source": [
    "def train_val_split(df, val_ratio=0.2):\n",
    "    rnd = np.random.rand(df.shape[0])\n",
    "    \n",
    "    train_rows = rnd > val_ratio\n",
    "    val_rows = ~train_rows\n",
    "    \n",
    "    train_df = df[train_rows]\n",
    "    val_df = df[val_rows]\n",
    "    \n",
    "    return train_df, val_df\n",
    "\n",
    "target = 'building_age'\n",
    "class_df = learn_df.copy().drop(columns='building_age_clean')\n",
    "class_df[target] = df.loc[class_df.index, target]\n",
    "class_df = class_df.dropna(subset=[target])\n",
    "\n",
    "# Заменим названия классов на порядковые числительные от 0 до N - 1, где N - количество возможных классов\n",
    "target_encoder = {age: n for n, age in enumerate(class_df[target].unique())} \n",
    "class_df[target] = class_df[target].apply(target_encoder.get)\n",
    "\n",
    "target_col = 'building_age'\n",
    "train_df, val_df = train_val_split(class_df.copy())\n",
    "\n",
    "train_x, train_y = train_df.drop(columns=[target_col]), train_df[target_col]\n",
    "val_x, val_y = val_df.drop(columns=[target_col]), val_df[target_col]"
   ]
  },
  {
   "cell_type": "code",
   "execution_count": 43,
   "metadata": {},
   "outputs": [],
   "source": [
    "categorical_columns = [n for n, col in enumerate(train_x.columns) if col in categorical_features]\n",
    "\n",
    "experiment_params = dict()\n",
    "experiment_params['iterations'] = 100\n",
    "experiment_params['learning_rate'] = 0.1\n",
    "experiment_params['depth'] = 3\n",
    "experiment_params['cat_features'] = categorical_columns\n",
    "experiment_params['verbose'] = 1\n",
    "experiment_params['loss_function'] = 'MultiClass'\n",
    "experiment_params['classes_count'] = len(val_y.unique())\n",
    "# experiment_params['task_type'] = 'GPU' \n",
    "\n",
    "model = CatBoostClassifier(**experiment_params)"
   ]
  },
  {
   "cell_type": "code",
   "execution_count": 44,
   "metadata": {},
   "outputs": [
    {
     "name": "stdout",
     "output_type": "stream",
     "text": [
      "0:\tlearn: 2.4635370\ttest: 2.4644289\tbest: 2.4644289 (0)\ttotal: 2.69s\tremaining: 4m 26s\n",
      "1:\tlearn: 2.3651614\ttest: 2.3670744\tbest: 2.3670744 (1)\ttotal: 4.91s\tremaining: 4m\n",
      "2:\tlearn: 2.2989298\ttest: 2.3009540\tbest: 2.3009540 (2)\ttotal: 7.2s\tremaining: 3m 52s\n",
      "3:\tlearn: 2.2501825\ttest: 2.2524083\tbest: 2.2524083 (3)\ttotal: 9.31s\tremaining: 3m 43s\n",
      "4:\tlearn: 2.2101368\ttest: 2.2126070\tbest: 2.2126070 (4)\ttotal: 11.5s\tremaining: 3m 39s\n",
      "5:\tlearn: 2.1804678\ttest: 2.1829599\tbest: 2.1829599 (5)\ttotal: 13.7s\tremaining: 3m 35s\n",
      "6:\tlearn: 2.1563287\ttest: 2.1588874\tbest: 2.1588874 (6)\ttotal: 16s\tremaining: 3m 32s\n",
      "7:\tlearn: 2.1114312\ttest: 2.1115108\tbest: 2.1115108 (7)\ttotal: 18.3s\tremaining: 3m 30s\n",
      "8:\tlearn: 2.0734126\ttest: 2.0715827\tbest: 2.0715827 (8)\ttotal: 20.5s\tremaining: 3m 26s\n",
      "9:\tlearn: 2.0421876\ttest: 2.0386702\tbest: 2.0386702 (9)\ttotal: 23.1s\tremaining: 3m 28s\n",
      "10:\tlearn: 2.0171975\ttest: 2.0125831\tbest: 2.0125831 (10)\ttotal: 25.4s\tremaining: 3m 25s\n",
      "11:\tlearn: 1.9951955\ttest: 1.9893360\tbest: 1.9893360 (11)\ttotal: 27.6s\tremaining: 3m 22s\n",
      "12:\tlearn: 1.9761810\ttest: 1.9693710\tbest: 1.9693710 (12)\ttotal: 29.7s\tremaining: 3m 18s\n",
      "13:\tlearn: 1.9609653\ttest: 1.9533520\tbest: 1.9533520 (13)\ttotal: 31.9s\tremaining: 3m 15s\n",
      "14:\tlearn: 1.9460775\ttest: 1.9376387\tbest: 1.9376387 (14)\ttotal: 34.1s\tremaining: 3m 13s\n",
      "15:\tlearn: 1.9339570\ttest: 1.9246438\tbest: 1.9246438 (15)\ttotal: 36.2s\tremaining: 3m 10s\n",
      "16:\tlearn: 1.9234968\ttest: 1.9135192\tbest: 1.9135192 (16)\ttotal: 38.4s\tremaining: 3m 7s\n",
      "17:\tlearn: 1.9138546\ttest: 1.9031984\tbest: 1.9031984 (17)\ttotal: 40.6s\tremaining: 3m 4s\n",
      "18:\tlearn: 1.9055198\ttest: 1.8943207\tbest: 1.8943207 (18)\ttotal: 42.9s\tremaining: 3m 2s\n",
      "19:\tlearn: 1.8990778\ttest: 1.8872348\tbest: 1.8872348 (19)\ttotal: 45.1s\tremaining: 3m\n",
      "20:\tlearn: 1.8910058\ttest: 1.8785956\tbest: 1.8785956 (20)\ttotal: 47.3s\tremaining: 2m 57s\n",
      "21:\tlearn: 1.8853676\ttest: 1.8724082\tbest: 1.8724082 (21)\ttotal: 49.4s\tremaining: 2m 55s\n",
      "22:\tlearn: 1.8788808\ttest: 1.8655676\tbest: 1.8655676 (22)\ttotal: 51.5s\tremaining: 2m 52s\n",
      "23:\tlearn: 1.8724670\ttest: 1.8586867\tbest: 1.8586867 (23)\ttotal: 53.7s\tremaining: 2m 50s\n",
      "24:\tlearn: 1.8668523\ttest: 1.8525704\tbest: 1.8525704 (24)\ttotal: 56s\tremaining: 2m 47s\n",
      "25:\tlearn: 1.8626364\ttest: 1.8479479\tbest: 1.8479479 (25)\ttotal: 58.1s\tremaining: 2m 45s\n",
      "26:\tlearn: 1.8599896\ttest: 1.8450660\tbest: 1.8450660 (26)\ttotal: 1m\tremaining: 2m 43s\n",
      "27:\tlearn: 1.8553989\ttest: 1.8400983\tbest: 1.8400983 (27)\ttotal: 1m 2s\tremaining: 2m 41s\n",
      "28:\tlearn: 1.8505543\ttest: 1.8348479\tbest: 1.8348479 (28)\ttotal: 1m 4s\tremaining: 2m 39s\n",
      "29:\tlearn: 1.8475695\ttest: 1.8316869\tbest: 1.8316869 (29)\ttotal: 1m 7s\tremaining: 2m 37s\n",
      "30:\tlearn: 1.8439780\ttest: 1.8281477\tbest: 1.8281477 (30)\ttotal: 1m 9s\tremaining: 2m 34s\n",
      "31:\tlearn: 1.8405223\ttest: 1.8245551\tbest: 1.8245551 (31)\ttotal: 1m 11s\tremaining: 2m 32s\n",
      "32:\tlearn: 1.8377059\ttest: 1.8212442\tbest: 1.8212442 (32)\ttotal: 1m 14s\tremaining: 2m 30s\n",
      "33:\tlearn: 1.8346378\ttest: 1.8179022\tbest: 1.8179022 (33)\ttotal: 1m 16s\tremaining: 2m 28s\n",
      "34:\tlearn: 1.8318071\ttest: 1.8148654\tbest: 1.8148654 (34)\ttotal: 1m 18s\tremaining: 2m 26s\n",
      "35:\tlearn: 1.8293410\ttest: 1.8121530\tbest: 1.8121530 (35)\ttotal: 1m 21s\tremaining: 2m 24s\n",
      "36:\tlearn: 1.8266874\ttest: 1.8095729\tbest: 1.8095729 (36)\ttotal: 1m 23s\tremaining: 2m 21s\n",
      "37:\tlearn: 1.8243121\ttest: 1.8073295\tbest: 1.8073295 (37)\ttotal: 1m 25s\tremaining: 2m 19s\n",
      "38:\tlearn: 1.8220353\ttest: 1.8050427\tbest: 1.8050427 (38)\ttotal: 1m 27s\tremaining: 2m 17s\n",
      "39:\tlearn: 1.8204226\ttest: 1.8033482\tbest: 1.8033482 (39)\ttotal: 1m 30s\tremaining: 2m 15s\n",
      "40:\tlearn: 1.8187111\ttest: 1.8015277\tbest: 1.8015277 (40)\ttotal: 1m 32s\tremaining: 2m 13s\n",
      "41:\tlearn: 1.8172122\ttest: 1.7999885\tbest: 1.7999885 (41)\ttotal: 1m 34s\tremaining: 2m 11s\n",
      "42:\tlearn: 1.8154554\ttest: 1.7983235\tbest: 1.7983235 (42)\ttotal: 1m 37s\tremaining: 2m 8s\n",
      "43:\tlearn: 1.8129870\ttest: 1.7956009\tbest: 1.7956009 (43)\ttotal: 1m 39s\tremaining: 2m 6s\n",
      "44:\tlearn: 1.8113894\ttest: 1.7938063\tbest: 1.7938063 (44)\ttotal: 1m 41s\tremaining: 2m 4s\n",
      "45:\tlearn: 1.8099601\ttest: 1.7923959\tbest: 1.7923959 (45)\ttotal: 1m 44s\tremaining: 2m 2s\n",
      "46:\tlearn: 1.8082705\ttest: 1.7907213\tbest: 1.7907213 (46)\ttotal: 1m 46s\tremaining: 1m 59s\n",
      "47:\tlearn: 1.8070832\ttest: 1.7895838\tbest: 1.7895838 (47)\ttotal: 1m 48s\tremaining: 1m 57s\n",
      "48:\tlearn: 1.8055282\ttest: 1.7878368\tbest: 1.7878368 (48)\ttotal: 1m 51s\tremaining: 1m 55s\n",
      "49:\tlearn: 1.8047325\ttest: 1.7869814\tbest: 1.7869814 (49)\ttotal: 1m 53s\tremaining: 1m 53s\n",
      "50:\tlearn: 1.8026518\ttest: 1.7846179\tbest: 1.7846179 (50)\ttotal: 1m 55s\tremaining: 1m 51s\n",
      "51:\tlearn: 1.8011774\ttest: 1.7832498\tbest: 1.7832498 (51)\ttotal: 1m 57s\tremaining: 1m 48s\n",
      "52:\tlearn: 1.8002787\ttest: 1.7823441\tbest: 1.7823441 (52)\ttotal: 2m\tremaining: 1m 46s\n",
      "53:\tlearn: 1.7990431\ttest: 1.7811129\tbest: 1.7811129 (53)\ttotal: 2m 2s\tremaining: 1m 44s\n",
      "54:\tlearn: 1.7979340\ttest: 1.7800006\tbest: 1.7800006 (54)\ttotal: 2m 4s\tremaining: 1m 42s\n",
      "55:\tlearn: 1.7966572\ttest: 1.7786898\tbest: 1.7786898 (55)\ttotal: 2m 7s\tremaining: 1m 39s\n",
      "56:\tlearn: 1.7950972\ttest: 1.7769732\tbest: 1.7769732 (56)\ttotal: 2m 9s\tremaining: 1m 37s\n",
      "57:\tlearn: 1.7939673\ttest: 1.7756200\tbest: 1.7756200 (57)\ttotal: 2m 11s\tremaining: 1m 35s\n",
      "58:\tlearn: 1.7926065\ttest: 1.7741569\tbest: 1.7741569 (58)\ttotal: 2m 13s\tremaining: 1m 33s\n",
      "59:\tlearn: 1.7918258\ttest: 1.7732066\tbest: 1.7732066 (59)\ttotal: 2m 16s\tremaining: 1m 30s\n",
      "60:\tlearn: 1.7911896\ttest: 1.7725265\tbest: 1.7725265 (60)\ttotal: 2m 18s\tremaining: 1m 28s\n",
      "61:\tlearn: 1.7906707\ttest: 1.7719816\tbest: 1.7719816 (61)\ttotal: 2m 21s\tremaining: 1m 26s\n",
      "62:\tlearn: 1.7896074\ttest: 1.7710191\tbest: 1.7710191 (62)\ttotal: 2m 23s\tremaining: 1m 24s\n",
      "63:\tlearn: 1.7884118\ttest: 1.7698801\tbest: 1.7698801 (63)\ttotal: 2m 26s\tremaining: 1m 22s\n",
      "64:\tlearn: 1.7877340\ttest: 1.7693068\tbest: 1.7693068 (64)\ttotal: 2m 28s\tremaining: 1m 20s\n",
      "65:\tlearn: 1.7868821\ttest: 1.7684969\tbest: 1.7684969 (65)\ttotal: 2m 30s\tremaining: 1m 17s\n",
      "66:\tlearn: 1.7856533\ttest: 1.7671217\tbest: 1.7671217 (66)\ttotal: 2m 33s\tremaining: 1m 15s\n",
      "67:\tlearn: 1.7848151\ttest: 1.7662029\tbest: 1.7662029 (67)\ttotal: 2m 35s\tremaining: 1m 13s\n",
      "68:\tlearn: 1.7836790\ttest: 1.7651871\tbest: 1.7651871 (68)\ttotal: 2m 37s\tremaining: 1m 10s\n",
      "69:\tlearn: 1.7831218\ttest: 1.7646353\tbest: 1.7646353 (69)\ttotal: 2m 40s\tremaining: 1m 8s\n",
      "70:\tlearn: 1.7823387\ttest: 1.7637622\tbest: 1.7637622 (70)\ttotal: 2m 42s\tremaining: 1m 6s\n",
      "71:\tlearn: 1.7810222\ttest: 1.7622034\tbest: 1.7622034 (71)\ttotal: 2m 44s\tremaining: 1m 4s\n",
      "72:\tlearn: 1.7800072\ttest: 1.7611186\tbest: 1.7611186 (72)\ttotal: 2m 46s\tremaining: 1m 1s\n",
      "73:\tlearn: 1.7790173\ttest: 1.7600082\tbest: 1.7600082 (73)\ttotal: 2m 49s\tremaining: 59.5s\n",
      "74:\tlearn: 1.7783299\ttest: 1.7590995\tbest: 1.7590995 (74)\ttotal: 2m 51s\tremaining: 57.3s\n",
      "75:\tlearn: 1.7768954\ttest: 1.7577661\tbest: 1.7577661 (75)\ttotal: 2m 54s\tremaining: 55s\n",
      "76:\tlearn: 1.7764543\ttest: 1.7572826\tbest: 1.7572826 (76)\ttotal: 2m 56s\tremaining: 52.7s\n",
      "77:\tlearn: 1.7755554\ttest: 1.7564949\tbest: 1.7564949 (77)\ttotal: 2m 58s\tremaining: 50.4s\n",
      "78:\tlearn: 1.7750638\ttest: 1.7559688\tbest: 1.7559688 (78)\ttotal: 3m 1s\tremaining: 48.1s\n",
      "79:\tlearn: 1.7742165\ttest: 1.7550489\tbest: 1.7550489 (79)\ttotal: 3m 3s\tremaining: 45.8s\n",
      "80:\tlearn: 1.7736580\ttest: 1.7545796\tbest: 1.7545796 (80)\ttotal: 3m 5s\tremaining: 43.5s\n",
      "81:\tlearn: 1.7729147\ttest: 1.7538671\tbest: 1.7538671 (81)\ttotal: 3m 7s\tremaining: 41.2s\n",
      "82:\tlearn: 1.7725863\ttest: 1.7535369\tbest: 1.7535369 (82)\ttotal: 3m 10s\tremaining: 39s\n",
      "83:\tlearn: 1.7718002\ttest: 1.7527301\tbest: 1.7527301 (83)\ttotal: 3m 12s\tremaining: 36.7s\n",
      "84:\tlearn: 1.7711846\ttest: 1.7520496\tbest: 1.7520496 (84)\ttotal: 3m 15s\tremaining: 34.4s\n",
      "85:\tlearn: 1.7701255\ttest: 1.7508604\tbest: 1.7508604 (85)\ttotal: 3m 17s\tremaining: 32.1s\n",
      "86:\tlearn: 1.7695014\ttest: 1.7502401\tbest: 1.7502401 (86)\ttotal: 3m 19s\tremaining: 29.8s\n",
      "87:\tlearn: 1.7685957\ttest: 1.7493167\tbest: 1.7493167 (87)\ttotal: 3m 21s\tremaining: 27.5s\n",
      "88:\tlearn: 1.7680314\ttest: 1.7488061\tbest: 1.7488061 (88)\ttotal: 3m 24s\tremaining: 25.2s\n",
      "89:\tlearn: 1.7673014\ttest: 1.7480319\tbest: 1.7480319 (89)\ttotal: 3m 26s\tremaining: 22.9s\n",
      "90:\tlearn: 1.7667690\ttest: 1.7474445\tbest: 1.7474445 (90)\ttotal: 3m 28s\tremaining: 20.7s\n",
      "91:\tlearn: 1.7661126\ttest: 1.7468317\tbest: 1.7468317 (91)\ttotal: 3m 31s\tremaining: 18.4s\n",
      "92:\tlearn: 1.7653505\ttest: 1.7461443\tbest: 1.7461443 (92)\ttotal: 3m 33s\tremaining: 16.1s\n"
     ]
    },
    {
     "name": "stdout",
     "output_type": "stream",
     "text": [
      "93:\tlearn: 1.7650835\ttest: 1.7458586\tbest: 1.7458586 (93)\ttotal: 3m 35s\tremaining: 13.8s\n",
      "94:\tlearn: 1.7646999\ttest: 1.7454297\tbest: 1.7454297 (94)\ttotal: 3m 38s\tremaining: 11.5s\n",
      "95:\tlearn: 1.7638972\ttest: 1.7446284\tbest: 1.7446284 (95)\ttotal: 3m 40s\tremaining: 9.2s\n",
      "96:\tlearn: 1.7635617\ttest: 1.7442526\tbest: 1.7442526 (96)\ttotal: 3m 43s\tremaining: 6.9s\n",
      "97:\tlearn: 1.7633449\ttest: 1.7440387\tbest: 1.7440387 (97)\ttotal: 3m 45s\tremaining: 4.6s\n",
      "98:\tlearn: 1.7630685\ttest: 1.7437513\tbest: 1.7437513 (98)\ttotal: 3m 47s\tremaining: 2.3s\n",
      "99:\tlearn: 1.7620417\ttest: 1.7427792\tbest: 1.7427792 (99)\ttotal: 3m 50s\tremaining: 0us\n",
      "\n",
      "bestTest = 1.742779158\n",
      "bestIteration = 99\n",
      "\n"
     ]
    },
    {
     "data": {
      "text/plain": [
       "<catboost.core.CatBoostClassifier at 0x7f2ec2b60e80>"
      ]
     },
     "execution_count": 44,
     "metadata": {},
     "output_type": "execute_result"
    }
   ],
   "source": [
    "model.fit(train_x, train_y, eval_set=(val_x, val_y))\n"
   ]
  },
  {
   "cell_type": "code",
   "execution_count": 45,
   "metadata": {},
   "outputs": [
    {
     "data": {
      "text/plain": [
       "0.44263825361052955"
      ]
     },
     "execution_count": 45,
     "metadata": {},
     "output_type": "execute_result"
    }
   ],
   "source": [
    "pred = model.predict(val_x).ravel()\n",
    "ans = val_y\n",
    "\n",
    "(pred == ans).mean()\n",
    "# как-то так"
   ]
  },
  {
   "cell_type": "markdown",
   "metadata": {},
   "source": [
    "### Задача регрессии"
   ]
  },
  {
   "cell_type": "code",
   "execution_count": 46,
   "metadata": {},
   "outputs": [],
   "source": [
    "def train_val_split(df, val_ratio=0.2):\n",
    "    rnd = np.random.rand(df.shape[0])\n",
    "    \n",
    "    train_rows = rnd > val_ratio\n",
    "    val_rows = ~train_rows\n",
    "    \n",
    "    train_df = df[train_rows]\n",
    "    val_df = df[val_rows]\n",
    "    \n",
    "    return train_df, val_df\n",
    "\n",
    "target_col = 'logprice'\n",
    "train_df, val_df = train_val_split(learn_df)\n",
    "\n",
    "train_x, train_y = train_df.drop(columns=[target_col]), train_df[target_col]\n",
    "val_x, val_y = val_df.drop(columns=[target_col]), val_df[target_col]"
   ]
  },
  {
   "cell_type": "code",
   "execution_count": 47,
   "metadata": {},
   "outputs": [],
   "source": [
    "categorical_columns = [n for n, col in enumerate(train_x.columns) if col in categorical_features]\n",
    "\n",
    "experiment_params = dict()\n",
    "experiment_params['iterations'] = 1000\n",
    "experiment_params['learning_rate'] = 0.1\n",
    "experiment_params['depth'] = 8\n",
    "experiment_params['cat_features'] = categorical_columns\n",
    "experiment_params['verbose'] = 200\n",
    "\n",
    "model = CatBoostRegressor(**experiment_params)"
   ]
  },
  {
   "cell_type": "code",
   "execution_count": 48,
   "metadata": {},
   "outputs": [
    {
     "name": "stdout",
     "output_type": "stream",
     "text": [
      "0:\tlearn: 2.3525163\ttest: 2.3512948\tbest: 2.3512948 (0)\ttotal: 290ms\tremaining: 4m 49s\n",
      "200:\tlearn: 0.4959044\ttest: 0.4882052\tbest: 0.4882052 (200)\ttotal: 53.1s\tremaining: 3m 31s\n",
      "400:\tlearn: 0.4739252\ttest: 0.4722869\tbest: 0.4722869 (400)\ttotal: 1m 50s\tremaining: 2m 45s\n",
      "600:\tlearn: 0.4610603\ttest: 0.4645102\tbest: 0.4645102 (600)\ttotal: 2m 50s\tremaining: 1m 52s\n",
      "800:\tlearn: 0.4505230\ttest: 0.4588314\tbest: 0.4588314 (800)\ttotal: 3m 50s\tremaining: 57.3s\n",
      "999:\tlearn: 0.4424709\ttest: 0.4552493\tbest: 0.4552493 (999)\ttotal: 4m 51s\tremaining: 0us\n",
      "\n",
      "bestTest = 0.4552492716\n",
      "bestIteration = 999\n",
      "\n"
     ]
    },
    {
     "data": {
      "text/plain": [
       "<catboost.core.CatBoostRegressor at 0x7f2ec2a63400>"
      ]
     },
     "execution_count": 48,
     "metadata": {},
     "output_type": "execute_result"
    }
   ],
   "source": [
    "model.fit(train_x, train_y, eval_set=(val_x, val_y))"
   ]
  },
  {
   "cell_type": "code",
   "execution_count": 49,
   "metadata": {},
   "outputs": [
    {
     "data": {
      "text/plain": [
       "<matplotlib.legend.Legend at 0x7f2ec29c3eb8>"
      ]
     },
     "execution_count": 49,
     "metadata": {},
     "output_type": "execute_result"
    },
    {
     "data": {
      "image/png": "[encoded data removed]",
      "text/plain": [
       "<Figure size 360x1080 with 3 Axes>"
      ]
     },
     "metadata": {},
     "output_type": "display_data"
    }
   ],
   "source": [
    "# как-то так, но с картинками\n",
    "# по X реальная, по Y предсказали, красная - было бы идеально\n",
    "pred = np.exp(model.predict(val_x)) # Мы логарифмировали цену. Делаем обратную операцию\n",
    "ans = np.exp(val_y)\n",
    "\n",
    "pred, ans = np.log(pred), np.log(ans)\n",
    "f, axes = plt.subplots(3, 1, figsize=(5, 15))\n",
    "for L, ax in zip(val_x.listing_type.unique(), axes.ravel()):\n",
    "    targets = val_x.listing_type.eq(L)\n",
    "    tans, tpred = ans[targets], pred[targets]\n",
    "    \n",
    "    ax.scatter(tans, tpred, label=f'Listing type: {L}')\n",
    "    ax.plot([tans.min(), tans.max()], [tans.min(), tans.max()], 'r')\n",
    "    \n",
    "plt.legend()"
   ]
  }
 ],
 "metadata": {
  "kernelspec": {
   "display_name": "Python 3",
   "language": "python",
   "name": "python3"
  },
  "language_info": {
   "codemirror_mode": {
    "name": "ipython",
    "version": 3
   },
   "file_extension": ".py",
   "mimetype": "text/x-python",
   "name": "python",
   "nbconvert_exporter": "python",
   "pygments_lexer": "ipython3",
   "version": "3.6.8"
  }
 },
 "nbformat": 4,
 "nbformat_minor": 2
}
