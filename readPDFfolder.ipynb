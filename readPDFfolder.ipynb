{
  "nbformat": 4,
  "nbformat_minor": 0,
  "metadata": {
    "colab": {
      "name": "Untitled14.ipynb",
      "provenance": []
    },
    "kernelspec": {
      "name": "python3",
      "display_name": "Python 3"
    },
    "language_info": {
      "name": "python"
    }
  },
  "cells": [
    {
      "cell_type": "code",
      "metadata": {
        "colab": {
          "base_uri": "https://localhost:8080/"
        },
        "id": "POIuG5a8YIoJ",
        "outputId": "edb10e7d-6c15-421b-c4c6-b95140650a5e"
      },
      "source": [
        "from google.colab import drive\n",
        "drive.mount('/content/gdrive')"
      ],
      "execution_count": 1,
      "outputs": [
        {
          "output_type": "stream",
          "text": [
            "Mounted at /content/gdrive\n"
          ],
          "name": "stdout"
        }
      ]
    },
    {
      "cell_type": "code",
      "metadata": {
        "colab": {
          "base_uri": "https://localhost:8080/"
        },
        "id": "4x38GQIJY-z9",
        "outputId": "b0c89291-88f2-4865-dc1c-d80773eb18b4"
      },
      "source": [
        "!pip install pdfminer"
      ],
      "execution_count": 2,
      "outputs": [
        {
          "output_type": "stream",
          "text": [
            "Collecting pdfminer\n",
            "\u001b[?25l  Downloading https://files.pythonhosted.org/packages/71/a3/155c5cde5f9c0b1069043b2946a93f54a41fd72cc19c6c100f6f2f5bdc15/pdfminer-20191125.tar.gz (4.2MB)\n",
            "\u001b[K     |████████████████████████████████| 4.2MB 7.6MB/s \n",
            "\u001b[?25hCollecting pycryptodome\n",
            "\u001b[?25l  Downloading https://files.pythonhosted.org/packages/ad/16/9627ab0493894a11c68e46000dbcc82f578c8ff06bc2980dcd016aea9bd3/pycryptodome-3.10.1-cp35-abi3-manylinux2010_x86_64.whl (1.9MB)\n",
            "\u001b[K     |████████████████████████████████| 1.9MB 37.6MB/s \n",
            "\u001b[?25hBuilding wheels for collected packages: pdfminer\n",
            "  Building wheel for pdfminer (setup.py) ... \u001b[?25l\u001b[?25hdone\n",
            "  Created wheel for pdfminer: filename=pdfminer-20191125-cp37-none-any.whl size=6140088 sha256=9e02cfefd28a9afe5d4b9e43e9c97f61664a4f721c67488cf04c7e71616d5c38\n",
            "  Stored in directory: /root/.cache/pip/wheels/e1/00/af/720a55d74ba3615bb4709a3ded6dd71dc5370a586a0ff6f326\n",
            "Successfully built pdfminer\n",
            "Installing collected packages: pycryptodome, pdfminer\n",
            "Successfully installed pdfminer-20191125 pycryptodome-3.10.1\n"
          ],
          "name": "stdout"
        }
      ]
    },
    {
      "cell_type": "code",
      "metadata": {
        "id": "b9XYgPOlby77"
      },
      "source": [
        "import io\n",
        " \n",
        "from pdfminer.converter import TextConverter\n",
        "from pdfminer.pdfinterp import PDFPageInterpreter\n",
        "from pdfminer.pdfinterp import PDFResourceManager\n",
        "from pdfminer.pdfpage import PDFPage\n",
        " \n",
        "def extract_text_by_page(pdf_path):\n",
        "    with open(pdf_path, 'rb') as fh:\n",
        "        for page in PDFPage.get_pages(fh, \n",
        "                                      caching=True,\n",
        "                                      check_extractable=True):\n",
        "            resource_manager = PDFResourceManager()\n",
        "            fake_file_handle = io.StringIO()\n",
        "            converter = TextConverter(resource_manager, fake_file_handle)\n",
        "            page_interpreter = PDFPageInterpreter(resource_manager, converter)\n",
        "            page_interpreter.process_page(page)\n",
        " \n",
        "            text = fake_file_handle.getvalue()\n",
        "            yield text\n",
        " \n",
        "            # close open handles\n",
        "            converter.close()\n",
        "            fake_file_handle.close()\n",
        " \n",
        "def extract_text(pdf_path):\n",
        "    for page in extract_text_by_page(pdf_path):\n",
        "        print(page)\n",
        "        print()\n",
        "\n",
        "def extract_pages(pdf_path):\n",
        "  pages=[]\n",
        "  for page in extract_text_by_page(pdf_path):\n",
        "      pages.append(page)\n",
        "  return pages"
      ],
      "execution_count": 3,
      "outputs": []
    },
    {
      "cell_type": "code",
      "metadata": {
        "id": "7dwfiDJZdGqx"
      },
      "source": [
        "import pandas as pd\n",
        "import numpy as np\n",
        "import os\n",
        "import sys\n",
        "import re"
      ],
      "execution_count": 5,
      "outputs": []
    },
    {
      "cell_type": "markdown",
      "metadata": {
        "id": "TBKcEszKdxj6"
      },
      "source": [
        "Объявляем набор данных"
      ]
    },
    {
      "cell_type": "code",
      "metadata": {
        "id": "KCdxT8_PdG4J"
      },
      "source": [
        "df = pd.DataFrame(columns=['Name','Sex', 'Age','Children'])"
      ],
      "execution_count": 6,
      "outputs": []
    },
    {
      "cell_type": "markdown",
      "metadata": {
        "id": "BGv05BVOekvj"
      },
      "source": [
        "Путь к папке с файлами PDF"
      ]
    },
    {
      "cell_type": "code",
      "metadata": {
        "id": "oRXLBt-CdG7c"
      },
      "source": [
        "rootFolderPath = '/content/gdrive/MyDrive/DataSet'"
      ],
      "execution_count": 7,
      "outputs": []
    },
    {
      "cell_type": "code",
      "metadata": {
        "id": "5Npblqx6dHBr"
      },
      "source": [
        "def readTextPage(text):\n",
        "  inputString = text\n",
        "  NameStr =''\n",
        "  SexStr = ''\n",
        "  AgeStr = ''\n",
        "  ChildrenStr = ''\n",
        "  nameResult = re.search('Name: ', inputString)\n",
        "  if nameResult!=None:\n",
        "    inputString = inputString[nameResult.end():]\n",
        "    #print('1: ',inputString)\n",
        "\n",
        "  sexResult = re.search(' Sex: ',inputString)\n",
        "  if sexResult!=None:\n",
        "    NameStr = inputString[:sexResult.start()]\n",
        "    inputString = inputString[sexResult.end():]\n",
        "    #print('Имя: ',NameStr)\n",
        "\n",
        "  ageResult = re.search(' Age: ',inputString)\n",
        "  if ageResult!=None:\n",
        "    SexStr = inputString[:ageResult.start()]\n",
        "    inputString = inputString[ageResult.end():]\n",
        "    #print('Пол: ',SexStr)\n",
        "\n",
        "  childResult = re.search(' Children: ',inputString)\n",
        "  if childResult!=None:\n",
        "    AgeStr = inputString[:childResult.start()]\n",
        "    inputString = inputString[childResult.end():]\n",
        "    #print('Возраст: ',AgeStr)\n",
        "    AgeStr = int(AgeStr)\n",
        "\n",
        "    ChildrenStr = inputString\n",
        "    #print('Детей: ',ChildrenStr)\n",
        "    ChildrenStr =int(ChildrenStr)\n",
        "\n",
        "  return NameStr, SexStr, AgeStr, ChildrenStr"
      ],
      "execution_count": 42,
      "outputs": []
    },
    {
      "cell_type": "code",
      "metadata": {
        "colab": {
          "base_uri": "https://localhost:8080/"
        },
        "id": "Ksz-ydKudG-k",
        "outputId": "451f074e-0062-48c3-b725-10a6e0d7510c"
      },
      "source": [
        "#'Name','Sex', 'Age','Children'\n",
        "for item in os.listdir(rootFolderPath):\n",
        "  filePath = os.path.join(rootFolderPath,item)\n",
        "  #print(filePath)\n",
        "  text = extract_pages(filePath)\n",
        "  for page in text:\n",
        "    print(page)\n",
        "    nameStr, sexStr, ageStr, childrenStr = readTextPage(page)\n",
        "    df = df.append({'Name': nameStr, 'Sex' : sexStr, 'Age' : ageStr, \n",
        "                    'Children' : childrenStr}, ignore_index = True)"
      ],
      "execution_count": 44,
      "outputs": [
        {
          "output_type": "stream",
          "text": [
            "Name: Maria Sex: Female Age: 47 Children: 2 \f\n",
            "Имя:  Maria\n",
            "Пол:  Female\n",
            "Возраст:  47\n",
            "Детей:  2 \f\n",
            "Name: Anna Sex: Female Age: 22 Children: 1 \f\n",
            "Имя:  Anna\n",
            "Пол:  Female\n",
            "Возраст:  22\n",
            "Детей:  1 \f\n",
            "Name: Marc Sex: Male Age: 30 Children: 1 \f\n",
            "Имя:  Marc\n",
            "Пол:  Male\n",
            "Возраст:  30\n",
            "Детей:  1 \f\n",
            "Name: Olga Sex: Female Age: 18 Children: 0   \f\n",
            "Имя:  Olga\n",
            "Пол:  Female\n",
            "Возраст:  18\n",
            "Детей:  0   \f\n",
            "Name: Alex Sex: Male Age: 67 Children: 3  \f\n",
            "Имя:  Alex\n",
            "Пол:  Male\n",
            "Возраст:  67\n",
            "Детей:  3  \f\n"
          ],
          "name": "stdout"
        }
      ]
    },
    {
      "cell_type": "code",
      "metadata": {
        "colab": {
          "base_uri": "https://localhost:8080/",
          "height": 205
        },
        "id": "jkBKexx4dHE2",
        "outputId": "2b626553-81a9-4e88-af52-d20d4e49d263"
      },
      "source": [
        "df.head()"
      ],
      "execution_count": 45,
      "outputs": [
        {
          "output_type": "execute_result",
          "data": {
            "text/html": [
              "<div>\n",
              "<style scoped>\n",
              "    .dataframe tbody tr th:only-of-type {\n",
              "        vertical-align: middle;\n",
              "    }\n",
              "\n",
              "    .dataframe tbody tr th {\n",
              "        vertical-align: top;\n",
              "    }\n",
              "\n",
              "    .dataframe thead th {\n",
              "        text-align: right;\n",
              "    }\n",
              "</style>\n",
              "<table border=\"1\" class=\"dataframe\">\n",
              "  <thead>\n",
              "    <tr style=\"text-align: right;\">\n",
              "      <th></th>\n",
              "      <th>Name</th>\n",
              "      <th>Sex</th>\n",
              "      <th>Age</th>\n",
              "      <th>Children</th>\n",
              "    </tr>\n",
              "  </thead>\n",
              "  <tbody>\n",
              "    <tr>\n",
              "      <th>0</th>\n",
              "      <td>Maria</td>\n",
              "      <td>Female</td>\n",
              "      <td>47</td>\n",
              "      <td>2</td>\n",
              "    </tr>\n",
              "    <tr>\n",
              "      <th>1</th>\n",
              "      <td>Anna</td>\n",
              "      <td>Female</td>\n",
              "      <td>22</td>\n",
              "      <td>1</td>\n",
              "    </tr>\n",
              "    <tr>\n",
              "      <th>2</th>\n",
              "      <td>Marc</td>\n",
              "      <td>Male</td>\n",
              "      <td>30</td>\n",
              "      <td>1</td>\n",
              "    </tr>\n",
              "    <tr>\n",
              "      <th>3</th>\n",
              "      <td>Olga</td>\n",
              "      <td>Female</td>\n",
              "      <td>18</td>\n",
              "      <td>0</td>\n",
              "    </tr>\n",
              "    <tr>\n",
              "      <th>4</th>\n",
              "      <td>Alex</td>\n",
              "      <td>Male</td>\n",
              "      <td>67</td>\n",
              "      <td>3</td>\n",
              "    </tr>\n",
              "  </tbody>\n",
              "</table>\n",
              "</div>"
            ],
            "text/plain": [
              "    Name     Sex Age Children\n",
              "0  Maria  Female  47        2\n",
              "1   Anna  Female  22        1\n",
              "2   Marc    Male  30        1\n",
              "3   Olga  Female  18        0\n",
              "4   Alex    Male  67        3"
            ]
          },
          "metadata": {
            "tags": []
          },
          "execution_count": 45
        }
      ]
    },
    {
      "cell_type": "code",
      "metadata": {
        "id": "jzpFj5zwdHIC"
      },
      "source": [
        ""
      ],
      "execution_count": null,
      "outputs": []
    },
    {
      "cell_type": "code",
      "metadata": {
        "id": "ex0V9aGldHS0"
      },
      "source": [
        ""
      ],
      "execution_count": null,
      "outputs": []
    },
    {
      "cell_type": "code",
      "metadata": {
        "id": "c8rpc59OdHWK"
      },
      "source": [
        ""
      ],
      "execution_count": null,
      "outputs": []
    },
    {
      "cell_type": "code",
      "metadata": {
        "id": "5sT-G_chdHcf"
      },
      "source": [
        ""
      ],
      "execution_count": null,
      "outputs": []
    }
  ]
}