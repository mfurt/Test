{
  "nbformat": 4,
  "nbformat_minor": 0,
  "metadata": {
    "colab": {
      "name": "apacheSparkML.ipynb",
      "provenance": []
    },
    "kernelspec": {
      "name": "python3",
      "display_name": "Python 3"
    },
    "language_info": {
      "name": "python"
    }
  },
  "cells": [
    {
      "cell_type": "code",
      "metadata": {
        "colab": {
          "base_uri": "https://localhost:8080/"
        },
        "id": "ejThSmIKBST4",
        "outputId": "ca4377dc-2444-4409-9365-18f70b81f518"
      },
      "source": [
        "%%bash\n",
        "apt-get install openjdk-8-jdk-headless -qq > /dev/null\n",
        "\n",
        "wget -q https://archive.apache.org/dist/spark/spark-3.0.0/spark-3.0.0-bin-hadoop3.2.tgz\n",
        "tar xf spark-3.0.0-bin-hadoop3.2.tgz\n",
        "\n",
        "pip install findspark"
      ],
      "execution_count": 1,
      "outputs": [
        {
          "output_type": "stream",
          "text": [
            "Collecting findspark\n",
            "  Downloading https://files.pythonhosted.org/packages/fc/2d/2e39f9a023479ea798eed4351cd66f163ce61e00c717e03c37109f00c0f2/findspark-1.4.2-py2.py3-none-any.whl\n",
            "Installing collected packages: findspark\n",
            "Successfully installed findspark-1.4.2\n"
          ],
          "name": "stdout"
        }
      ]
    },
    {
      "cell_type": "code",
      "metadata": {
        "id": "lzJUTTbKBalx"
      },
      "source": [
        "import os\n",
        "os.environ[\"JAVA_HOME\"] = \"/usr/lib/jvm/java-8-openjdk-amd64\"\n",
        "os.environ[\"SPARK_HOME\"] = \"/content/spark-3.0.0-bin-hadoop3.2\""
      ],
      "execution_count": 2,
      "outputs": []
    },
    {
      "cell_type": "code",
      "metadata": {
        "colab": {
          "base_uri": "https://localhost:8080/"
        },
        "id": "nQMMPGDkBapA",
        "outputId": "a5a5ce32-8c6b-4dfc-f298-d824b41b70dd"
      },
      "source": [
        "from google.colab import drive\n",
        "drive.mount('/content/gdrive')"
      ],
      "execution_count": 3,
      "outputs": [
        {
          "output_type": "stream",
          "text": [
            "Mounted at /content/gdrive\n"
          ],
          "name": "stdout"
        }
      ]
    },
    {
      "cell_type": "code",
      "metadata": {
        "id": "6zJ1QfI6Baro"
      },
      "source": [
        "import findspark\n",
        "findspark.init()\n",
        "from pyspark.sql import SparkSession\n",
        "spark = SparkSession.builder.master(\"local[*]\").getOrCreate()"
      ],
      "execution_count": 4,
      "outputs": []
    },
    {
      "cell_type": "code",
      "metadata": {
        "id": "qwsS-067BauZ"
      },
      "source": [
        "df = spark.read.csv('/content/gdrive/MyDrive/DataFolder/Indian_Liver_Patient_Dataset_ILPDh.csv',\n",
        "                    inferSchema = True, sep = ';', header = True)"
      ],
      "execution_count": 7,
      "outputs": []
    },
    {
      "cell_type": "code",
      "metadata": {
        "colab": {
          "base_uri": "https://localhost:8080/"
        },
        "id": "8DZhcxZcBaxQ",
        "outputId": "304af003-4998-48cc-de3b-86733de020e4"
      },
      "source": [
        "df.printSchema()"
      ],
      "execution_count": 8,
      "outputs": [
        {
          "output_type": "stream",
          "text": [
            "root\n",
            " |-- Age: integer (nullable = true)\n",
            " |-- Gender: integer (nullable = true)\n",
            " |-- Total_Bilirubin: double (nullable = true)\n",
            " |-- Direct_Bilirubin: double (nullable = true)\n",
            " |-- Alkaline_Phosphotase: integer (nullable = true)\n",
            " |-- Alamine_Aminotransferase: integer (nullable = true)\n",
            " |-- Aspartate_Aminotransferase: integer (nullable = true)\n",
            " |-- Total_Protein: double (nullable = true)\n",
            " |-- Albumin: double (nullable = true)\n",
            " |-- Albumin_and_Globulin_Ratio: double (nullable = true)\n",
            " |-- Class_ID: integer (nullable = true)\n",
            "\n"
          ],
          "name": "stdout"
        }
      ]
    },
    {
      "cell_type": "code",
      "metadata": {
        "colab": {
          "base_uri": "https://localhost:8080/"
        },
        "id": "GyNbsaCVDrFX",
        "outputId": "5f9679e9-52f9-47f2-a436-d4c7e933a51b"
      },
      "source": [
        "df.groupBy('Class_ID').count().show()"
      ],
      "execution_count": 9,
      "outputs": [
        {
          "output_type": "stream",
          "text": [
            "+--------+-----+\n",
            "|Class_ID|count|\n",
            "+--------+-----+\n",
            "|       1|  414|\n",
            "|       2|  165|\n",
            "+--------+-----+\n",
            "\n"
          ],
          "name": "stdout"
        }
      ]
    },
    {
      "cell_type": "code",
      "metadata": {
        "colab": {
          "base_uri": "https://localhost:8080/"
        },
        "id": "OckuGijhEN9C",
        "outputId": "c1a9a6e9-a2a3-451c-ec4f-5311ad21ad86"
      },
      "source": [
        "from pyspark.ml.feature import VectorAssembler\n",
        "df_assembler = VectorAssembler(inputCols=['Age', 'Gender',\n",
        "                               'Total_Bilirubin','Direct_Bilirubin',\n",
        "                               'Total_Protein', 'Albumin'],\n",
        "                               outputCol = 'features')\n",
        "df1 = df_assembler.transform(df)\n",
        "df1.printSchema()"
      ],
      "execution_count": 13,
      "outputs": [
        {
          "output_type": "stream",
          "text": [
            "root\n",
            " |-- Age: integer (nullable = true)\n",
            " |-- Gender: integer (nullable = true)\n",
            " |-- Total_Bilirubin: double (nullable = true)\n",
            " |-- Direct_Bilirubin: double (nullable = true)\n",
            " |-- Alkaline_Phosphotase: integer (nullable = true)\n",
            " |-- Alamine_Aminotransferase: integer (nullable = true)\n",
            " |-- Aspartate_Aminotransferase: integer (nullable = true)\n",
            " |-- Total_Protein: double (nullable = true)\n",
            " |-- Albumin: double (nullable = true)\n",
            " |-- Albumin_and_Globulin_Ratio: double (nullable = true)\n",
            " |-- Class_ID: integer (nullable = true)\n",
            " |-- features: vector (nullable = true)\n",
            "\n"
          ],
          "name": "stdout"
        }
      ]
    },
    {
      "cell_type": "code",
      "metadata": {
        "colab": {
          "base_uri": "https://localhost:8080/"
        },
        "id": "4DY58CyHDrQ9",
        "outputId": "4068c366-00f2-48da-a098-6955eedf1002"
      },
      "source": [
        "df_train, df_test = df1.randomSplit([0.75,0.25])\n",
        "print('Training set info:')\n",
        "df_train.groupBy('Class_ID').count().show()\n",
        "print('Test set info:')\n",
        "df_test.groupBy('Class_ID').count().show()\n"
      ],
      "execution_count": 14,
      "outputs": [
        {
          "output_type": "stream",
          "text": [
            "Training set info:\n",
            "+--------+-----+\n",
            "|Class_ID|count|\n",
            "+--------+-----+\n",
            "|       1|  314|\n",
            "|       2|  123|\n",
            "+--------+-----+\n",
            "\n",
            "Test set info:\n",
            "+--------+-----+\n",
            "|Class_ID|count|\n",
            "+--------+-----+\n",
            "|       1|  100|\n",
            "|       2|   42|\n",
            "+--------+-----+\n",
            "\n"
          ],
          "name": "stdout"
        }
      ]
    },
    {
      "cell_type": "code",
      "metadata": {
        "id": "Rv7DW2avDrU-"
      },
      "source": [
        "from pyspark.ml.classification import RandomForestClassifier\n",
        "rfClassifier = RandomForestClassifier(labelCol='Class_ID',\n",
        "                                      numTrees=15).fit(df_train)"
      ],
      "execution_count": 15,
      "outputs": []
    },
    {
      "cell_type": "code",
      "metadata": {
        "colab": {
          "base_uri": "https://localhost:8080/"
        },
        "id": "RT7sdiymDrZP",
        "outputId": "432e7bf6-66ba-4f32-86d7-f7ad60544973"
      },
      "source": [
        "rf_predictions=rfClassifier.transform(df_test)\n",
        "rf_predictions.show()"
      ],
      "execution_count": 17,
      "outputs": [
        {
          "output_type": "stream",
          "text": [
            "+---+------+---------------+----------------+--------------------+------------------------+--------------------------+-------------+-------+--------------------------+--------+--------------------+--------------------+--------------------+----------+\n",
            "|Age|Gender|Total_Bilirubin|Direct_Bilirubin|Alkaline_Phosphotase|Alamine_Aminotransferase|Aspartate_Aminotransferase|Total_Protein|Albumin|Albumin_and_Globulin_Ratio|Class_ID|            features|       rawPrediction|         probability|prediction|\n",
            "+---+------+---------------+----------------+--------------------+------------------------+--------------------------+-------------+-------+--------------------------+--------+--------------------+--------------------+--------------------+----------+\n",
            "| 10|     1|            0.8|             0.1|                 395|                      25|                        75|          7.6|    3.6|                       0.9|       1|[10.0,1.0,0.8,0.1...|[0.0,9.6996288836...|[0.0,0.6466419255...|       1.0|\n",
            "| 12|     0|            0.8|             0.2|                 302|                      47|                        67|          6.7|    3.5|                       1.1|       2|[12.0,0.0,0.8,0.2...|[0.0,9.6394573388...|[0.0,0.6426304892...|       1.0|\n",
            "| 13|     0|            0.6|             0.1|                 320|                      28|                        56|          7.2|    3.6|                       1.0|       2|[13.0,0.0,0.6,0.1...|[0.0,9.2262952924...|[0.0,0.6150863528...|       1.0|\n",
            "| 14|     0|            0.9|             0.3|                 310|                      21|                        16|          8.1|    4.2|                       1.0|       2|[14.0,0.0,0.9,0.3...|[0.0,9.7909309756...|[0.0,0.6527287317...|       1.0|\n",
            "| 17|     0|            0.9|             0.2|                 224|                      36|                        45|          6.9|    4.2|                      1.55|       1|[17.0,0.0,0.9,0.2...|[0.0,5.6666844784...|[0.0,0.3777789652...|       2.0|\n",
            "| 18|     0|            0.8|             0.2|                 228|                      55|                        54|          6.9|    4.0|                       1.3|       1|[18.0,0.0,0.8,0.2...|[0.0,7.9804099686...|[0.0,0.5320273312...|       1.0|\n",
            "| 18|     0|            0.9|             0.3|                 300|                      30|                        48|          8.0|    4.0|                       1.0|       1|[18.0,0.0,0.9,0.3...|[0.0,7.4575605062...|[0.0,0.4971707004...|       2.0|\n",
            "| 18|     0|            1.4|             0.6|                 215|                     440|                       850|          5.0|    1.9|                       0.6|       1|[18.0,0.0,1.4,0.6...|[0.0,7.5141488740...|[0.0,0.5009432582...|       1.0|\n",
            "| 18|     1|            0.8|             0.2|                 199|                      34|                        31|          6.5|    3.5|                      1.16|       2|[18.0,1.0,0.8,0.2...|[0.0,8.1356403924...|[0.0,0.5423760261...|       1.0|\n",
            "| 19|     0|            1.4|             0.8|                 178|                      13|                        26|          8.0|    4.6|                       1.3|       2|[19.0,0.0,1.4,0.8...|[0.0,7.6476050499...|[0.0,0.5098403366...|       1.0|\n",
            "| 19|     1|            0.7|             0.2|                 186|                     166|                       397|          5.5|    3.0|                       1.2|       1|[19.0,1.0,0.7,0.2...|[0.0,9.5302934082...|[0.0,0.6353528938...|       1.0|\n",
            "| 21|     1|            0.6|             0.1|                 186|                      25|                        22|          6.8|    3.4|                       1.0|       1|[21.0,1.0,0.6,0.1...|[0.0,5.3505779900...|[0.0,0.3567051993...|       2.0|\n",
            "| 23|     0|            1.0|             0.3|                 212|                      41|                        80|          6.2|    3.1|                       1.0|       1|[23.0,0.0,1.0,0.3...|[0.0,6.0226040650...|[0.0,0.4015069376...|       2.0|\n",
            "| 24|     0|            0.7|             0.2|                 218|                      47|                        26|          6.6|    3.3|                       1.0|       1|[24.0,0.0,0.7,0.2...|[0.0,6.0343452306...|[0.0,0.4022896820...|       2.0|\n",
            "| 24|     0|            3.3|             1.6|                 174|                      11|                        33|          7.6|    3.9|                       1.0|       2|[24.0,0.0,3.3,1.6...|[0.0,14.753368678...|[0.0,0.9835579119...|       1.0|\n",
            "| 25|     0|            0.6|             0.1|                 183|                      91|                        53|          5.5|    2.3|                       0.7|       2|[25.0,0.0,0.6,0.1...|[0.0,6.2981580022...|[0.0,0.4198772001...|       2.0|\n",
            "| 25|     0|            0.7|             0.2|                 185|                     196|                       401|          6.5|    3.9|                       1.5|       1|[25.0,0.0,0.7,0.2...|[0.0,6.5860693686...|[0.0,0.4390712912...|       2.0|\n",
            "| 25|     0|            0.8|             0.1|                 130|                      23|                        42|          8.0|    4.0|                       1.0|       1|[25.0,0.0,0.8,0.1...|[0.0,7.7198363011...|[0.0,0.5146557534...|       1.0|\n",
            "| 25|     1|            0.7|             0.1|                 140|                      32|                        25|          7.6|    4.3|                       1.3|       2|[25.0,1.0,0.7,0.1...|[0.0,4.9361247179...|[0.0,0.3290749811...|       2.0|\n",
            "| 26|     0|            0.6|             0.1|                 110|                      15|                        20|          2.8|    1.6|                       1.3|       1|[26.0,0.0,0.6,0.1...|[0.0,4.8954602296...|[0.0,0.3263640153...|       2.0|\n",
            "+---+------+---------------+----------------+--------------------+------------------------+--------------------------+-------------+-------+--------------------------+--------+--------------------+--------------------+--------------------+----------+\n",
            "only showing top 20 rows\n",
            "\n"
          ],
          "name": "stdout"
        }
      ]
    },
    {
      "cell_type": "code",
      "metadata": {
        "colab": {
          "base_uri": "https://localhost:8080/"
        },
        "id": "XU_SjqE-Dreu",
        "outputId": "81f79200-7782-41ea-8861-07f548b4153d"
      },
      "source": [
        "from pyspark.ml.evaluation import MulticlassClassificationEvaluator\n",
        "from pyspark.ml.evaluation import BinaryClassificationEvaluator\n",
        "rf_accuracy=MulticlassClassificationEvaluator(labelCol='Class_ID',metricName='accuracy').evaluate(rf_predictions)\n",
        "print('The accuracy of RF on test data is {0:.0%}'.format(rf_accuracy))"
      ],
      "execution_count": 18,
      "outputs": [
        {
          "output_type": "stream",
          "text": [
            "The accuracy of RF on test data is 66%\n"
          ],
          "name": "stdout"
        }
      ]
    },
    {
      "cell_type": "code",
      "metadata": {
        "id": "Qg_l8X5oLBnQ"
      },
      "source": [
        ""
      ],
      "execution_count": null,
      "outputs": []
    }
  ]
}