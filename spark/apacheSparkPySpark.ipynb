{
  "nbformat": 4,
  "nbformat_minor": 0,
  "metadata": {
    "colab": {
      "name": "apacheSparkPySpark.ipynb",
      "provenance": []
    },
    "kernelspec": {
      "name": "python3",
      "display_name": "Python 3"
    },
    "language_info": {
      "name": "python"
    }
  },
  "cells": [
    {
      "cell_type": "code",
      "metadata": {
        "colab": {
          "base_uri": "https://localhost:8080/"
        },
        "id": "iyEOtkW-xg8L",
        "outputId": "086ea6e6-c326-4b4f-cc37-ac467b5d84c9"
      },
      "source": [
        "%%bash\n",
        "apt-get install openjdk-8-jdk-headless -qq > /dev/null\n",
        "\n",
        "wget -q https://archive.apache.org/dist/spark/spark-3.0.0/spark-3.0.0-bin-hadoop3.2.tgz\n",
        "tar xf spark-3.0.0-bin-hadoop3.2.tgz\n",
        "\n",
        "pip install findspark"
      ],
      "execution_count": 6,
      "outputs": [
        {
          "output_type": "stream",
          "text": [
            "Requirement already satisfied: findspark in /usr/local/lib/python3.7/dist-packages (1.4.2)\n"
          ],
          "name": "stdout"
        }
      ]
    },
    {
      "cell_type": "code",
      "metadata": {
        "id": "ZpcnHGQfz_rR"
      },
      "source": [
        "import os\n",
        "os.environ[\"JAVA_HOME\"] = \"/usr/lib/jvm/java-8-openjdk-amd64\"\n",
        "os.environ[\"SPARK_HOME\"] = \"/content/spark-3.0.0-bin-hadoop3.2\"\n"
      ],
      "execution_count": 7,
      "outputs": []
    },
    {
      "cell_type": "code",
      "metadata": {
        "colab": {
          "base_uri": "https://localhost:8080/"
        },
        "id": "bwl0Dnq50Q3T",
        "outputId": "f7e2c438-6da4-42d5-d404-29513ec80cf6"
      },
      "source": [
        "from google.colab import drive\n",
        "drive.mount('/content/gdrive')"
      ],
      "execution_count": 3,
      "outputs": [
        {
          "output_type": "stream",
          "text": [
            "Mounted at /content/gdrive\n"
          ],
          "name": "stdout"
        }
      ]
    },
    {
      "cell_type": "code",
      "metadata": {
        "id": "UMFqGIMy0Q6L"
      },
      "source": [
        "import findspark\n",
        "findspark.init()\n",
        "from pyspark.sql import SparkSession\n",
        "spark = SparkSession.builder.master(\"local[*]\").getOrCreate()"
      ],
      "execution_count": 8,
      "outputs": []
    },
    {
      "cell_type": "code",
      "metadata": {
        "id": "L41eLPAi0Q87"
      },
      "source": [
        "df = spark.read.csv('/content/gdrive/MyDrive/DataFolder/brooklyn_sales_map.csv', \n",
        "                    inferSchema = True, sep = ',', header = True)"
      ],
      "execution_count": 10,
      "outputs": []
    },
    {
      "cell_type": "code",
      "metadata": {
        "colab": {
          "base_uri": "https://localhost:8080/"
        },
        "id": "Rg_oQ0yp0Q_s",
        "outputId": "1b24a4cc-6590-45e9-d351-7e14824a8a70"
      },
      "source": [
        "print(df.count(),len(df.columns))"
      ],
      "execution_count": 11,
      "outputs": [
        {
          "output_type": "stream",
          "text": [
            "390883 111\n"
          ],
          "name": "stdout"
        }
      ]
    },
    {
      "cell_type": "code",
      "metadata": {
        "colab": {
          "base_uri": "https://localhost:8080/"
        },
        "id": "Wx1F0JKz0RCr",
        "outputId": "a30adc52-dc78-4f5c-e434-386691597ac4"
      },
      "source": [
        "df.printSchema()"
      ],
      "execution_count": 12,
      "outputs": [
        {
          "output_type": "stream",
          "text": [
            "root\n",
            " |-- _c0: integer (nullable = true)\n",
            " |-- borough1: integer (nullable = true)\n",
            " |-- neighborhood: string (nullable = true)\n",
            " |-- building_class_category: string (nullable = true)\n",
            " |-- tax_class: string (nullable = true)\n",
            " |-- block: integer (nullable = true)\n",
            " |-- lot: integer (nullable = true)\n",
            " |-- easement: string (nullable = true)\n",
            " |-- building_class: string (nullable = true)\n",
            " |-- address9: string (nullable = true)\n",
            " |-- apartment_number: string (nullable = true)\n",
            " |-- zip_code: integer (nullable = true)\n",
            " |-- residential_units: integer (nullable = true)\n",
            " |-- commercial_units: integer (nullable = true)\n",
            " |-- total_units: integer (nullable = true)\n",
            " |-- land_sqft: double (nullable = true)\n",
            " |-- gross_sqft: double (nullable = true)\n",
            " |-- year_built: integer (nullable = true)\n",
            " |-- tax_class_at_sale: integer (nullable = true)\n",
            " |-- building_class_at_sale: string (nullable = true)\n",
            " |-- sale_price: double (nullable = true)\n",
            " |-- sale_date: string (nullable = true)\n",
            " |-- year_of_sale: integer (nullable = true)\n",
            " |-- Borough23: string (nullable = true)\n",
            " |-- CD: string (nullable = true)\n",
            " |-- CT2010: string (nullable = true)\n",
            " |-- CB2010: string (nullable = true)\n",
            " |-- SchoolDist: string (nullable = true)\n",
            " |-- Council: string (nullable = true)\n",
            " |-- ZipCode: string (nullable = true)\n",
            " |-- FireComp: string (nullable = true)\n",
            " |-- PolicePrct: string (nullable = true)\n",
            " |-- HealthCent: string (nullable = true)\n",
            " |-- HealthArea: string (nullable = true)\n",
            " |-- SanitBoro: string (nullable = true)\n",
            " |-- SanitDistr: string (nullable = true)\n",
            " |-- SanitSub: string (nullable = true)\n",
            " |-- Address37: string (nullable = true)\n",
            " |-- ZoneDist1: string (nullable = true)\n",
            " |-- ZoneDist2: string (nullable = true)\n",
            " |-- ZoneDist3: string (nullable = true)\n",
            " |-- ZoneDist4: string (nullable = true)\n",
            " |-- Overlay1: string (nullable = true)\n",
            " |-- Overlay2: string (nullable = true)\n",
            " |-- SPDist1: string (nullable = true)\n",
            " |-- SPDist2: string (nullable = true)\n",
            " |-- SPDist3: string (nullable = true)\n",
            " |-- LtdHeight: string (nullable = true)\n",
            " |-- SplitZone: string (nullable = true)\n",
            " |-- BldgClass: string (nullable = true)\n",
            " |-- LandUse: string (nullable = true)\n",
            " |-- Easements: string (nullable = true)\n",
            " |-- OwnerType: string (nullable = true)\n",
            " |-- OwnerName: string (nullable = true)\n",
            " |-- LotArea: string (nullable = true)\n",
            " |-- BldgArea: string (nullable = true)\n",
            " |-- ComArea: string (nullable = true)\n",
            " |-- ResArea: string (nullable = true)\n",
            " |-- OfficeArea: string (nullable = true)\n",
            " |-- RetailArea: string (nullable = true)\n",
            " |-- GarageArea: string (nullable = true)\n",
            " |-- StrgeArea: string (nullable = true)\n",
            " |-- FactryArea: string (nullable = true)\n",
            " |-- OtherArea: string (nullable = true)\n",
            " |-- AreaSource: string (nullable = true)\n",
            " |-- NumBldgs: string (nullable = true)\n",
            " |-- NumFloors: string (nullable = true)\n",
            " |-- UnitsRes: string (nullable = true)\n",
            " |-- UnitsTotal: string (nullable = true)\n",
            " |-- LotFront: string (nullable = true)\n",
            " |-- LotDepth: string (nullable = true)\n",
            " |-- BldgFront: string (nullable = true)\n",
            " |-- BldgDepth: string (nullable = true)\n",
            " |-- Ext: string (nullable = true)\n",
            " |-- ProxCode: string (nullable = true)\n",
            " |-- IrrLotCode: string (nullable = true)\n",
            " |-- LotType: string (nullable = true)\n",
            " |-- BsmtCode: string (nullable = true)\n",
            " |-- AssessLand: string (nullable = true)\n",
            " |-- AssessTot: string (nullable = true)\n",
            " |-- ExemptLand: string (nullable = true)\n",
            " |-- ExemptTot: string (nullable = true)\n",
            " |-- YearBuilt: string (nullable = true)\n",
            " |-- YearAlter1: string (nullable = true)\n",
            " |-- YearAlter2: string (nullable = true)\n",
            " |-- HistDist: string (nullable = true)\n",
            " |-- Landmark: string (nullable = true)\n",
            " |-- BuiltFAR: string (nullable = true)\n",
            " |-- ResidFAR: string (nullable = true)\n",
            " |-- CommFAR: string (nullable = true)\n",
            " |-- FacilFAR: string (nullable = true)\n",
            " |-- BoroCode: string (nullable = true)\n",
            " |-- BBL: string (nullable = true)\n",
            " |-- CondoNo: string (nullable = true)\n",
            " |-- Tract2010: string (nullable = true)\n",
            " |-- XCoord: string (nullable = true)\n",
            " |-- YCoord: string (nullable = true)\n",
            " |-- ZoneMap: string (nullable = true)\n",
            " |-- ZMCode: string (nullable = true)\n",
            " |-- Sanborn: string (nullable = true)\n",
            " |-- TaxMap: string (nullable = true)\n",
            " |-- EDesigNum: string (nullable = true)\n",
            " |-- APPBBL: string (nullable = true)\n",
            " |-- APPDate: string (nullable = true)\n",
            " |-- PLUTOMapID: string (nullable = true)\n",
            " |-- FIRM07_FLA: string (nullable = true)\n",
            " |-- PFIRM15_FL: string (nullable = true)\n",
            " |-- Version: string (nullable = true)\n",
            " |-- MAPPLUTO_F: string (nullable = true)\n",
            " |-- SHAPE_Leng: string (nullable = true)\n",
            " |-- SHAPE_Area: string (nullable = true)\n",
            "\n"
          ],
          "name": "stdout"
        }
      ]
    },
    {
      "cell_type": "code",
      "metadata": {
        "colab": {
          "base_uri": "https://localhost:8080/"
        },
        "id": "CJ44GiKb7TD2",
        "outputId": "77c393f3-18ed-4524-feef-eb29aabfec1c"
      },
      "source": [
        "df.show(10)"
      ],
      "execution_count": 13,
      "outputs": [
        {
          "output_type": "stream",
          "text": [
            "+---+--------+--------------------+-----------------------+---------+-----+----+--------+--------------+-------------------+----------------+--------+-----------------+----------------+-----------+---------+----------+----------+-----------------+----------------------+------------+----------+------------+---------+---+------+------+----------+-------+-------+--------+----------+----------+----------+---------+----------+--------+-------------------+---------+---------+---------+---------+--------+--------+-------+-------+-------+---------+---------+---------+-------+---------+---------+--------------------+-------+--------+-------+-------+----------+----------+----------+---------+----------+---------+----------+--------+---------+--------+----------+--------+--------+---------+---------+---+--------+----------+-------+--------+----------+---------+----------+---------+---------+----------+----------+--------------------+--------+--------+--------+-------+--------+--------+----------+-------+---------+-------+------+-------+------+-------+------+---------+----------+----------+----------+----------+----------+-------+----------+-------------+-------------+\n",
            "|_c0|borough1|        neighborhood|building_class_category|tax_class|block| lot|easement|building_class|           address9|apartment_number|zip_code|residential_units|commercial_units|total_units|land_sqft|gross_sqft|year_built|tax_class_at_sale|building_class_at_sale|  sale_price| sale_date|year_of_sale|Borough23| CD|CT2010|CB2010|SchoolDist|Council|ZipCode|FireComp|PolicePrct|HealthCent|HealthArea|SanitBoro|SanitDistr|SanitSub|          Address37|ZoneDist1|ZoneDist2|ZoneDist3|ZoneDist4|Overlay1|Overlay2|SPDist1|SPDist2|SPDist3|LtdHeight|SplitZone|BldgClass|LandUse|Easements|OwnerType|           OwnerName|LotArea|BldgArea|ComArea|ResArea|OfficeArea|RetailArea|GarageArea|StrgeArea|FactryArea|OtherArea|AreaSource|NumBldgs|NumFloors|UnitsRes|UnitsTotal|LotFront|LotDepth|BldgFront|BldgDepth|Ext|ProxCode|IrrLotCode|LotType|BsmtCode|AssessLand|AssessTot|ExemptLand|ExemptTot|YearBuilt|YearAlter1|YearAlter2|            HistDist|Landmark|BuiltFAR|ResidFAR|CommFAR|FacilFAR|BoroCode|       BBL|CondoNo|Tract2010| XCoord|YCoord|ZoneMap|ZMCode|Sanborn|TaxMap|EDesigNum|    APPBBL|   APPDate|PLUTOMapID|FIRM07_FLA|PFIRM15_FL|Version|MAPPLUTO_F|   SHAPE_Leng|   SHAPE_Area|\n",
            "+---+--------+--------------------+-----------------------+---------+-----+----+--------+--------------+-------------------+----------------+--------+-----------------+----------------+-----------+---------+----------+----------+-----------------+----------------------+------------+----------+------------+---------+---+------+------+----------+-------+-------+--------+----------+----------+----------+---------+----------+--------+-------------------+---------+---------+---------+---------+--------+--------+-------+-------+-------+---------+---------+---------+-------+---------+---------+--------------------+-------+--------+-------+-------+----------+----------+----------+---------+----------+---------+----------+--------+---------+--------+----------+--------+--------+---------+---------+---+--------+----------+-------+--------+----------+---------+----------+---------+---------+----------+----------+--------------------+--------+--------+--------+-------+--------+--------+----------+-------+---------+-------+------+-------+------+-------+------+---------+----------+----------+----------+----------+----------+-------+----------+-------------+-------------+\n",
            "|  1|       3|  DOWNTOWN-METROTECH|   28  COMMERCIAL CO...|        4|  140|1001|    null|            R5|     330 JAY STREET|           COURT|   11201|                0|               1|          1|      0.0|       0.0|      2002|                4|                    R5|4.99401179E8|2008-04-23|        2008|       NA| NA|    NA|    NA|        NA|     NA|     NA|      NA|        NA|        NA|        NA|       NA|        NA|      NA|                 NA|       NA|       NA|       NA|       NA|      NA|      NA|     NA|     NA|     NA|       NA|       NA|       NA|     NA|       NA|       NA|                  NA|     NA|      NA|     NA|     NA|        NA|        NA|        NA|       NA|        NA|       NA|        NA|      NA|       NA|      NA|        NA|      NA|      NA|       NA|       NA| NA|      NA|        NA|     NA|      NA|        NA|       NA|        NA|       NA|       NA|        NA|        NA|                  NA|      NA|      NA|      NA|     NA|      NA|      NA|        NA|     NA|       NA|     NA|    NA|     NA|    NA|     NA|    NA|       NA|        NA|        NA|        NA|        NA|        NA|     NA|        NA|           NA|           NA|\n",
            "|  2|       3|DOWNTOWN-FULTON F...|   29  COMMERCIAL GA...|        4|   54|   1|    null|            G7|      85 JAY STREET|            null|   11201|                0|               0|          0| 134988.0|       0.0|         0|                4|                    G7|      3.45E8|2016-12-20|        2016|       BK|302|    21|  3017|        13|     33|  11201|    L118|        84|        36|      1000|        3|        02|      1B|      87 JAY STREET|  M1-2/R8|       NA|       NA|       NA|      NA|      NA|   MX-2|     NA|     NA|       NA|        N|       G7|     10|        0|        P|85 JAY STREET BRO...| 134988|       0|      0|      0|         0|         0|         0|        0|         0|        0|         7|       0|        0|       0|         0|   490.5|  275.33|        0|        0| NA|       0|         N|      5|       5|   1571850|  1571850|   1571850|  1571850|        0|         0|         0|                  NA|      NA|       0|     7.2|      2|     6.5|       3|3000540001|      0|     0021| 988208|195011|    12d|    NA|302 016| 30101|       NA|3000540001|12/06/2002|         1|        NA|        NA| 17V1.1|         0|1559.88914353|140131.577176|\n",
            "|  3|       3|    BROOKLYN HEIGHTS|   21  OFFICE BUILDINGS|        4|  204|   1|    null|            O6|29 COLUMBIA HEIGHTS|            null|   11201|                0|               0|          0|  32000.0|  304650.0|      1924|                4|                    O6|       3.4E8|2016-08-03|        2016|       BK|302|     1|  1003|        13|     33|  11201|    E205|        84|        38|      2300|        3|        02|      1A|29 COLUMBIA HEIGHTS|     M2-1|       NA|       NA|       NA|      NA|      NA|     NA|     NA|     NA|       NA|        N|       O6|     05|        0|       NA|25-30 COLUMBIA HE...|  32000|  304650| 304650|      0|    264750|         0|         0|        0|         0|    39900|         2|       1|       13|       0|         0|   92.42|  335.92|      335|       92| NA|       0|         Y|      3|       5|   1548000| 25463250|         0|        0|     1924|      1980|         0|                  NA|      NA|    9.52|       0|      2|       0|       3|3002040001|      0|     0001| 985952|195007|    12d|    NA|302 004| 30106|       NA|         0|        NA|         1|        NA|        NA| 17V1.1|         0|890.718521021|34656.4472405|\n",
            "|  4|       3|          MILL BASIN|    22  STORE BUILDINGS|        4| 8470|  55|    null|            K6|      5120 AVENUE U|            null|   11234|                0|             123|        123| 905000.0| 2548000.0|      1970|                4|                    K6|   2.76947E8|2012-11-28|        2012|       BK|318|   698|  2005|        22|     46|  11234|    E323|        63|        35|      8822|        3|        18|      4E|      5120 AVENUE U|     M3-1|       NA|       NA|       NA|      NA|      NA|     NA|     NA|     NA|       NA|        N|       K6|     05|        1|       NA|BROOKLYN KINGS PLAZA| 905000| 2548000|2548000|      0|         0|   1263000|   1285000|        0|         0|        0|         2|       4|        2|       0|       123|     930|     859|        0|        0| NA|       0|         Y|      3|       5|  36532350|149792400|         0|        0|     1970|         0|         0|                  NA|      NA|    2.82|       0|      2|       0|       3|3084700055|      0|     0698|1006597|161424|    23b|    NA|319 077| 32502|       NA|         0|        NA|         1|         1|         1| 17V1.1|         0|3729.78685686|797554.847834|\n",
            "|  5|       3|    BROOKLYN HEIGHTS|        26 OTHER HOTELS|        4|  230|   1|    null|            H8|    21 CLARK STREET|            null|   11201|                0|               1|          1|  20267.0|  356000.0|      1927|                4|                    H8|     2.025E8|2017-10-31|        2017|       BK|302|  3.01|  2000|        13|     33|  11201|    E205|        84|        38|      2300|        3|        02|      1A|   79 WILLOW STREET|       R6|       NA|       NA|       NA|      NA|      NA|     NA|     NA|     NA|     LH-1|        N|       H8|     08|        0|        X|WATCHTOWER C/O RE...|  20267|  356000|  30000|      0|     30000|         0|         0|        0|         0|        0|         2|       1|       15|       0|         1|     202|  100.33|      202|   100.33| NA|       0|         N|      3|       2|   2250000| 27166050|   2250000| 27166050|     1927|      1998|      2000|Brooklyn Heights ...|      NA|   17.57|    2.43|      0|     4.8|       3|3002300001|      0|   000301| 985622|193713|    12d|    NA|302 014| 30106|       NA|         0|        NA|         1|        NA|        NA| 17V1.1|         0|620.761169374|21360.1476315|\n",
            "|  6|       3|  WILLIAMSBURG-SOUTH|   31  COMMERCIAL VA...|        4| 2428|   1|    null|            V1|    329 KENT AVENUE|            null|   11249|                0|               0|          0|  57600.0|       0.0|         0|                4|                    V1|   1.85445E8|2012-10-11|        2012|       BK|301|   551|  1009|        14|     33|  11249|    E221|        90|        30|       400|        3|        01|      2B|    325 KENT AVENUE|       R6|       NA|       NA|       NA|    C2-4|      NA|     NA|     NA|     NA|       NA|        N|       D7|     04|        0|       NA|        325 KENT LLC|  57600|  382746|  11200| 371546|      1822|      9378|         0|        0|         0|        0|         2|       1|        0|     522|       525|     180|     320|      179|      315| NA|       0|         N|      3|       5|   3110400|  5579990|         0|        0|     2015|         0|         0|                  NA|      NA|    6.64|    2.43|      0|     4.8|       3|3024280001|      0|     0551| 993500|199202|    12d|    NA|303 007| 30806|    E-337|         0|        NA|         1|        NA|        NA| 17V1.1|         0|1006.33799946|58564.8643115|\n",
            "|  7|       3|    BROOKLYN HEIGHTS|    21 OFFICE BUILDINGS|        4|  250|  44|    null|            O4|    16 COURT STREET|            null|   11241|                0|             102|        102|  12500.0|  290440.0|      1928|                4|                    O4|      1.71E8|2017-10-10|        2017|       BK|302|     9|  1001|        13|     33|  11241|    E205|        84|        38|      2300|        3|        02|      1B|    16 COURT STREET|    C5-2A|       NA|       NA|       NA|      NA|      NA|     DB|     NA|     NA|       NA|        N|       O4|     05|        0|        P|16 COURT STREET O...|  12500|  290440| 290440|      0|    274500|     15940|         0|        0|         0|        0|         2|       1|       37|       0|       102|     100|     125|       92|      125| NA|       0|         Y|      3|       2|   2448000| 28309500|         0| 11304900|     1928|      2009|         0|Borough Hall Skys...|      NA|   23.24|      10|     10|      10|       3|3002500044|      0|     0009| 986784|191977|    12d|    NA|302 018| 30107|       NA|         0|        NA|         1|        NA|        NA| 17V1.1|         0|460.031680123| 12947.145471|\n",
            "|  8|       3|  WILLIAMSBURG-NORTH|   08  RENTALS - ELE...|        2| 2307|   1|    null|            D8|    250 N 10 STREET|            null|   11211|              234|               3|        237|  50173.0|  241764.0|      2012|                2|                    D8|      1.69E8|2015-05-01|        2015|       BK|301|   519|  1006|        14|     33|  11211|    E229|        94|        30|       700|        3|        01|      3B|236 NORTH 10 STREET| M1-2/R6A|       NA|       NA|       NA|      NA|      NA|   MX-8|     NA|     NA|       NA|        N|       D8|     03|        0|        P|BRKLYN NY 250 N 10TH|  50173|  241764|  27900| 213864|      4200|         0|     22200|     1500|         0|        0|         2|       1|        6|     234|       237|  521.25|     200|      500|      100| NA|       1|         N|      1|       2|   1354500| 23965650|    932847| 23543997|     2012|      2012|         0|                  NA|      NA|    4.82|       3|      2|       3|       3|3023070001|      0|     0519| 997307|200618|    13a|    NA|304 018| 30804|    E-138|3023070001|10/08/2013|         1|         1|        NA| 17V1.1|         0|1385.27352839|50772.6248688|\n",
            "|  9|       3|  WILLIAMSBURG-SOUTH|   29  COMMERCIAL GA...|        4| 2128|   5|    null|            G7|    418 KENT AVENUE|            null|   11249|                0|               0|          0|  44704.0|       0.0|         0|                4|                    G7|      1.65E8|2015-02-04|        2015|       BK|301|   549|  2006|        14|     33|  11249|    E221|        90|        30|       500|        3|        01|      4A|    418 KENT AVENUE|     R7-3|     C4-3|       NA|       NA|    C2-4|      NA|     NA|     NA|     NA|       NA|        Y|       D1|     03|        0|       NA| 420 KENT AVENUE LLC|  44704|  463427|   4884| 458543|         0|      4884|         0|        0|         0|        0|         2|       2|       20|     470|       472|  225.08|  281.86|        0|        0| NA|       0|         Y|      5|       5|   1699200|  3534300|         0|        0|     2016|         0|         0|                  NA|      NA|   10.37|       5|      0|       5|       3|3021280005|      0|     0549| 992807|198027|    12d|    NA|303 006| 30801|     R-47|3021280005|10/29/2014|         1|         1|         1| 17V1.1|         0|992.915660585|47019.5677861|\n",
            "| 10|       3|           NAVY YARD|         30  WAREHOUSES|        4| 1876|   1|    null|            E9|       9-47 HALL ST|            null|   11205|                0|               1|          1| 113800.0|  547000.0|      1912|                4|                    E9|      1.61E8|2016-03-04|        2016|       BK|302|   543|  2003|        14|     35|  11205|    L119|        88|        36|      9300|        3|        02|      4E|     39 HALL STREET|     M1-2|       NA|       NA|       NA|      NA|      NA|     NA|     NA|     NA|       NA|        N|       E9|     06|        0|        P|RXR 9-47 HALL STREET| 113800|  547000| 547000|      0|         0|         0|         0|        0|    547000|        0|         2|      13|        8|       0|         1|     569|     204|      304|    80.92| NA|       0|         Y|      3|       5|   1282500| 11295000|         0|        0|     1912|         0|         0|                  NA|      NA|    4.81|       0|      2|     4.8|       3|3018760001|      0|     0543| 993650|193137|    12d|    NA|302 049| 30701|       NA|         0|        NA|         1|        NA|        NA| 17V1.1|         0|1565.91477261|118754.785737|\n",
            "+---+--------+--------------------+-----------------------+---------+-----+----+--------+--------------+-------------------+----------------+--------+-----------------+----------------+-----------+---------+----------+----------+-----------------+----------------------+------------+----------+------------+---------+---+------+------+----------+-------+-------+--------+----------+----------+----------+---------+----------+--------+-------------------+---------+---------+---------+---------+--------+--------+-------+-------+-------+---------+---------+---------+-------+---------+---------+--------------------+-------+--------+-------+-------+----------+----------+----------+---------+----------+---------+----------+--------+---------+--------+----------+--------+--------+---------+---------+---+--------+----------+-------+--------+----------+---------+----------+---------+---------+----------+----------+--------------------+--------+--------+--------+-------+--------+--------+----------+-------+---------+-------+------+-------+------+-------+------+---------+----------+----------+----------+----------+----------+-------+----------+-------------+-------------+\n",
            "only showing top 10 rows\n",
            "\n"
          ],
          "name": "stdout"
        }
      ]
    },
    {
      "cell_type": "code",
      "metadata": {
        "colab": {
          "base_uri": "https://localhost:8080/"
        },
        "id": "4IzuIlIQ7TIX",
        "outputId": "2674a416-3b70-4323-bb3f-08239a6bc47f"
      },
      "source": [
        "dfStore = df.filter(df.building_class_category == '22  STORE BUILDINGS')\n",
        "dfStore.show(10)"
      ],
      "execution_count": 15,
      "outputs": [
        {
          "output_type": "stream",
          "text": [
            "+---+--------+--------------------+-----------------------+---------+-----+---+--------+--------------+--------------------+----------------+--------+-----------------+----------------+-----------+---------+----------+----------+-----------------+----------------------+----------+----------+------------+---------+---+------+------+----------+-------+-------+--------+----------+----------+----------+---------+----------+--------+------------------+---------+---------+---------+---------+--------+--------+-------+-------+-------+---------+---------+---------+-------+---------+---------+--------------------+-------+--------+-------+-------+----------+----------+----------+---------+----------+---------+----------+--------+---------+--------+----------+--------+--------+---------+---------+---+--------+----------+-------+--------+----------+---------+----------+---------+---------+----------+----------+--------+--------+--------+--------+-------+--------+--------+----------+-------+---------+-------+------+-------+------+-------+------+---------+----------+----------+----------+----------+----------+-------+----------+-------------+-------------+\n",
            "|_c0|borough1|        neighborhood|building_class_category|tax_class|block|lot|easement|building_class|            address9|apartment_number|zip_code|residential_units|commercial_units|total_units|land_sqft|gross_sqft|year_built|tax_class_at_sale|building_class_at_sale|sale_price| sale_date|year_of_sale|Borough23| CD|CT2010|CB2010|SchoolDist|Council|ZipCode|FireComp|PolicePrct|HealthCent|HealthArea|SanitBoro|SanitDistr|SanitSub|         Address37|ZoneDist1|ZoneDist2|ZoneDist3|ZoneDist4|Overlay1|Overlay2|SPDist1|SPDist2|SPDist3|LtdHeight|SplitZone|BldgClass|LandUse|Easements|OwnerType|           OwnerName|LotArea|BldgArea|ComArea|ResArea|OfficeArea|RetailArea|GarageArea|StrgeArea|FactryArea|OtherArea|AreaSource|NumBldgs|NumFloors|UnitsRes|UnitsTotal|LotFront|LotDepth|BldgFront|BldgDepth|Ext|ProxCode|IrrLotCode|LotType|BsmtCode|AssessLand|AssessTot|ExemptLand|ExemptTot|YearBuilt|YearAlter1|YearAlter2|HistDist|Landmark|BuiltFAR|ResidFAR|CommFAR|FacilFAR|BoroCode|       BBL|CondoNo|Tract2010| XCoord|YCoord|ZoneMap|ZMCode|Sanborn|TaxMap|EDesigNum|    APPBBL|   APPDate|PLUTOMapID|FIRM07_FLA|PFIRM15_FL|Version|MAPPLUTO_F|   SHAPE_Leng|   SHAPE_Area|\n",
            "+---+--------+--------------------+-----------------------+---------+-----+---+--------+--------------+--------------------+----------------+--------+-----------------+----------------+-----------+---------+----------+----------+-----------------+----------------------+----------+----------+------------+---------+---+------+------+----------+-------+-------+--------+----------+----------+----------+---------+----------+--------+------------------+---------+---------+---------+---------+--------+--------+-------+-------+-------+---------+---------+---------+-------+---------+---------+--------------------+-------+--------+-------+-------+----------+----------+----------+---------+----------+---------+----------+--------+---------+--------+----------+--------+--------+---------+---------+---+--------+----------+-------+--------+----------+---------+----------+---------+---------+----------+----------+--------+--------+--------+--------+-------+--------+--------+----------+-------+---------+-------+------+-------+------+-------+------+---------+----------+----------+----------+----------+----------+-------+----------+-------------+-------------+\n",
            "|  4|       3|          MILL BASIN|    22  STORE BUILDINGS|        4| 8470| 55|    null|            K6|       5120 AVENUE U|            null|   11234|                0|             123|        123| 905000.0| 2548000.0|      1970|                4|                    K6| 2.76947E8|2012-11-28|        2012|       BK|318|   698|  2005|        22|     46|  11234|    E323|        63|        35|      8822|        3|        18|      4E|     5120 AVENUE U|     M3-1|       NA|       NA|       NA|      NA|      NA|     NA|     NA|     NA|       NA|        N|       K6|     05|        1|       NA|BROOKLYN KINGS PLAZA| 905000| 2548000|2548000|      0|         0|   1263000|   1285000|        0|         0|        0|         2|       4|        2|       0|       123|     930|     859|        0|        0| NA|       0|         Y|      3|       5|  36532350|149792400|         0|        0|     1970|         0|         0|      NA|      NA|    2.82|       0|      2|       0|       3|3084700055|      0|     0698|1006597|161424|    23b|    NA|319 077| 32502|       NA|         0|        NA|         1|         1|         1| 17V1.1|         0|3729.78685686|797554.847834|\n",
            "|113|       3|DOWNTOWN-FULTON MALL|    22  STORE BUILDINGS|        4|  159|  1|    null|            K9|486-496 FULTON ST...|            null|   11201|                0|               4|          4|  42633.0|  269845.0|      1920|                4|                    K9|4.644285E7|2010-04-22|        2010|       NA| NA|    NA|    NA|        NA|     NA|     NA|      NA|        NA|        NA|        NA|       NA|        NA|      NA|                NA|       NA|       NA|       NA|       NA|      NA|      NA|     NA|     NA|     NA|       NA|       NA|       NA|     NA|       NA|       NA|                  NA|     NA|      NA|     NA|     NA|        NA|        NA|        NA|       NA|        NA|       NA|        NA|      NA|       NA|      NA|        NA|      NA|      NA|       NA|       NA| NA|      NA|        NA|     NA|      NA|        NA|       NA|        NA|       NA|       NA|        NA|        NA|      NA|      NA|      NA|      NA|     NA|      NA|      NA|        NA|     NA|       NA|     NA|    NA|     NA|    NA|     NA|    NA|       NA|        NA|        NA|        NA|        NA|        NA|     NA|        NA|           NA|           NA|\n",
            "|136|       3|DOWNTOWN-FULTON MALL|    22  STORE BUILDINGS|        4|  161| 47|    null|            K2|  8-16 NEVINS STREET|            null|   11217|                0|               3|          3|   9604.0|   18315.0|      1920|                4|                    K2|   4.175E7|2015-10-19|        2015|       BK|302|    37|  1000|        15|     33|  11201|    E207|        84|        38|      2400|        3|        02|      2B|   8 NEVINS STREET|     C6-4|       NA|       NA|       NA|      NA|      NA|     DB|     NA|     NA|       NA|        N|       V1|     11|        0|        P|NEVINS STREET OWN...|   9604|       0|      0|      0|         0|         0|         0|        0|         0|        0|         4|       0|        0|       0|         0|      62|      90|        0|        0| NA|       0|         Y|      5|       5|    776250|   776250|         0|        0|        0|         0|         0|      NA|      NA|       0|      10|     10|      10|       3|3001610047|      0|     0037| 989425|190105|    16c|    NA|302 026| 30104|       NA|3001610047|10/08/2014|         1|        NA|        NA| 17V1.1|         0|415.595800753|9744.88977802|\n",
            "|158|       3|  WILLIAMSBURG-SOUTH|    22  STORE BUILDINGS|        4| 2415| 22|    null|            K1|60 SOUTH 2ND   ST...|            null|   11249|                0|               1|          1|  14125.0|    7000.0|      1952|                4|                    K1|    3.62E7|2016-04-01|        2016|       BK|301|   551|  1004|        14|     33|  11249|    E221|        90|        30|       400|        3|        01|      2B| 60 SOUTH 2 STREET| M1-4/R6A|       NA|       NA|       NA|      NA|      NA|   MX-8|     NA|     NA|       NA|        N|       K1|     05|        0|       NA|       FREEWYTHE LLC|  28900|    7000|   7000|      0|         0|      7000|         0|        0|         0|        0|         2|       3|        1|       0|         1|      55|     175|       50|      140| NA|       2|         Y|      5|       0|    520200|  1533600|         0|        0|     1952|         0|         0|      NA|      NA|    0.24|       3|      2|       3|       3|3024150022|      0|     0551| 993774|199424|    12d|    NA|303 008| 30806|       NA|3024150022|10/21/2016|         1|        NA|        NA| 17V1.1|         0|857.799186911|30257.0815781|\n",
            "|197|       3|  DOWNTOWN-METROTECH|    22  STORE BUILDINGS|     null| 2049|  1|    null|          null|     343 GOLD STREET|            null|   11201|                0|               0|          0|      0.0|       0.0|         0|                4|                    K2|   3.125E7|2007-01-18|        2007|       NA| NA|    NA|    NA|        NA|     NA|     NA|      NA|        NA|        NA|        NA|       NA|        NA|      NA|                NA|       NA|       NA|       NA|       NA|      NA|      NA|     NA|     NA|     NA|       NA|       NA|       NA|     NA|       NA|       NA|                  NA|     NA|      NA|     NA|     NA|        NA|        NA|        NA|       NA|        NA|       NA|        NA|      NA|       NA|      NA|        NA|      NA|      NA|       NA|       NA| NA|      NA|        NA|     NA|      NA|        NA|       NA|        NA|       NA|       NA|        NA|        NA|      NA|      NA|      NA|      NA|     NA|      NA|      NA|        NA|     NA|       NA|     NA|    NA|     NA|    NA|     NA|    NA|       NA|        NA|        NA|        NA|        NA|        NA|     NA|        NA|           NA|           NA|\n",
            "|212|       3|  WILLIAMSBURG-NORTH|    22  STORE BUILDINGS|        4| 2319|124|    null|            K2|  176 BEDFORD AVENUE|            null|   11249|                0|               1|          1|   3600.0|    7200.0|      2014|                4|                    K2|     3.0E7|2016-10-13|        2016|       BK|301|   553|  3000|        14|     33|  11249|    L104|        94|        30|       400|        3|        01|      2B|176 BEDFORD AVENUE|      R6B|       NA|       NA|       NA|    C1-4|      NA|     NA|     NA|     NA|       NA|        N|       K2|     05|        0|       NA|THOR 180 BEDFORD LLC|   3600|    7200|   7200|      0|         0|      7200|         0|        0|         0|        0|         2|       2|        2|       0|         1|      60|      60|       60|       60| NA|       0|         N|      3|       5|    180000|   189000|         0|        0|     2014|         0|         0|      NA|      NA|       2|       2|      0|       2|       3|3023190124|      0|     0553| 995960|200886|    12c|    NA|304 013| 30804|       NA|3023190124|08/12/2010|         1|        NA|        NA| 17V1.1|         0|257.260994317|4134.38518805|\n",
            "|221|       3|      SHEEPSHEAD BAY|    22  STORE BUILDINGS|        4| 7438|  1|    null|            K1|       1710 AVENUE Y|            null|   11235|                0|               1|          1|  88736.0|   59883.0|      1992|                4|                    K1|    2.85E7|2011-12-01|        2011|       BK|315|   592|  3002|        22|     48|  11235|    E246|        61|        37|      8721|        3|        15|      3D|     1702 AVENUE Y|     C8-1|       NA|       NA|       NA|      NA|      NA|     NA|     NA|     NA|       NA|        N|       K8|     05|        0|        P|    SANDS BROOK, LLC|  88736|   59883|  59883|      0|      2000|     57883|         0|        0|         0|        0|         2|       1|        1|       0|         1|   200.3|   474.1|      175|      315| NA|       1|         Y|      3|       0|   1992600|  5966550|         0|        0|     1992|      2013|         0|      NA|      NA|    0.67|       0|      1|     2.4|       3|3074380001|      0|     0592| 997515|154098|    29a|    NA|318 009| 32205|       NA|3074380001|12/17/1991|         1|        NA|         1| 17V1.1|         0|1330.62242583|92107.5423636|\n",
            "|277|       3|        CONEY ISLAND|    22  STORE BUILDINGS|        4| 7273|103|    null|            K1| 532A NEPTUNE AVENUE|            null|   11224|                0|               3|          3|  30300.0|    8450.0|      1931|                4|                    K1|     2.5E7|2013-01-24|        2013|       NA| NA|    NA|    NA|        NA|     NA|     NA|      NA|        NA|        NA|        NA|       NA|        NA|      NA|                NA|       NA|       NA|       NA|       NA|      NA|      NA|     NA|     NA|     NA|       NA|       NA|       NA|     NA|       NA|       NA|                  NA|     NA|      NA|     NA|     NA|        NA|        NA|        NA|       NA|        NA|       NA|        NA|      NA|       NA|      NA|        NA|      NA|      NA|       NA|       NA| NA|      NA|        NA|     NA|      NA|        NA|       NA|        NA|       NA|       NA|        NA|        NA|      NA|      NA|      NA|      NA|     NA|      NA|      NA|        NA|     NA|       NA|     NA|    NA|     NA|    NA|     NA|    NA|       NA|        NA|        NA|        NA|        NA|        NA|     NA|        NA|           NA|           NA|\n",
            "|280|       3|        BOROUGH PARK|    22  STORE BUILDINGS|        4| 5648| 38|    null|            K2|  5002 13TH   AVENUE|            null|   11219|                0|               5|          5|  18232.0|   45322.0|      1985|                4|                    K2|     2.5E7|2015-04-20|        2015|       BK|312|   220|  2001|        20|     44|  11219|    E282|        66|        39|      6800|        3|        12|      2D|    5002 13 AVENUE|     C4-3|       NA|       NA|       NA|      NA|      NA|     NA|     NA|     NA|       NA|        N|       K4|     04|        0|       NA|             BPBP LP|  18232|   40802|  40802|      0|     16000|     16000|      8802|        0|         0|        0|         2|       1|        2|       0|         5|  200.35|      90|      200|       80| NA|       0|         Y|      3|       5|    471600|  3366450|         0|        0|     1985|         0|         0|      NA|      NA|    2.24|    2.43|    3.4|     4.8|       3|3056480038|      0|     0220| 986128|170380|    22c|    NA|306A050| 31706|       NA|         0|        NA|         1|        NA|        NA| 17V1.1|         0|586.445642923|18208.2582365|\n",
            "|291|       3|DOWNTOWN-FULTON MALL|    22  STORE BUILDINGS|        4|  149| 32|    null|            K4|   553 FULTON STREET|            null|   11201|                0|               1|          1|   1488.0|    4464.0|      1920|                4|                    K4|   2.435E7|2015-08-19|        2015|       BK|302|    33|  2005|        13|     33|  11201|    E207|        84|        36|      1200|        3|        02|      1B| 553 FULTON STREET|   C6-4.5|       NA|       NA|       NA|      NA|      NA|     DB|     NA|     NA|       NA|        N|       K4|     04|        0|        P|547 FULTON PARTNERS,|   1488|    4464|   4464|      0|         0|      1488|         0|        0|         0|     2976|         2|       1|        3|       0|         1|      20|      84|       20|       84| NA|       0|         Y|      5|       5|    156150|   622800|         0|        0|     1920|         0|         0|      NA|      NA|       3|      10|     12|      12|       3|3001490032|      0|     0033| 989096|190579|    16c|    NA|302 026| 30104|    E-124|         0|        NA|         1|        NA|        NA| 17V1.1|         0|204.010736794|1484.18822569|\n",
            "+---+--------+--------------------+-----------------------+---------+-----+---+--------+--------------+--------------------+----------------+--------+-----------------+----------------+-----------+---------+----------+----------+-----------------+----------------------+----------+----------+------------+---------+---+------+------+----------+-------+-------+--------+----------+----------+----------+---------+----------+--------+------------------+---------+---------+---------+---------+--------+--------+-------+-------+-------+---------+---------+---------+-------+---------+---------+--------------------+-------+--------+-------+-------+----------+----------+----------+---------+----------+---------+----------+--------+---------+--------+----------+--------+--------+---------+---------+---+--------+----------+-------+--------+----------+---------+----------+---------+---------+----------+----------+--------+--------+--------+--------+-------+--------+--------+----------+-------+---------+-------+------+-------+------+-------+------+---------+----------+----------+----------+----------+----------+-------+----------+-------------+-------------+\n",
            "only showing top 10 rows\n",
            "\n"
          ],
          "name": "stdout"
        }
      ]
    },
    {
      "cell_type": "code",
      "metadata": {
        "colab": {
          "base_uri": "https://localhost:8080/"
        },
        "id": "PTOvL4Cc7TUR",
        "outputId": "44457e80-33c1-4c95-e3d8-03cc8f040c7b"
      },
      "source": [
        "dfStore2015 = dfStore.filter((dfStore.sale_price>30000000)&(dfStore.year_of_sale>=2015))\n",
        "dfStore2015.show(10)"
      ],
      "execution_count": 16,
      "outputs": [
        {
          "output_type": "stream",
          "text": [
            "+---+--------+--------------------+-----------------------+---------+-----+---+--------+--------------+--------------------+----------------+--------+-----------------+----------------+-----------+---------+----------+----------+-----------------+----------------------+----------+----------+------------+---------+---+------+------+----------+-------+-------+--------+----------+----------+----------+---------+----------+--------+-----------------+---------+---------+---------+---------+--------+--------+-------+-------+-------+---------+---------+---------+-------+---------+---------+--------------------+-------+--------+-------+-------+----------+----------+----------+---------+----------+---------+----------+--------+---------+--------+----------+--------+--------+---------+---------+---+--------+----------+-------+--------+----------+---------+----------+---------+---------+----------+----------+--------+--------+--------+--------+-------+--------+--------+----------+-------+---------+------+------+-------+------+-------+------+---------+----------+----------+----------+----------+----------+-------+----------+-------------+-------------+\n",
            "|_c0|borough1|        neighborhood|building_class_category|tax_class|block|lot|easement|building_class|            address9|apartment_number|zip_code|residential_units|commercial_units|total_units|land_sqft|gross_sqft|year_built|tax_class_at_sale|building_class_at_sale|sale_price| sale_date|year_of_sale|Borough23| CD|CT2010|CB2010|SchoolDist|Council|ZipCode|FireComp|PolicePrct|HealthCent|HealthArea|SanitBoro|SanitDistr|SanitSub|        Address37|ZoneDist1|ZoneDist2|ZoneDist3|ZoneDist4|Overlay1|Overlay2|SPDist1|SPDist2|SPDist3|LtdHeight|SplitZone|BldgClass|LandUse|Easements|OwnerType|           OwnerName|LotArea|BldgArea|ComArea|ResArea|OfficeArea|RetailArea|GarageArea|StrgeArea|FactryArea|OtherArea|AreaSource|NumBldgs|NumFloors|UnitsRes|UnitsTotal|LotFront|LotDepth|BldgFront|BldgDepth|Ext|ProxCode|IrrLotCode|LotType|BsmtCode|AssessLand|AssessTot|ExemptLand|ExemptTot|YearBuilt|YearAlter1|YearAlter2|HistDist|Landmark|BuiltFAR|ResidFAR|CommFAR|FacilFAR|BoroCode|       BBL|CondoNo|Tract2010|XCoord|YCoord|ZoneMap|ZMCode|Sanborn|TaxMap|EDesigNum|    APPBBL|   APPDate|PLUTOMapID|FIRM07_FLA|PFIRM15_FL|Version|MAPPLUTO_F|   SHAPE_Leng|   SHAPE_Area|\n",
            "+---+--------+--------------------+-----------------------+---------+-----+---+--------+--------------+--------------------+----------------+--------+-----------------+----------------+-----------+---------+----------+----------+-----------------+----------------------+----------+----------+------------+---------+---+------+------+----------+-------+-------+--------+----------+----------+----------+---------+----------+--------+-----------------+---------+---------+---------+---------+--------+--------+-------+-------+-------+---------+---------+---------+-------+---------+---------+--------------------+-------+--------+-------+-------+----------+----------+----------+---------+----------+---------+----------+--------+---------+--------+----------+--------+--------+---------+---------+---+--------+----------+-------+--------+----------+---------+----------+---------+---------+----------+----------+--------+--------+--------+--------+-------+--------+--------+----------+-------+---------+------+------+-------+------+-------+------+---------+----------+----------+----------+----------+----------+-------+----------+-------------+-------------+\n",
            "|136|       3|DOWNTOWN-FULTON MALL|    22  STORE BUILDINGS|        4|  161| 47|    null|            K2|  8-16 NEVINS STREET|            null|   11217|                0|               3|          3|   9604.0|   18315.0|      1920|                4|                    K2|   4.175E7|2015-10-19|        2015|       BK|302|    37|  1000|        15|     33|  11201|    E207|        84|        38|      2400|        3|        02|      2B|  8 NEVINS STREET|     C6-4|       NA|       NA|       NA|      NA|      NA|     DB|     NA|     NA|       NA|        N|       V1|     11|        0|        P|NEVINS STREET OWN...|   9604|       0|      0|      0|         0|         0|         0|        0|         0|        0|         4|       0|        0|       0|         0|      62|      90|        0|        0| NA|       0|         Y|      5|       5|    776250|   776250|         0|        0|        0|         0|         0|      NA|      NA|       0|      10|     10|      10|       3|3001610047|      0|     0037|989425|190105|    16c|    NA|302 026| 30104|       NA|3001610047|10/08/2014|         1|        NA|        NA| 17V1.1|         0|415.595800753|9744.88977802|\n",
            "|158|       3|  WILLIAMSBURG-SOUTH|    22  STORE BUILDINGS|        4| 2415| 22|    null|            K1|60 SOUTH 2ND   ST...|            null|   11249|                0|               1|          1|  14125.0|    7000.0|      1952|                4|                    K1|    3.62E7|2016-04-01|        2016|       BK|301|   551|  1004|        14|     33|  11249|    E221|        90|        30|       400|        3|        01|      2B|60 SOUTH 2 STREET| M1-4/R6A|       NA|       NA|       NA|      NA|      NA|   MX-8|     NA|     NA|       NA|        N|       K1|     05|        0|       NA|       FREEWYTHE LLC|  28900|    7000|   7000|      0|         0|      7000|         0|        0|         0|        0|         2|       3|        1|       0|         1|      55|     175|       50|      140| NA|       2|         Y|      5|       0|    520200|  1533600|         0|        0|     1952|         0|         0|      NA|      NA|    0.24|       3|      2|       3|       3|3024150022|      0|     0551|993774|199424|    12d|    NA|303 008| 30806|       NA|3024150022|10/21/2016|         1|        NA|        NA| 17V1.1|         0|857.799186911|30257.0815781|\n",
            "+---+--------+--------------------+-----------------------+---------+-----+---+--------+--------------+--------------------+----------------+--------+-----------------+----------------+-----------+---------+----------+----------+-----------------+----------------------+----------+----------+------------+---------+---+------+------+----------+-------+-------+--------+----------+----------+----------+---------+----------+--------+-----------------+---------+---------+---------+---------+--------+--------+-------+-------+-------+---------+---------+---------+-------+---------+---------+--------------------+-------+--------+-------+-------+----------+----------+----------+---------+----------+---------+----------+--------+---------+--------+----------+--------+--------+---------+---------+---+--------+----------+-------+--------+----------+---------+----------+---------+---------+----------+----------+--------+--------+--------+--------+-------+--------+--------+----------+-------+---------+------+------+-------+------+-------+------+---------+----------+----------+----------+----------+----------+-------+----------+-------------+-------------+\n",
            "\n"
          ],
          "name": "stdout"
        }
      ]
    },
    {
      "cell_type": "code",
      "metadata": {
        "colab": {
          "base_uri": "https://localhost:8080/"
        },
        "id": "HFgFaD3k7TXQ",
        "outputId": "78cac9af-e2ee-4a8d-8fa8-e4d1482dc9a4"
      },
      "source": [
        "dfCategoriesCount = df.groupBy('building_class_category').count()\n",
        "dfCategoriesCount.show()"
      ],
      "execution_count": 17,
      "outputs": [
        {
          "output_type": "stream",
          "text": [
            "+-----------------------+------+\n",
            "|building_class_category| count|\n",
            "+-----------------------+------+\n",
            "|   32  HOSPITAL AND ...|   318|\n",
            "|         17 CONDO COOPS|    29|\n",
            "|   49 CONDO WAREHOUS...|    24|\n",
            "|   11  SPECIAL CONDO...|     4|\n",
            "|            17  CONDOPS|   448|\n",
            "|      44  CONDO PARKING|  2596|\n",
            "|    01 ONE FAMILY HOMES| 54205|\n",
            "|   31 COMMERCIAL VAC...|   132|\n",
            "|   48  CONDO TERRACE...|    90|\n",
            "|   03 THREE FAMILY H...| 38691|\n",
            "|   16  CONDOS - 2-10...|   439|\n",
            "|    02 TWO FAMILY HOMES|106127|\n",
            "|           27 FACTORIES|    84|\n",
            "|          30 WAREHOUSES|   133|\n",
            "|                   null|    83|\n",
            "|   28 COMMERCIAL CONDOS|     7|\n",
            "|   47 CONDO NON-BUSI...|   100|\n",
            "|   36 OUTDOOR RECREA...|     4|\n",
            "|   05  TAX CLASS 1 V...|  7377|\n",
            "|   15  CONDOS - 2-10...|  8913|\n",
            "+-----------------------+------+\n",
            "only showing top 20 rows\n",
            "\n"
          ],
          "name": "stdout"
        }
      ]
    },
    {
      "cell_type": "code",
      "metadata": {
        "colab": {
          "base_uri": "https://localhost:8080/"
        },
        "id": "wrrXdviD_jpE",
        "outputId": "916ead8e-0fdb-458e-8793-8a8c31059ee4"
      },
      "source": [
        "dfStoreOrdered = dfStore.select('address9','year_built','year_of_sale',\n",
        "                                'sale_price').orderBy('year_of_sale',\n",
        "                                                      'sale_price',\n",
        "                                                      ascending = [True,\n",
        "                                                                   False])\n",
        "dfStoreOrdered.show(15)"
      ],
      "execution_count": 18,
      "outputs": [
        {
          "output_type": "stream",
          "text": [
            "+--------------------+----------+------------+----------+\n",
            "|            address9|year_built|year_of_sale|sale_price|\n",
            "+--------------------+----------+------------+----------+\n",
            "|3860-80 NOSTRAND ...|      1959|        2003|    1.75E7|\n",
            "|  1104 KINGS HIGHWAY|      1971|        2003|     1.3E7|\n",
            "|    429-39 86 STREET|      1922|        2003| 8000000.0|\n",
            "|1504 CONEY ISLAND...|         0|        2003| 5625000.0|\n",
            "|446-48 FULTON STREET|      1925|        2003| 4900000.0|\n",
            "|      7011 13 AVENUE|      2003|        2003| 4870075.0|\n",
            "|        435 AVENUE P|      2007|        2003| 4450000.0|\n",
            "| 847 FLATBUSH AVENUE|      1939|        2003| 4300000.0|\n",
            "| 847 FLATBUSH AVENUE|      1931|        2003| 4300000.0|\n",
            "| 847 FLATBUSH AVENUE|      1939|        2003| 4300000.0|\n",
            "|   2343 UTICA AVENUE|         0|        2003| 3800000.0|\n",
            "|237-43 DUFFIELD S...|         0|        2003| 3675000.0|\n",
            "|    1769 BATH AVENUE|      1931|        2003| 3307131.0|\n",
            "|   8704-08 18 AVENUE|      1931|        2003| 3307131.0|\n",
            "|   423 FULTON STREET|      1931|        2003| 3300000.0|\n",
            "+--------------------+----------+------------+----------+\n",
            "only showing top 15 rows\n",
            "\n"
          ],
          "name": "stdout"
        }
      ]
    }
  ]
}