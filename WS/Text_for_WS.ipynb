{
  "nbformat": 4,
  "nbformat_minor": 0,
  "metadata": {
    "colab": {
      "name": "Text for WS.ipynb",
      "provenance": []
    },
    "kernelspec": {
      "name": "python3",
      "display_name": "Python 3"
    },
    "language_info": {
      "name": "python"
    }
  },
  "cells": [
    {
      "cell_type": "code",
      "metadata": {
        "colab": {
          "base_uri": "https://localhost:8080/"
        },
        "id": "jCM9Xbkf1cJW",
        "outputId": "c9f46e5c-207d-40b3-95be-85762eb3849e"
      },
      "source": [
        "from google.colab import drive\n",
        "drive.mount('/content/gdrive', force_remount = True)"
      ],
      "execution_count": 2,
      "outputs": [
        {
          "output_type": "stream",
          "text": [
            "Mounted at /content/gdrive\n"
          ],
          "name": "stdout"
        }
      ]
    },
    {
      "cell_type": "code",
      "metadata": {
        "id": "bstPRi0e1mcd"
      },
      "source": [
        "import pandas as pd\n",
        "import numpy as np\n",
        "import seaborn as sns\n",
        "import matplotlib.pyplot as plt\n",
        "%matplotlib inline\n",
        "import warnings\n",
        "warnings.filterwarnings(\"ignore\")"
      ],
      "execution_count": 3,
      "outputs": []
    },
    {
      "cell_type": "code",
      "metadata": {
        "colab": {
          "base_uri": "https://localhost:8080/"
        },
        "id": "jkgaIKKv2SFr",
        "outputId": "55c98812-f4c9-40c6-fc8b-0e8506dbb30a"
      },
      "source": [
        "df = pd.read_csv(\"/content/gdrive/MyDrive/ML/Datasets/Text/dataset.csv\")\n",
        "df = df.dropna(axis = 0)\n",
        "df.shape"
      ],
      "execution_count": 4,
      "outputs": [
        {
          "output_type": "execute_result",
          "data": {
            "text/plain": [
              "(28015, 2)"
            ]
          },
          "metadata": {
            "tags": []
          },
          "execution_count": 4
        }
      ]
    },
    {
      "cell_type": "code",
      "metadata": {
        "colab": {
          "base_uri": "https://localhost:8080/",
          "height": 206
        },
        "id": "QTzvPs2U2eip",
        "outputId": "eba1515b-6c5d-4898-cb5a-9809574842cd"
      },
      "source": [
        "df.head()"
      ],
      "execution_count": 5,
      "outputs": [
        {
          "output_type": "execute_result",
          "data": {
            "text/html": [
              "<div>\n",
              "<style scoped>\n",
              "    .dataframe tbody tr th:only-of-type {\n",
              "        vertical-align: middle;\n",
              "    }\n",
              "\n",
              "    .dataframe tbody tr th {\n",
              "        vertical-align: top;\n",
              "    }\n",
              "\n",
              "    .dataframe thead th {\n",
              "        text-align: right;\n",
              "    }\n",
              "</style>\n",
              "<table border=\"1\" class=\"dataframe\">\n",
              "  <thead>\n",
              "    <tr style=\"text-align: right;\">\n",
              "      <th></th>\n",
              "      <th>category</th>\n",
              "      <th>text</th>\n",
              "    </tr>\n",
              "  </thead>\n",
              "  <tbody>\n",
              "    <tr>\n",
              "      <th>0</th>\n",
              "      <td>Благоустройство территории</td>\n",
              "      <td>На трассе Нижнекамск-Чистополь в лесополосе у ...</td>\n",
              "    </tr>\n",
              "    <tr>\n",
              "      <th>1</th>\n",
              "      <td>Благоустройство территории</td>\n",
              "      <td>Во дворе дома Ленинградская 29 отсутствуют пар...</td>\n",
              "    </tr>\n",
              "    <tr>\n",
              "      <th>2</th>\n",
              "      <td>Содержание и ремонт муниципальных дорог</td>\n",
              "      <td>Добрый день! Не осуществляется уборка снега в ...</td>\n",
              "    </tr>\n",
              "    <tr>\n",
              "      <th>3</th>\n",
              "      <td>Благоустройство территории</td>\n",
              "      <td>Добрый день! Не осуществляется вывоз мусора с ...</td>\n",
              "    </tr>\n",
              "    <tr>\n",
              "      <th>4</th>\n",
              "      <td>Содержание и ремонт муниципальных дорог</td>\n",
              "      <td>на данном участке проезжей части от ул.Халитов...</td>\n",
              "    </tr>\n",
              "  </tbody>\n",
              "</table>\n",
              "</div>"
            ],
            "text/plain": [
              "                                  category                                               text\n",
              "0               Благоустройство территории  На трассе Нижнекамск-Чистополь в лесополосе у ...\n",
              "1               Благоустройство территории  Во дворе дома Ленинградская 29 отсутствуют пар...\n",
              "2  Содержание и ремонт муниципальных дорог  Добрый день! Не осуществляется уборка снега в ...\n",
              "3               Благоустройство территории  Добрый день! Не осуществляется вывоз мусора с ...\n",
              "4  Содержание и ремонт муниципальных дорог  на данном участке проезжей части от ул.Халитов..."
            ]
          },
          "metadata": {
            "tags": []
          },
          "execution_count": 5
        }
      ]
    },
    {
      "cell_type": "code",
      "metadata": {
        "colab": {
          "base_uri": "https://localhost:8080/",
          "height": 36
        },
        "id": "DPF_MeLG4m2J",
        "outputId": "2a245bc2-8573-483c-c4bf-59af55277865"
      },
      "source": [
        "df.text[200]"
      ],
      "execution_count": 6,
      "outputs": [
        {
          "output_type": "execute_result",
          "data": {
            "application/vnd.google.colaboratory.intrinsic+json": {
              "type": "string"
            },
            "text/plain": [
              "'Около детского сада месиво, ребенка невозможно провезти даже на салазках'"
            ]
          },
          "metadata": {
            "tags": []
          },
          "execution_count": 6
        }
      ]
    },
    {
      "cell_type": "code",
      "metadata": {
        "colab": {
          "base_uri": "https://localhost:8080/",
          "height": 55
        },
        "id": "Vbh2cx238AKs",
        "outputId": "cd65047e-9e8b-4c3b-fcb0-1fd02ea91598"
      },
      "source": [
        "df['text'][10]"
      ],
      "execution_count": 7,
      "outputs": [
        {
          "output_type": "execute_result",
          "data": {
            "application/vnd.google.colaboratory.intrinsic+json": {
              "type": "string"
            },
            "text/plain": [
              "'Не убирают снег на тротуаре. Точнее при уборке дороги, весь снег с дороги расположили на тротуаре. Нужно очистить тротуар, для передвижения пешеходов.'"
            ]
          },
          "metadata": {
            "tags": []
          },
          "execution_count": 7
        }
      ]
    },
    {
      "cell_type": "code",
      "metadata": {
        "colab": {
          "base_uri": "https://localhost:8080/"
        },
        "id": "ba-cLdpc8dgi",
        "outputId": "8125f2e4-f9a0-48fc-add0-116f27403aed"
      },
      "source": [
        "df['category'].nunique()"
      ],
      "execution_count": 8,
      "outputs": [
        {
          "output_type": "execute_result",
          "data": {
            "text/plain": [
              "36"
            ]
          },
          "metadata": {
            "tags": []
          },
          "execution_count": 8
        }
      ]
    },
    {
      "cell_type": "code",
      "metadata": {
        "colab": {
          "base_uri": "https://localhost:8080/"
        },
        "id": "fYKWhOvJ2ftf",
        "outputId": "055beba1-08b6-4ba9-d52a-e6f9fb618402"
      },
      "source": [
        "df['category'].value_counts()"
      ],
      "execution_count": 9,
      "outputs": [
        {
          "output_type": "execute_result",
          "data": {
            "text/plain": [
              "Благоустройство территории                                                              12967\n",
              "Содержание и ремонт муниципальных дорог                                                  6948\n",
              "Нарушение в наружной рекламе                                                             2079\n",
              "Организация дорожного движения                                                           2040\n",
              "Общественный транспорт                                                                    936\n",
              "Бездомные животные                                                                        726\n",
              "Поликлиники и больницы                                                                    524\n",
              "Парки и скверы                                                                            406\n",
              "Cвалки                                                                                    335\n",
              "Мобильная связь                                                                           200\n",
              "Воздух                                                                                    142\n",
              "Капитальный ремонт                                                                        127\n",
              "Детские сады                                                                              126\n",
              "Санитарное состояние                                                                       91\n",
              "Доступная среда                                                                            81\n",
              "Почта                                                                                      43\n",
              "Содержание и ремонт федеральных и республиканских дорог                                    39\n",
              "Жилищное строительство                                                                     34\n",
              "Вода                                                                                       26\n",
              "Работа спортивных объектов                                                                 26\n",
              "Цифровое телевидение                                                                       18\n",
              "Сельское хозяйство                                                                         17\n",
              "Работа учреждений культуры                                                                 16\n",
              "Объекты культурного наследия                                                               15\n",
              "Садоводческие, огороднические и дачные некоммерческие объединения                          13\n",
              "Незаконные азартные игры                                                                   12\n",
              "Меры социальной поддержки, предоставляемые органами социальной защиты                       8\n",
              "Нарушение правил торговли                                                                   4\n",
              "Незаконная добыча полезных ископаемых                                                       3\n",
              "Социальное обслуживание                                                                     3\n",
              "Тех.средства и услуги по реабилитации инвалидов за счет средств федерального бюджета        2\n",
              "Пенсионное обеспечение                                                                      2\n",
              "Диспансеризация населения                                                                   2\n",
              "Пособия безработным                                                                         2\n",
              "Опека, попечительство                                                                       1\n",
              "Ошибки в названиях и надписях                                                               1\n",
              "Name: category, dtype: int64"
            ]
          },
          "metadata": {
            "tags": []
          },
          "execution_count": 9
        }
      ]
    },
    {
      "cell_type": "code",
      "metadata": {
        "id": "gppyLhSn99xh"
      },
      "source": [
        "q1 = df.category.value_counts()[df.category.value_counts() < 25].index"
      ],
      "execution_count": 10,
      "outputs": []
    },
    {
      "cell_type": "code",
      "metadata": {
        "id": "M4oXJRD_-N0q"
      },
      "source": [
        "df.category = df.category.replace(q1, 'Разное')"
      ],
      "execution_count": 11,
      "outputs": []
    },
    {
      "cell_type": "code",
      "metadata": {
        "colab": {
          "base_uri": "https://localhost:8080/"
        },
        "id": "ommhVoEu9Zwa",
        "outputId": "c16c0d09-fabf-459b-c82c-94fe924e8604"
      },
      "source": [
        "df['category'].value_counts()"
      ],
      "execution_count": 12,
      "outputs": [
        {
          "output_type": "execute_result",
          "data": {
            "text/plain": [
              "Благоустройство территории                                 12967\n",
              "Содержание и ремонт муниципальных дорог                     6948\n",
              "Нарушение в наружной рекламе                                2079\n",
              "Организация дорожного движения                              2040\n",
              "Общественный транспорт                                       936\n",
              "Бездомные животные                                           726\n",
              "Поликлиники и больницы                                       524\n",
              "Парки и скверы                                               406\n",
              "Cвалки                                                       335\n",
              "Мобильная связь                                              200\n",
              "Воздух                                                       142\n",
              "Капитальный ремонт                                           127\n",
              "Детские сады                                                 126\n",
              "Разное                                                       119\n",
              "Санитарное состояние                                          91\n",
              "Доступная среда                                               81\n",
              "Почта                                                         43\n",
              "Содержание и ремонт федеральных и республиканских дорог       39\n",
              "Жилищное строительство                                        34\n",
              "Работа спортивных объектов                                    26\n",
              "Вода                                                          26\n",
              "Name: category, dtype: int64"
            ]
          },
          "metadata": {
            "tags": []
          },
          "execution_count": 12
        }
      ]
    },
    {
      "cell_type": "markdown",
      "metadata": {
        "id": "dcHu8DB13yyd"
      },
      "source": [
        "# Предварительная обработка текста"
      ]
    },
    {
      "cell_type": "code",
      "metadata": {
        "colab": {
          "base_uri": "https://localhost:8080/"
        },
        "id": "bCJWwKL14EBA",
        "outputId": "5318fb94-8cfb-459e-d038-d63696599dc9"
      },
      "source": [
        "!pip install pymorphy2"
      ],
      "execution_count": 13,
      "outputs": [
        {
          "output_type": "stream",
          "text": [
            "Requirement already satisfied: pymorphy2 in /usr/local/lib/python3.7/dist-packages (0.9.1)\n",
            "Requirement already satisfied: docopt>=0.6 in /usr/local/lib/python3.7/dist-packages (from pymorphy2) (0.6.2)\n",
            "Requirement already satisfied: pymorphy2-dicts-ru<3.0,>=2.4 in /usr/local/lib/python3.7/dist-packages (from pymorphy2) (2.4.417127.4579844)\n",
            "Requirement already satisfied: dawg-python>=0.7.1 in /usr/local/lib/python3.7/dist-packages (from pymorphy2) (0.7.2)\n"
          ],
          "name": "stdout"
        }
      ]
    },
    {
      "cell_type": "code",
      "metadata": {
        "colab": {
          "base_uri": "https://localhost:8080/"
        },
        "id": "DNrcB18q3Drt",
        "outputId": "0abf74f5-0843-4c83-94e4-e0c943b2f53a"
      },
      "source": [
        "import nltk\n",
        "nltk.download(\"stopwords\")\n",
        "from nltk.corpus import stopwords"
      ],
      "execution_count": 14,
      "outputs": [
        {
          "output_type": "stream",
          "text": [
            "[nltk_data] Downloading package stopwords to /root/nltk_data...\n",
            "[nltk_data]   Package stopwords is already up-to-date!\n"
          ],
          "name": "stdout"
        }
      ]
    },
    {
      "cell_type": "markdown",
      "metadata": {
        "id": "RPc9SSZ74O6r"
      },
      "source": [
        "Удаление стоп-слов"
      ]
    },
    {
      "cell_type": "code",
      "metadata": {
        "id": "mwVCv3Wo359b"
      },
      "source": [
        "all_stopwords = stopwords.words(\"russian\")"
      ],
      "execution_count": 15,
      "outputs": []
    },
    {
      "cell_type": "code",
      "metadata": {
        "id": "6NVdJuUPBvgU"
      },
      "source": [
        "q2 = \"Саша и Маша\""
      ],
      "execution_count": 16,
      "outputs": []
    },
    {
      "cell_type": "code",
      "metadata": {
        "id": "pjOboYYcCB_W"
      },
      "source": [
        "list1 = []\n",
        "for i in q2.split(\" \"):\n",
        "  if i not in all_stopwords:\n",
        "    list1.append(i)"
      ],
      "execution_count": 17,
      "outputs": []
    },
    {
      "cell_type": "code",
      "metadata": {
        "colab": {
          "base_uri": "https://localhost:8080/",
          "height": 36
        },
        "id": "4NPjkzfiCpsr",
        "outputId": "f288eade-555f-44ce-f822-fa29fc529b6e"
      },
      "source": [
        "(\" \").join(list1)"
      ],
      "execution_count": 18,
      "outputs": [
        {
          "output_type": "execute_result",
          "data": {
            "application/vnd.google.colaboratory.intrinsic+json": {
              "type": "string"
            },
            "text/plain": [
              "'Саша Маша'"
            ]
          },
          "metadata": {
            "tags": []
          },
          "execution_count": 18
        }
      ]
    },
    {
      "cell_type": "code",
      "metadata": {
        "colab": {
          "base_uri": "https://localhost:8080/"
        },
        "id": "v8sVR7S24cqr",
        "outputId": "63e0a779-6b2d-434f-c2f3-fea4f25f31bf"
      },
      "source": [
        "%%time\n",
        "list2 = []\n",
        "for j in df.text:\n",
        "  list1 = []\n",
        "  for i in j.split(\" \"):\n",
        "    if i not in all_stopwords:\n",
        "      list1.append(i)\n",
        "  \n",
        "  list2.append((\" \").join(list1))"
      ],
      "execution_count": 19,
      "outputs": [
        {
          "output_type": "stream",
          "text": [
            "CPU times: user 1.23 s, sys: 18.1 ms, total: 1.25 s\n",
            "Wall time: 1.28 s\n"
          ],
          "name": "stdout"
        }
      ]
    },
    {
      "cell_type": "code",
      "metadata": {
        "id": "wHis4s5sGV60"
      },
      "source": [
        "df.text = list2"
      ],
      "execution_count": 20,
      "outputs": []
    },
    {
      "cell_type": "markdown",
      "metadata": {
        "id": "4-i_WeAz5Zaz"
      },
      "source": [
        "Приведение к нижнему регистру и удаление пунктуации"
      ]
    },
    {
      "cell_type": "code",
      "metadata": {
        "id": "XFqdQssyrPrF"
      },
      "source": [
        "import re"
      ],
      "execution_count": 22,
      "outputs": []
    },
    {
      "cell_type": "code",
      "metadata": {
        "colab": {
          "base_uri": "https://localhost:8080/"
        },
        "id": "Wd2lV7H0VvUN",
        "outputId": "6c358b43-6a6f-4712-d8bf-6615ea892b79"
      },
      "source": [
        "%%time\n",
        "patterns = \"[0-9!#$%&'()*+,./:;<=>?@[\\]^_`{|}~—\\\"\\-]+\"\n",
        "pattern11 = re.compile(r'\\s+')\n",
        "\n",
        "list2 = []\n",
        "for j in df.text:\n",
        "  buff = j.lower()\n",
        "  buff = re.sub(patterns, '', buff)\n",
        "  buff = re.sub(pattern11, ' ', buff)\n",
        "  list2.append(buff)"
      ],
      "execution_count": 23,
      "outputs": [
        {
          "output_type": "stream",
          "text": [
            "CPU times: user 408 ms, sys: 11.9 ms, total: 420 ms\n",
            "Wall time: 422 ms\n"
          ],
          "name": "stdout"
        }
      ]
    },
    {
      "cell_type": "code",
      "metadata": {
        "id": "cWlTUxBW5dEw"
      },
      "source": [
        "df.text = list2"
      ],
      "execution_count": 24,
      "outputs": []
    },
    {
      "cell_type": "code",
      "metadata": {
        "colab": {
          "base_uri": "https://localhost:8080/"
        },
        "id": "0cjDdEojWnfr",
        "outputId": "5a981458-bb02-4599-89a5-0061c106ab23"
      },
      "source": [
        "df.text[:5]"
      ],
      "execution_count": 25,
      "outputs": [
        {
          "output_type": "execute_result",
          "data": {
            "text/plain": [
              "0    на трассе нижнекамскчистополь лесополосе пгт к...\n",
              "1    во дворе дома ленинградская отсутствуют парков...\n",
              "2    добрый день не осуществляется уборка снега цен...\n",
              "3    добрый день не осуществляется вывоз мусора тер...\n",
              "4    данном участке проезжей части улхалитова дома ...\n",
              "Name: text, dtype: object"
            ]
          },
          "metadata": {
            "tags": []
          },
          "execution_count": 25
        }
      ]
    },
    {
      "cell_type": "markdown",
      "metadata": {
        "id": "2hqHAqw8Oagc"
      },
      "source": [
        "# Остальное"
      ]
    },
    {
      "cell_type": "code",
      "metadata": {
        "id": "mVIqIPWtAk9y"
      },
      "source": [
        "from nltk.stem.snowball import SnowballStemmer"
      ],
      "execution_count": 26,
      "outputs": []
    },
    {
      "cell_type": "code",
      "metadata": {
        "id": "nWA-ULmTd5s5"
      },
      "source": [
        "stemmer = SnowballStemmer(\"russian\")\n",
        "def stm(doc):\n",
        "    tokens = []\n",
        "    for token in doc.split():\n",
        "      token = stemmer.stem(token)\n",
        "      tokens.append(token)\n",
        "    if len(tokens) > 0:\n",
        "        return (\" \").join(tokens)\n",
        "    return None"
      ],
      "execution_count": 27,
      "outputs": []
    },
    {
      "cell_type": "code",
      "metadata": {
        "id": "LX5i_iZcfZaG"
      },
      "source": [
        "df.text = df.text.apply(stm)"
      ],
      "execution_count": 28,
      "outputs": []
    },
    {
      "cell_type": "markdown",
      "metadata": {
        "id": "hQHW6v3cpNif"
      },
      "source": [
        "# Векторизация"
      ]
    },
    {
      "cell_type": "code",
      "metadata": {
        "id": "hbWuA455pM4j"
      },
      "source": [
        "from sklearn.feature_extraction.text import TfidfVectorizer\n",
        "from sklearn.preprocessing import StandardScaler\n",
        "from sklearn.model_selection import train_test_split"
      ],
      "execution_count": 35,
      "outputs": []
    },
    {
      "cell_type": "code",
      "metadata": {
        "colab": {
          "base_uri": "https://localhost:8080/",
          "height": 206
        },
        "id": "rUJqkeDxfyF-",
        "outputId": "c8c04c97-3ce8-426e-f890-fe7dda0c28c1"
      },
      "source": [
        "df.head()"
      ],
      "execution_count": 36,
      "outputs": [
        {
          "output_type": "execute_result",
          "data": {
            "text/html": [
              "<div>\n",
              "<style scoped>\n",
              "    .dataframe tbody tr th:only-of-type {\n",
              "        vertical-align: middle;\n",
              "    }\n",
              "\n",
              "    .dataframe tbody tr th {\n",
              "        vertical-align: top;\n",
              "    }\n",
              "\n",
              "    .dataframe thead th {\n",
              "        text-align: right;\n",
              "    }\n",
              "</style>\n",
              "<table border=\"1\" class=\"dataframe\">\n",
              "  <thead>\n",
              "    <tr style=\"text-align: right;\">\n",
              "      <th></th>\n",
              "      <th>category</th>\n",
              "      <th>text</th>\n",
              "    </tr>\n",
              "  </thead>\n",
              "  <tbody>\n",
              "    <tr>\n",
              "      <th>0</th>\n",
              "      <td>Благоустройство территории</td>\n",
              "      <td>на трасс нижнекамскчистопол лесополос пгт камс...</td>\n",
              "    </tr>\n",
              "    <tr>\n",
              "      <th>1</th>\n",
              "      <td>Благоустройство территории</td>\n",
              "      <td>во двор дом ленинградск отсутств парковочн мес...</td>\n",
              "    </tr>\n",
              "    <tr>\n",
              "      <th>2</th>\n",
              "      <td>Содержание и ремонт муниципальных дорог</td>\n",
              "      <td>добр ден не осуществля уборк снег центр город ...</td>\n",
              "    </tr>\n",
              "    <tr>\n",
              "      <th>3</th>\n",
              "      <td>Благоустройство территории</td>\n",
              "      <td>добр ден не осуществля вывоз мусор территор жи...</td>\n",
              "    </tr>\n",
              "    <tr>\n",
              "      <th>4</th>\n",
              "      <td>Содержание и ремонт муниципальных дорог</td>\n",
              "      <td>дан участк проезж част улхалитов дом № улхалит...</td>\n",
              "    </tr>\n",
              "  </tbody>\n",
              "</table>\n",
              "</div>"
            ],
            "text/plain": [
              "                                  category                                               text\n",
              "0               Благоустройство территории  на трасс нижнекамскчистопол лесополос пгт камс...\n",
              "1               Благоустройство территории  во двор дом ленинградск отсутств парковочн мес...\n",
              "2  Содержание и ремонт муниципальных дорог  добр ден не осуществля уборк снег центр город ...\n",
              "3               Благоустройство территории  добр ден не осуществля вывоз мусор территор жи...\n",
              "4  Содержание и ремонт муниципальных дорог  дан участк проезж част улхалитов дом № улхалит..."
            ]
          },
          "metadata": {
            "tags": []
          },
          "execution_count": 36
        }
      ]
    },
    {
      "cell_type": "code",
      "metadata": {
        "id": "z6OL_Ou7rnhU"
      },
      "source": [
        "X = df.text\n",
        "y = df.category"
      ],
      "execution_count": 37,
      "outputs": []
    },
    {
      "cell_type": "code",
      "metadata": {
        "id": "sS580sKlrhPa"
      },
      "source": [
        "X_train, X_test, y_train, y_test = train_test_split(X, y, test_size = 0.20, stratify = y)\n",
        "X_train = X_train.reset_index(drop = True)\n",
        "y_train = y_train.reset_index(drop = True)\n",
        "X_test = X_test.reset_index(drop = True)\n",
        "y_test = y_test.reset_index(drop = True)"
      ],
      "execution_count": 39,
      "outputs": []
    },
    {
      "cell_type": "code",
      "metadata": {
        "id": "sqK5xq1bpgqt"
      },
      "source": [
        "vectorizer = TfidfVectorizer(max_features = 10000)"
      ],
      "execution_count": 40,
      "outputs": []
    },
    {
      "cell_type": "code",
      "metadata": {
        "id": "mTj_qBHLfyIc"
      },
      "source": [
        "X_train = vectorizer.fit_transform(X_train)\n",
        "X_test = vectorizer.transform(X_test)"
      ],
      "execution_count": 41,
      "outputs": []
    },
    {
      "cell_type": "code",
      "metadata": {
        "id": "6D37pg6oqNdd"
      },
      "source": [
        "from sklearn.svm import SVC\n",
        "from sklearn.metrics import classification_report, f1_score"
      ],
      "execution_count": 47,
      "outputs": []
    },
    {
      "cell_type": "code",
      "metadata": {
        "colab": {
          "base_uri": "https://localhost:8080/"
        },
        "id": "BU94AxCMqmy7",
        "outputId": "16724b1b-153f-47af-efaa-746e3b521f78"
      },
      "source": [
        "%%time\n",
        "model_SVC = SVC(C = 1, kernel = 'linear')\n",
        "model_SVC.fit(X_train, y_train)\n",
        "res = model_SVC.predict(X_test)"
      ],
      "execution_count": 45,
      "outputs": [
        {
          "output_type": "stream",
          "text": [
            "CPU times: user 1min, sys: 357 ms, total: 1min\n",
            "Wall time: 1min\n"
          ],
          "name": "stdout"
        }
      ]
    },
    {
      "cell_type": "code",
      "metadata": {
        "colab": {
          "base_uri": "https://localhost:8080/"
        },
        "id": "FzwZU78gvMaA",
        "outputId": "7daf9cf9-19cc-46ca-d09c-885919561712"
      },
      "source": [
        "f1_svm = f1_score(y_test, res, average='macro')\n",
        "f1_svm"
      ],
      "execution_count": 49,
      "outputs": [
        {
          "output_type": "execute_result",
          "data": {
            "text/plain": [
              "0.5901719014139908"
            ]
          },
          "metadata": {
            "tags": []
          },
          "execution_count": 49
        }
      ]
    },
    {
      "cell_type": "code",
      "metadata": {
        "colab": {
          "base_uri": "https://localhost:8080/"
        },
        "id": "6u-gNCOAqvK7",
        "outputId": "fa43996a-e2db-4e1d-cae5-8d11cf19dd38"
      },
      "source": [
        "print(classification_report(y_test, res))"
      ],
      "execution_count": 46,
      "outputs": [
        {
          "output_type": "stream",
          "text": [
            "                                                         precision    recall  f1-score   support\n",
            "\n",
            "                                                 Cвалки       0.79      0.39      0.52        67\n",
            "                                     Бездомные животные       0.97      0.94      0.96       145\n",
            "                             Благоустройство территории       0.81      0.87      0.84      2593\n",
            "                                                   Вода       0.00      0.00      0.00         5\n",
            "                                                 Воздух       0.96      0.79      0.86        28\n",
            "                                           Детские сады       0.88      0.28      0.42        25\n",
            "                                        Доступная среда       0.89      0.50      0.64        16\n",
            "                                 Жилищное строительство       0.00      0.00      0.00         7\n",
            "                                     Капитальный ремонт       0.79      0.42      0.55        26\n",
            "                                        Мобильная связь       1.00      0.90      0.95        40\n",
            "                           Нарушение в наружной рекламе       0.91      0.91      0.91       416\n",
            "                                 Общественный транспорт       0.88      0.79      0.83       187\n",
            "                         Организация дорожного движения       0.83      0.75      0.79       408\n",
            "                                         Парки и скверы       0.63      0.30      0.40        81\n",
            "                                 Поликлиники и больницы       0.95      0.78      0.86       105\n",
            "                                                  Почта       0.88      0.78      0.82         9\n",
            "                             Работа спортивных объектов       0.00      0.00      0.00         5\n",
            "                                                 Разное       1.00      0.21      0.34        24\n",
            "                                   Санитарное состояние       0.94      0.83      0.88        18\n",
            "                Содержание и ремонт муниципальных дорог       0.79      0.83      0.81      1390\n",
            "Содержание и ремонт федеральных и республиканских дорог       0.00      0.00      0.00         8\n",
            "\n",
            "                                               accuracy                           0.82      5603\n",
            "                                              macro avg       0.71      0.54      0.59      5603\n",
            "                                           weighted avg       0.82      0.82      0.82      5603\n",
            "\n"
          ],
          "name": "stdout"
        }
      ]
    },
    {
      "cell_type": "code",
      "metadata": {
        "id": "NTUR7NK-veBI"
      },
      "source": [
        "from sklearn.ensemble import RandomForestClassifier"
      ],
      "execution_count": 50,
      "outputs": []
    },
    {
      "cell_type": "code",
      "metadata": {
        "colab": {
          "base_uri": "https://localhost:8080/"
        },
        "id": "4698YWrxtNXV",
        "outputId": "73c393df-8994-4280-c7f9-6ded861a4642"
      },
      "source": [
        "%%time\n",
        "model_SVC = RandomForestClassifier()\n",
        "model_SVC.fit(X_train, y_train)\n",
        "res = model_SVC.predict(X_test)"
      ],
      "execution_count": 51,
      "outputs": [
        {
          "output_type": "stream",
          "text": [
            "CPU times: user 45.1 s, sys: 158 ms, total: 45.2 s\n",
            "Wall time: 45 s\n"
          ],
          "name": "stdout"
        }
      ]
    },
    {
      "cell_type": "code",
      "metadata": {
        "colab": {
          "base_uri": "https://localhost:8080/"
        },
        "id": "-Md0unhevigH",
        "outputId": "60f24af6-7441-4ecb-d293-1cb4de0fb5f4"
      },
      "source": [
        "f1_rf = f1_score(y_test, res, average='macro')\n",
        "f1_rf"
      ],
      "execution_count": 52,
      "outputs": [
        {
          "output_type": "execute_result",
          "data": {
            "text/plain": [
              "0.5272932400650985"
            ]
          },
          "metadata": {
            "tags": []
          },
          "execution_count": 52
        }
      ]
    },
    {
      "cell_type": "code",
      "metadata": {
        "id": "RFtP7IDUvx2l"
      },
      "source": [
        "from sklearn.neighbors import KNeighborsClassifier"
      ],
      "execution_count": 54,
      "outputs": []
    },
    {
      "cell_type": "code",
      "metadata": {
        "colab": {
          "base_uri": "https://localhost:8080/"
        },
        "id": "snLEHubGv6mn",
        "outputId": "126f91d7-d77f-494f-9866-37259943a524"
      },
      "source": [
        "%%time\n",
        "model_SVC = KNeighborsClassifier()\n",
        "model_SVC.fit(X_train, y_train)\n",
        "res = model_SVC.predict(X_test)"
      ],
      "execution_count": 55,
      "outputs": [
        {
          "output_type": "stream",
          "text": [
            "CPU times: user 2.96 s, sys: 1.05 s, total: 4.01 s\n",
            "Wall time: 4.02 s\n"
          ],
          "name": "stdout"
        }
      ]
    },
    {
      "cell_type": "code",
      "metadata": {
        "colab": {
          "base_uri": "https://localhost:8080/"
        },
        "id": "ouqzU7PSv6pY",
        "outputId": "36ff87d1-0515-4ad2-bc2f-6af20924e78f"
      },
      "source": [
        "f1_knn = f1_score(y_test, res, average='macro')\n",
        "f1_knn"
      ],
      "execution_count": 56,
      "outputs": [
        {
          "output_type": "execute_result",
          "data": {
            "text/plain": [
              "0.1855986463938764"
            ]
          },
          "metadata": {
            "tags": []
          },
          "execution_count": 56
        }
      ]
    },
    {
      "cell_type": "markdown",
      "metadata": {
        "id": "m8OiRDQswCjH"
      },
      "source": [
        "# Рисуем"
      ]
    },
    {
      "cell_type": "code",
      "metadata": {
        "colab": {
          "base_uri": "https://localhost:8080/",
          "height": 330
        },
        "id": "TMoXhcYDwBL3",
        "outputId": "c60bb193-205e-460c-b939-c94fdae395d2"
      },
      "source": [
        "sns.set(font_scale = 1.5)\n",
        "f, ax = plt.subplots(figsize=(10, 5))\n",
        "sns.barplot(y = ['svm', 'rf', 'knn'], x = [f1_svm, f1_rf, f1_knn], palette = 'pastel', orient = 'h');"
      ],
      "execution_count": 57,
      "outputs": [
        {
          "output_type": "display_data",
          "data": {
            "image/png": "[encoded data removed]",
            "text/plain": [
              "<Figure size 720x360 with 1 Axes>"
            ]
          },
          "metadata": {
            "tags": []
          }
        }
      ]
    },
    {
      "cell_type": "code",
      "metadata": {
        "id": "qH-rcuUnwjLF"
      },
      "source": [
        ""
      ],
      "execution_count": null,
      "outputs": []
    }
  ]
}