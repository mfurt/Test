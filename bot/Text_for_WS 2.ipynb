{
  "nbformat": 4,
  "nbformat_minor": 0,
  "metadata": {
    "colab": {
      "name": "Text_for_WS.ipynb",
      "provenance": []
    },
    "kernelspec": {
      "name": "python3",
      "display_name": "Python 3"
    },
    "language_info": {
      "name": "python"
    }
  },
  "cells": [
    {
      "cell_type": "code",
      "metadata": {
        "colab": {
          "base_uri": "https://localhost:8080/"
        },
        "id": "jCM9Xbkf1cJW",
        "outputId": "ea234ca0-e783-4420-9838-9e895872a790"
      },
      "source": [
        "from google.colab import drive\n",
        "drive.mount('/content/gdrive', force_remount = True)"
      ],
      "execution_count": 92,
      "outputs": [
        {
          "output_type": "stream",
          "text": [
            "Mounted at /content/gdrive\n"
          ],
          "name": "stdout"
        }
      ]
    },
    {
      "cell_type": "code",
      "metadata": {
        "id": "bstPRi0e1mcd"
      },
      "source": [
        "import pandas as pd\n",
        "import numpy as np\n",
        "import seaborn as sns\n",
        "import matplotlib.pyplot as plt\n",
        "%matplotlib inline\n",
        "import warnings\n",
        "warnings.filterwarnings(\"ignore\")"
      ],
      "execution_count": 93,
      "outputs": []
    },
    {
      "cell_type": "code",
      "metadata": {
        "colab": {
          "base_uri": "https://localhost:8080/"
        },
        "id": "jkgaIKKv2SFr",
        "outputId": "e201ac8c-9e4d-4911-c560-0eeff23d239a"
      },
      "source": [
        "df = pd.read_csv(\"/content/gdrive/MyDrive/Datasets/dataset.csv\")\n",
        "df = df.dropna(axis = 0)\n",
        "df.shape"
      ],
      "execution_count": 94,
      "outputs": [
        {
          "output_type": "execute_result",
          "data": {
            "text/plain": [
              "(28015, 2)"
            ]
          },
          "metadata": {
            "tags": []
          },
          "execution_count": 94
        }
      ]
    },
    {
      "cell_type": "code",
      "metadata": {
        "colab": {
          "base_uri": "https://localhost:8080/",
          "height": 205
        },
        "id": "QTzvPs2U2eip",
        "outputId": "c97edfde-5a26-479d-b0fb-314f6ba0195e"
      },
      "source": [
        "df.head()"
      ],
      "execution_count": 95,
      "outputs": [
        {
          "output_type": "execute_result",
          "data": {
            "text/html": [
              "<div>\n",
              "<style scoped>\n",
              "    .dataframe tbody tr th:only-of-type {\n",
              "        vertical-align: middle;\n",
              "    }\n",
              "\n",
              "    .dataframe tbody tr th {\n",
              "        vertical-align: top;\n",
              "    }\n",
              "\n",
              "    .dataframe thead th {\n",
              "        text-align: right;\n",
              "    }\n",
              "</style>\n",
              "<table border=\"1\" class=\"dataframe\">\n",
              "  <thead>\n",
              "    <tr style=\"text-align: right;\">\n",
              "      <th></th>\n",
              "      <th>category</th>\n",
              "      <th>text</th>\n",
              "    </tr>\n",
              "  </thead>\n",
              "  <tbody>\n",
              "    <tr>\n",
              "      <th>0</th>\n",
              "      <td>Благоустройство территории</td>\n",
              "      <td>На трассе Нижнекамск-Чистополь в лесополосе у ...</td>\n",
              "    </tr>\n",
              "    <tr>\n",
              "      <th>1</th>\n",
              "      <td>Благоустройство территории</td>\n",
              "      <td>Во дворе дома Ленинградская 29 отсутствуют пар...</td>\n",
              "    </tr>\n",
              "    <tr>\n",
              "      <th>2</th>\n",
              "      <td>Содержание и ремонт муниципальных дорог</td>\n",
              "      <td>Добрый день! Не осуществляется уборка снега в ...</td>\n",
              "    </tr>\n",
              "    <tr>\n",
              "      <th>3</th>\n",
              "      <td>Благоустройство территории</td>\n",
              "      <td>Добрый день! Не осуществляется вывоз мусора с ...</td>\n",
              "    </tr>\n",
              "    <tr>\n",
              "      <th>4</th>\n",
              "      <td>Содержание и ремонт муниципальных дорог</td>\n",
              "      <td>на данном участке проезжей части от ул.Халитов...</td>\n",
              "    </tr>\n",
              "  </tbody>\n",
              "</table>\n",
              "</div>"
            ],
            "text/plain": [
              "                                  category                                               text\n",
              "0               Благоустройство территории  На трассе Нижнекамск-Чистополь в лесополосе у ...\n",
              "1               Благоустройство территории  Во дворе дома Ленинградская 29 отсутствуют пар...\n",
              "2  Содержание и ремонт муниципальных дорог  Добрый день! Не осуществляется уборка снега в ...\n",
              "3               Благоустройство территории  Добрый день! Не осуществляется вывоз мусора с ...\n",
              "4  Содержание и ремонт муниципальных дорог  на данном участке проезжей части от ул.Халитов..."
            ]
          },
          "metadata": {
            "tags": []
          },
          "execution_count": 95
        }
      ]
    },
    {
      "cell_type": "code",
      "metadata": {
        "colab": {
          "base_uri": "https://localhost:8080/",
          "height": 35
        },
        "id": "DPF_MeLG4m2J",
        "outputId": "eae12a1f-a100-4023-96fd-095fada6b212"
      },
      "source": [
        "df.text[200]"
      ],
      "execution_count": 96,
      "outputs": [
        {
          "output_type": "execute_result",
          "data": {
            "application/vnd.google.colaboratory.intrinsic+json": {
              "type": "string"
            },
            "text/plain": [
              "'Около детского сада месиво, ребенка невозможно провезти даже на салазках'"
            ]
          },
          "metadata": {
            "tags": []
          },
          "execution_count": 96
        }
      ]
    },
    {
      "cell_type": "code",
      "metadata": {
        "colab": {
          "base_uri": "https://localhost:8080/",
          "height": 52
        },
        "id": "Vbh2cx238AKs",
        "outputId": "05c6cac9-c790-4e7c-9e37-5b0ac409b608"
      },
      "source": [
        "df['text'][10]"
      ],
      "execution_count": 97,
      "outputs": [
        {
          "output_type": "execute_result",
          "data": {
            "application/vnd.google.colaboratory.intrinsic+json": {
              "type": "string"
            },
            "text/plain": [
              "'Не убирают снег на тротуаре. Точнее при уборке дороги, весь снег с дороги расположили на тротуаре. Нужно очистить тротуар, для передвижения пешеходов.'"
            ]
          },
          "metadata": {
            "tags": []
          },
          "execution_count": 97
        }
      ]
    },
    {
      "cell_type": "code",
      "metadata": {
        "colab": {
          "base_uri": "https://localhost:8080/"
        },
        "id": "ba-cLdpc8dgi",
        "outputId": "8a85e5a1-17d2-48b4-e012-ab70e9fd7e9c"
      },
      "source": [
        "df['category'].nunique()"
      ],
      "execution_count": 98,
      "outputs": [
        {
          "output_type": "execute_result",
          "data": {
            "text/plain": [
              "36"
            ]
          },
          "metadata": {
            "tags": []
          },
          "execution_count": 98
        }
      ]
    },
    {
      "cell_type": "code",
      "metadata": {
        "colab": {
          "base_uri": "https://localhost:8080/"
        },
        "id": "fYKWhOvJ2ftf",
        "outputId": "17456d54-b836-4e8a-e5f7-3f4ee5568712"
      },
      "source": [
        "df['category'].value_counts()"
      ],
      "execution_count": 99,
      "outputs": [
        {
          "output_type": "execute_result",
          "data": {
            "text/plain": [
              "Благоустройство территории                                                              12967\n",
              "Содержание и ремонт муниципальных дорог                                                  6948\n",
              "Нарушение в наружной рекламе                                                             2079\n",
              "Организация дорожного движения                                                           2040\n",
              "Общественный транспорт                                                                    936\n",
              "Бездомные животные                                                                        726\n",
              "Поликлиники и больницы                                                                    524\n",
              "Парки и скверы                                                                            406\n",
              "Cвалки                                                                                    335\n",
              "Мобильная связь                                                                           200\n",
              "Воздух                                                                                    142\n",
              "Капитальный ремонт                                                                        127\n",
              "Детские сады                                                                              126\n",
              "Санитарное состояние                                                                       91\n",
              "Доступная среда                                                                            81\n",
              "Почта                                                                                      43\n",
              "Содержание и ремонт федеральных и республиканских дорог                                    39\n",
              "Жилищное строительство                                                                     34\n",
              "Вода                                                                                       26\n",
              "Работа спортивных объектов                                                                 26\n",
              "Цифровое телевидение                                                                       18\n",
              "Сельское хозяйство                                                                         17\n",
              "Работа учреждений культуры                                                                 16\n",
              "Объекты культурного наследия                                                               15\n",
              "Садоводческие, огороднические и дачные некоммерческие объединения                          13\n",
              "Незаконные азартные игры                                                                   12\n",
              "Меры социальной поддержки, предоставляемые органами социальной защиты                       8\n",
              "Нарушение правил торговли                                                                   4\n",
              "Незаконная добыча полезных ископаемых                                                       3\n",
              "Социальное обслуживание                                                                     3\n",
              "Диспансеризация населения                                                                   2\n",
              "Пенсионное обеспечение                                                                      2\n",
              "Пособия безработным                                                                         2\n",
              "Тех.средства и услуги по реабилитации инвалидов за счет средств федерального бюджета        2\n",
              "Ошибки в названиях и надписях                                                               1\n",
              "Опека, попечительство                                                                       1\n",
              "Name: category, dtype: int64"
            ]
          },
          "metadata": {
            "tags": []
          },
          "execution_count": 99
        }
      ]
    },
    {
      "cell_type": "code",
      "metadata": {
        "id": "gppyLhSn99xh"
      },
      "source": [
        "q1 = df.category.value_counts()[df.category.value_counts() < 25].index"
      ],
      "execution_count": 100,
      "outputs": []
    },
    {
      "cell_type": "code",
      "metadata": {
        "id": "M4oXJRD_-N0q"
      },
      "source": [
        "df.category = df.category.replace(q1, 'Разное')"
      ],
      "execution_count": 101,
      "outputs": []
    },
    {
      "cell_type": "code",
      "metadata": {
        "colab": {
          "base_uri": "https://localhost:8080/"
        },
        "id": "ommhVoEu9Zwa",
        "outputId": "0191c699-ce36-40fb-ae94-40c8ec02b0b5"
      },
      "source": [
        "df['category'].value_counts()"
      ],
      "execution_count": 102,
      "outputs": [
        {
          "output_type": "execute_result",
          "data": {
            "text/plain": [
              "Благоустройство территории                                 12967\n",
              "Содержание и ремонт муниципальных дорог                     6948\n",
              "Нарушение в наружной рекламе                                2079\n",
              "Организация дорожного движения                              2040\n",
              "Общественный транспорт                                       936\n",
              "Бездомные животные                                           726\n",
              "Поликлиники и больницы                                       524\n",
              "Парки и скверы                                               406\n",
              "Cвалки                                                       335\n",
              "Мобильная связь                                              200\n",
              "Воздух                                                       142\n",
              "Капитальный ремонт                                           127\n",
              "Детские сады                                                 126\n",
              "Разное                                                       119\n",
              "Санитарное состояние                                          91\n",
              "Доступная среда                                               81\n",
              "Почта                                                         43\n",
              "Содержание и ремонт федеральных и республиканских дорог       39\n",
              "Жилищное строительство                                        34\n",
              "Работа спортивных объектов                                    26\n",
              "Вода                                                          26\n",
              "Name: category, dtype: int64"
            ]
          },
          "metadata": {
            "tags": []
          },
          "execution_count": 102
        }
      ]
    },
    {
      "cell_type": "markdown",
      "metadata": {
        "id": "dcHu8DB13yyd"
      },
      "source": [
        "# Предварительная обработка текста"
      ]
    },
    {
      "cell_type": "code",
      "metadata": {
        "colab": {
          "base_uri": "https://localhost:8080/"
        },
        "id": "bCJWwKL14EBA",
        "outputId": "ed271389-4792-42f3-fcac-cd0ea97acf1f"
      },
      "source": [
        "!pip install pymorphy2"
      ],
      "execution_count": 103,
      "outputs": [
        {
          "output_type": "stream",
          "text": [
            "Requirement already satisfied: pymorphy2 in /usr/local/lib/python3.7/dist-packages (0.9.1)\n",
            "Requirement already satisfied: pymorphy2-dicts-ru<3.0,>=2.4 in /usr/local/lib/python3.7/dist-packages (from pymorphy2) (2.4.417127.4579844)\n",
            "Requirement already satisfied: dawg-python>=0.7.1 in /usr/local/lib/python3.7/dist-packages (from pymorphy2) (0.7.2)\n",
            "Requirement already satisfied: docopt>=0.6 in /usr/local/lib/python3.7/dist-packages (from pymorphy2) (0.6.2)\n"
          ],
          "name": "stdout"
        }
      ]
    },
    {
      "cell_type": "code",
      "metadata": {
        "colab": {
          "base_uri": "https://localhost:8080/"
        },
        "id": "DNrcB18q3Drt",
        "outputId": "7335f2f9-8761-48c0-880b-fabd015ed181"
      },
      "source": [
        "import nltk\n",
        "nltk.download(\"stopwords\")\n",
        "from nltk.corpus import stopwords"
      ],
      "execution_count": 104,
      "outputs": [
        {
          "output_type": "stream",
          "text": [
            "[nltk_data] Downloading package stopwords to /root/nltk_data...\n",
            "[nltk_data]   Package stopwords is already up-to-date!\n"
          ],
          "name": "stdout"
        }
      ]
    },
    {
      "cell_type": "markdown",
      "metadata": {
        "id": "RPc9SSZ74O6r"
      },
      "source": [
        "Удаление стоп-слов"
      ]
    },
    {
      "cell_type": "code",
      "metadata": {
        "id": "mwVCv3Wo359b"
      },
      "source": [
        "all_stopwords = stopwords.words(\"russian\")"
      ],
      "execution_count": 105,
      "outputs": []
    },
    {
      "cell_type": "code",
      "metadata": {
        "id": "6NVdJuUPBvgU"
      },
      "source": [
        "q2 = \"Саша и Маша\""
      ],
      "execution_count": 106,
      "outputs": []
    },
    {
      "cell_type": "code",
      "metadata": {
        "id": "pjOboYYcCB_W"
      },
      "source": [
        "list1 = []\n",
        "for i in q2.split(\" \"):\n",
        "  if i not in all_stopwords:\n",
        "    list1.append(i)"
      ],
      "execution_count": 107,
      "outputs": []
    },
    {
      "cell_type": "code",
      "metadata": {
        "colab": {
          "base_uri": "https://localhost:8080/",
          "height": 35
        },
        "id": "4NPjkzfiCpsr",
        "outputId": "cdaa5fe1-8bf1-41cb-fb45-965016e19842"
      },
      "source": [
        "(\" \").join(list1)"
      ],
      "execution_count": 108,
      "outputs": [
        {
          "output_type": "execute_result",
          "data": {
            "application/vnd.google.colaboratory.intrinsic+json": {
              "type": "string"
            },
            "text/plain": [
              "'Саша Маша'"
            ]
          },
          "metadata": {
            "tags": []
          },
          "execution_count": 108
        }
      ]
    },
    {
      "cell_type": "code",
      "metadata": {
        "colab": {
          "base_uri": "https://localhost:8080/"
        },
        "id": "v8sVR7S24cqr",
        "outputId": "7a1f6ef6-f970-460d-dd1d-b71dfac0512d"
      },
      "source": [
        "%%time\n",
        "list2 = []\n",
        "for j in df.text:\n",
        "  list1 = []\n",
        "  for i in j.split(\" \"):\n",
        "    if i not in all_stopwords:\n",
        "      list1.append(i)\n",
        "  \n",
        "  list2.append((\" \").join(list1))"
      ],
      "execution_count": 109,
      "outputs": [
        {
          "output_type": "stream",
          "text": [
            "CPU times: user 1.12 s, sys: 13.9 ms, total: 1.13 s\n",
            "Wall time: 1.14 s\n"
          ],
          "name": "stdout"
        }
      ]
    },
    {
      "cell_type": "code",
      "metadata": {
        "id": "wHis4s5sGV60"
      },
      "source": [
        "df.text = list2"
      ],
      "execution_count": 110,
      "outputs": []
    },
    {
      "cell_type": "markdown",
      "metadata": {
        "id": "4-i_WeAz5Zaz"
      },
      "source": [
        "Приведение к нижнему регистру и удаление пунктуации"
      ]
    },
    {
      "cell_type": "code",
      "metadata": {
        "id": "XFqdQssyrPrF"
      },
      "source": [
        "import re"
      ],
      "execution_count": 111,
      "outputs": []
    },
    {
      "cell_type": "code",
      "metadata": {
        "colab": {
          "base_uri": "https://localhost:8080/"
        },
        "id": "Wd2lV7H0VvUN",
        "outputId": "b5d67fb7-3ae1-48a1-8dd7-2ad490e5989b"
      },
      "source": [
        "%%time\n",
        "patterns = \"[0-9!#$%&'()*+,./:;<=>?@[\\]^_`{|}~—\\\"\\-]+\"\n",
        "pattern11 = re.compile(r'\\s+')\n",
        "\n",
        "list2 = []\n",
        "for j in df.text:\n",
        "  buff = j.lower()\n",
        "  buff = re.sub(patterns, '', buff)\n",
        "  buff = re.sub(pattern11, ' ', buff)\n",
        "  list2.append(buff)"
      ],
      "execution_count": 112,
      "outputs": [
        {
          "output_type": "stream",
          "text": [
            "CPU times: user 367 ms, sys: 5.96 ms, total: 373 ms\n",
            "Wall time: 374 ms\n"
          ],
          "name": "stdout"
        }
      ]
    },
    {
      "cell_type": "code",
      "metadata": {
        "id": "cWlTUxBW5dEw"
      },
      "source": [
        "df.text = list2"
      ],
      "execution_count": 113,
      "outputs": []
    },
    {
      "cell_type": "code",
      "metadata": {
        "colab": {
          "base_uri": "https://localhost:8080/"
        },
        "id": "0cjDdEojWnfr",
        "outputId": "4aed8998-74bc-4cb8-fdcf-292a79253dd2"
      },
      "source": [
        "df.text[:5]"
      ],
      "execution_count": 114,
      "outputs": [
        {
          "output_type": "execute_result",
          "data": {
            "text/plain": [
              "0    на трассе нижнекамскчистополь лесополосе пгт к...\n",
              "1    во дворе дома ленинградская отсутствуют парков...\n",
              "2    добрый день не осуществляется уборка снега цен...\n",
              "3    добрый день не осуществляется вывоз мусора тер...\n",
              "4    данном участке проезжей части улхалитова дома ...\n",
              "Name: text, dtype: object"
            ]
          },
          "metadata": {
            "tags": []
          },
          "execution_count": 114
        }
      ]
    },
    {
      "cell_type": "markdown",
      "metadata": {
        "id": "2hqHAqw8Oagc"
      },
      "source": [
        "# Остальное"
      ]
    },
    {
      "cell_type": "code",
      "metadata": {
        "id": "mVIqIPWtAk9y"
      },
      "source": [
        "from nltk.stem.snowball import SnowballStemmer"
      ],
      "execution_count": 115,
      "outputs": []
    },
    {
      "cell_type": "code",
      "metadata": {
        "id": "nWA-ULmTd5s5"
      },
      "source": [
        "stemmer = SnowballStemmer(\"russian\")\n",
        "def stm(doc):\n",
        "    tokens = []\n",
        "    for token in doc.split():\n",
        "      token = stemmer.stem(token)\n",
        "      tokens.append(token)\n",
        "    if len(tokens) > 0:\n",
        "        return (\" \").join(tokens)\n",
        "    return None"
      ],
      "execution_count": 116,
      "outputs": []
    },
    {
      "cell_type": "code",
      "metadata": {
        "id": "LX5i_iZcfZaG"
      },
      "source": [
        "df.text = df.text.apply(stm)"
      ],
      "execution_count": 117,
      "outputs": []
    },
    {
      "cell_type": "markdown",
      "metadata": {
        "id": "hQHW6v3cpNif"
      },
      "source": [
        "# Векторизация"
      ]
    },
    {
      "cell_type": "code",
      "metadata": {
        "id": "hbWuA455pM4j"
      },
      "source": [
        "from sklearn.feature_extraction.text import TfidfVectorizer\n",
        "from sklearn.preprocessing import StandardScaler\n",
        "from sklearn.model_selection import train_test_split"
      ],
      "execution_count": 118,
      "outputs": []
    },
    {
      "cell_type": "code",
      "metadata": {
        "colab": {
          "base_uri": "https://localhost:8080/",
          "height": 205
        },
        "id": "rUJqkeDxfyF-",
        "outputId": "06a871c9-7af4-4ace-fbba-f72218687e71"
      },
      "source": [
        "df.head()"
      ],
      "execution_count": 119,
      "outputs": [
        {
          "output_type": "execute_result",
          "data": {
            "text/html": [
              "<div>\n",
              "<style scoped>\n",
              "    .dataframe tbody tr th:only-of-type {\n",
              "        vertical-align: middle;\n",
              "    }\n",
              "\n",
              "    .dataframe tbody tr th {\n",
              "        vertical-align: top;\n",
              "    }\n",
              "\n",
              "    .dataframe thead th {\n",
              "        text-align: right;\n",
              "    }\n",
              "</style>\n",
              "<table border=\"1\" class=\"dataframe\">\n",
              "  <thead>\n",
              "    <tr style=\"text-align: right;\">\n",
              "      <th></th>\n",
              "      <th>category</th>\n",
              "      <th>text</th>\n",
              "    </tr>\n",
              "  </thead>\n",
              "  <tbody>\n",
              "    <tr>\n",
              "      <th>0</th>\n",
              "      <td>Благоустройство территории</td>\n",
              "      <td>на трасс нижнекамскчистопол лесополос пгт камс...</td>\n",
              "    </tr>\n",
              "    <tr>\n",
              "      <th>1</th>\n",
              "      <td>Благоустройство территории</td>\n",
              "      <td>во двор дом ленинградск отсутств парковочн мес...</td>\n",
              "    </tr>\n",
              "    <tr>\n",
              "      <th>2</th>\n",
              "      <td>Содержание и ремонт муниципальных дорог</td>\n",
              "      <td>добр ден не осуществля уборк снег центр город ...</td>\n",
              "    </tr>\n",
              "    <tr>\n",
              "      <th>3</th>\n",
              "      <td>Благоустройство территории</td>\n",
              "      <td>добр ден не осуществля вывоз мусор территор жи...</td>\n",
              "    </tr>\n",
              "    <tr>\n",
              "      <th>4</th>\n",
              "      <td>Содержание и ремонт муниципальных дорог</td>\n",
              "      <td>дан участк проезж част улхалитов дом № улхалит...</td>\n",
              "    </tr>\n",
              "  </tbody>\n",
              "</table>\n",
              "</div>"
            ],
            "text/plain": [
              "                                  category                                               text\n",
              "0               Благоустройство территории  на трасс нижнекамскчистопол лесополос пгт камс...\n",
              "1               Благоустройство территории  во двор дом ленинградск отсутств парковочн мес...\n",
              "2  Содержание и ремонт муниципальных дорог  добр ден не осуществля уборк снег центр город ...\n",
              "3               Благоустройство территории  добр ден не осуществля вывоз мусор территор жи...\n",
              "4  Содержание и ремонт муниципальных дорог  дан участк проезж част улхалитов дом № улхалит..."
            ]
          },
          "metadata": {
            "tags": []
          },
          "execution_count": 119
        }
      ]
    },
    {
      "cell_type": "code",
      "metadata": {
        "id": "z6OL_Ou7rnhU"
      },
      "source": [
        "X = df.text\n",
        "y = df.category"
      ],
      "execution_count": 120,
      "outputs": []
    },
    {
      "cell_type": "code",
      "metadata": {
        "id": "sS580sKlrhPa"
      },
      "source": [
        "X_train, X_test, y_train, y_test = train_test_split(X, y, test_size = 0.20, stratify = y)\n",
        "X_train = X_train.reset_index(drop = True)\n",
        "y_train = y_train.reset_index(drop = True)\n",
        "X_test = X_test.reset_index(drop = True)\n",
        "y_test = y_test.reset_index(drop = True)"
      ],
      "execution_count": 121,
      "outputs": []
    },
    {
      "cell_type": "code",
      "metadata": {
        "id": "sqK5xq1bpgqt"
      },
      "source": [
        "vectorizer = TfidfVectorizer(max_features = 10000)"
      ],
      "execution_count": 122,
      "outputs": []
    },
    {
      "cell_type": "code",
      "metadata": {
        "id": "mTj_qBHLfyIc"
      },
      "source": [
        "X_train = vectorizer.fit_transform(X_train)\n",
        "X_test = vectorizer.transform(X_test)"
      ],
      "execution_count": 123,
      "outputs": []
    },
    {
      "cell_type": "code",
      "metadata": {
        "id": "6D37pg6oqNdd"
      },
      "source": [
        "from sklearn.svm import SVC\n",
        "from sklearn.metrics import classification_report, f1_score"
      ],
      "execution_count": 124,
      "outputs": []
    },
    {
      "cell_type": "code",
      "metadata": {
        "id": "BU94AxCMqmy7",
        "colab": {
          "base_uri": "https://localhost:8080/"
        },
        "outputId": "13c04125-0fac-4dff-c0cd-1ba07c55ffcc"
      },
      "source": [
        "%%time\n",
        "model_SVC = SVC(C = 1, kernel = 'linear')\n",
        "model_SVC.fit(X_train, y_train)\n",
        "res = model_SVC.predict(X_test)"
      ],
      "execution_count": 125,
      "outputs": [
        {
          "output_type": "stream",
          "text": [
            "CPU times: user 56.2 s, sys: 308 ms, total: 56.5 s\n",
            "Wall time: 56.4 s\n"
          ],
          "name": "stdout"
        }
      ]
    },
    {
      "cell_type": "code",
      "metadata": {
        "id": "FzwZU78gvMaA",
        "colab": {
          "base_uri": "https://localhost:8080/"
        },
        "outputId": "8b3cd047-1d15-4f0f-c23c-afd1beb2e899"
      },
      "source": [
        "f1_svm = f1_score(y_test, res, average='macro')\n",
        "f1_svm"
      ],
      "execution_count": 126,
      "outputs": [
        {
          "output_type": "execute_result",
          "data": {
            "text/plain": [
              "0.591859054448229"
            ]
          },
          "metadata": {
            "tags": []
          },
          "execution_count": 126
        }
      ]
    },
    {
      "cell_type": "code",
      "metadata": {
        "id": "6u-gNCOAqvK7",
        "colab": {
          "base_uri": "https://localhost:8080/"
        },
        "outputId": "2277bf7d-90be-4948-f4f5-1fdd117355ba"
      },
      "source": [
        "print(classification_report(y_test, res))"
      ],
      "execution_count": 127,
      "outputs": [
        {
          "output_type": "stream",
          "text": [
            "                                                         precision    recall  f1-score   support\n",
            "\n",
            "                                                 Cвалки       0.62      0.36      0.45        67\n",
            "                                     Бездомные животные       0.97      0.94      0.95       145\n",
            "                             Благоустройство территории       0.80      0.85      0.83      2593\n",
            "                                                   Вода       0.00      0.00      0.00         5\n",
            "                                                 Воздух       1.00      0.83      0.91        29\n",
            "                                           Детские сады       0.88      0.28      0.42        25\n",
            "                                        Доступная среда       0.88      0.44      0.58        16\n",
            "                                 Жилищное строительство       0.00      0.00      0.00         7\n",
            "                                     Капитальный ремонт       0.79      0.44      0.56        25\n",
            "                                        Мобильная связь       0.98      1.00      0.99        40\n",
            "                           Нарушение в наружной рекламе       0.92      0.93      0.92       416\n",
            "                                 Общественный транспорт       0.86      0.79      0.82       187\n",
            "                         Организация дорожного движения       0.86      0.84      0.85       408\n",
            "                                         Парки и скверы       0.78      0.38      0.51        81\n",
            "                                 Поликлиники и больницы       0.99      0.84      0.91       105\n",
            "                                                  Почта       1.00      0.56      0.71         9\n",
            "                             Работа спортивных объектов       0.00      0.00      0.00         5\n",
            "                                                 Разное       1.00      0.33      0.50        24\n",
            "                                   Санитарное состояние       0.85      0.61      0.71        18\n",
            "                Содержание и ремонт муниципальных дорог       0.78      0.80      0.79      1390\n",
            "Содержание и ремонт федеральных и республиканских дорог       0.00      0.00      0.00         8\n",
            "\n",
            "                                               accuracy                           0.82      5603\n",
            "                                              macro avg       0.71      0.53      0.59      5603\n",
            "                                           weighted avg       0.82      0.82      0.81      5603\n",
            "\n"
          ],
          "name": "stdout"
        }
      ]
    },
    {
      "cell_type": "code",
      "metadata": {
        "id": "NTUR7NK-veBI"
      },
      "source": [
        "from sklearn.ensemble import RandomForestClassifier"
      ],
      "execution_count": 128,
      "outputs": []
    },
    {
      "cell_type": "code",
      "metadata": {
        "id": "4698YWrxtNXV",
        "colab": {
          "base_uri": "https://localhost:8080/"
        },
        "outputId": "09bc0ec5-b064-48e9-c7e8-f6974ed66220"
      },
      "source": [
        "%%time\n",
        "model_SVC = RandomForestClassifier()\n",
        "model_SVC.fit(X_train, y_train)\n",
        "res = model_SVC.predict(X_test)"
      ],
      "execution_count": 129,
      "outputs": [
        {
          "output_type": "stream",
          "text": [
            "CPU times: user 41.9 s, sys: 82.7 ms, total: 42 s\n",
            "Wall time: 41.9 s\n"
          ],
          "name": "stdout"
        }
      ]
    },
    {
      "cell_type": "code",
      "metadata": {
        "id": "-Md0unhevigH",
        "colab": {
          "base_uri": "https://localhost:8080/"
        },
        "outputId": "d0e7435b-06d7-4af0-dd6b-99d81a1c4d4d"
      },
      "source": [
        "f1_rf = f1_score(y_test, res, average='macro')\n",
        "f1_rf"
      ],
      "execution_count": 130,
      "outputs": [
        {
          "output_type": "execute_result",
          "data": {
            "text/plain": [
              "0.5268914750612422"
            ]
          },
          "metadata": {
            "tags": []
          },
          "execution_count": 130
        }
      ]
    },
    {
      "cell_type": "code",
      "metadata": {
        "id": "RFtP7IDUvx2l"
      },
      "source": [
        "from sklearn.neighbors import KNeighborsClassifier"
      ],
      "execution_count": 131,
      "outputs": []
    },
    {
      "cell_type": "code",
      "metadata": {
        "id": "snLEHubGv6mn",
        "colab": {
          "base_uri": "https://localhost:8080/"
        },
        "outputId": "2ea61eee-924c-4a21-c256-dbdf256c2d59"
      },
      "source": [
        "%%time\n",
        "model_SVC = KNeighborsClassifier()\n",
        "model_SVC.fit(X_train, y_train)\n",
        "res = model_SVC.predict(X_test)"
      ],
      "execution_count": 132,
      "outputs": [
        {
          "output_type": "stream",
          "text": [
            "CPU times: user 6.5 s, sys: 594 ms, total: 7.1 s\n",
            "Wall time: 7.06 s\n"
          ],
          "name": "stdout"
        }
      ]
    },
    {
      "cell_type": "code",
      "metadata": {
        "id": "78Nuuf-V5gLD"
      },
      "source": [
        "def getFeedbackMessage(requestCategory):\n",
        "  message = 'Спасибо. '\n",
        "  if requestCategory == 'Благоустройство территории':\n",
        "    message = message + 'Ваше обращение отправлено в департамент благоустройства.'\n",
        "  if requestCategory == 'Содержание и ремонт муниципальных дорог':\n",
        "    message = message + 'Ваше обращение отправлено в департамент дорожного строительства.'\n",
        "  return message"
      ],
      "execution_count": 136,
      "outputs": []
    },
    {
      "cell_type": "code",
      "metadata": {
        "id": "aHk1BFrDaM4E",
        "outputId": "231dcbbe-6778-4626-b3aa-4daad5f2184e",
        "colab": {
          "base_uri": "https://localhost:8080/"
        }
      },
      "source": [
        "while True:\n",
        "  request = input('Ваше сообщение > ')\n",
        "  if request == 'спасибо':\n",
        "    print('Благодарим за обращение!')\n",
        "    break\n",
        "  classificationResult = model_SVC.predict(vectorizer.transform([request]))\n",
        "  print(getFeedbackMessage(classificationResult))"
      ],
      "execution_count": 137,
      "outputs": [
        {
          "output_type": "stream",
          "text": [
            "Ваше сообщение > мусор на улице\n",
            "Спасибо. Ваше обращение отправлено в департамент благоустройства.\n",
            "Ваше сообщение > спасибо\n",
            "Благодарим за обращение!\n"
          ],
          "name": "stdout"
        }
      ]
    }
  ]
}